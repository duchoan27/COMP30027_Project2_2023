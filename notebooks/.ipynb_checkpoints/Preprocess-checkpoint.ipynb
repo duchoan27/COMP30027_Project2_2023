{
 "cells": [
  {
   "cell_type": "code",
   "execution_count": 1,
   "id": "e686ccfc-567b-4448-a1e4-c91c90a646fb",
   "metadata": {},
   "outputs": [],
   "source": [
    "import pandas as pd\n",
    "import numpy as np\n",
    "from sklearn.preprocessing import OneHotEncoder\n",
    "from sklearn.feature_selection import SelectKBest, chi2"
   ]
  },
  {
   "cell_type": "markdown",
   "id": "8b10c250-6793-4fc6-850d-f3e45ae49ac7",
   "metadata": {
    "tags": []
   },
   "source": [
    "### Load the data"
   ]
  },
  {
   "cell_type": "code",
   "execution_count": 2,
   "id": "7b7c6381-ac6b-4560-b201-c7565866daf5",
   "metadata": {},
   "outputs": [],
   "source": [
    "# Training data \n",
    "train_data = pd.read_csv(\"../data/book_rating_train.csv\", index_col = False, delimiter = ',', header=0)"
   ]
  },
  {
   "cell_type": "code",
   "execution_count": 3,
   "id": "17e7f903-e89a-49ab-be5e-dd3be7e54287",
   "metadata": {},
   "outputs": [],
   "source": [
    "train_data_X = train_data.iloc[:, :-1]\n",
    "train_data_y = train_data.iloc[:, -1]"
   ]
  },
  {
   "cell_type": "code",
   "execution_count": 4,
   "id": "fd2ca2df-ba5d-4031-bac8-8faf921596c5",
   "metadata": {},
   "outputs": [
    {
     "data": {
      "text/plain": [
       "(23063, 10)"
      ]
     },
     "execution_count": 4,
     "metadata": {},
     "output_type": "execute_result"
    }
   ],
   "source": [
    "train_data.shape"
   ]
  },
  {
   "cell_type": "code",
   "execution_count": 5,
   "id": "01ac2a19-76f1-4523-92f6-64bcd57d1633",
   "metadata": {},
   "outputs": [],
   "source": [
    "train_test_ratio = 0.8\n",
    "split_position = int(train_test_ratio * train_data.shape[0])\n",
    "y_train = train_data_y.iloc[:split_position]\n",
    "y_test = train_data_y.iloc[split_position:]"
   ]
  },
  {
   "cell_type": "markdown",
   "id": "c49770f1-f029-494f-a747-c39eeecd5b77",
   "metadata": {},
   "source": [
    "# Preprocess"
   ]
  },
  {
   "cell_type": "markdown",
   "id": "dcb53f4c-0811-4d23-ac0f-8ee9746c0b79",
   "metadata": {
    "tags": []
   },
   "source": [
    "### Dealing with Missing Data"
   ]
  },
  {
   "cell_type": "code",
   "execution_count": 6,
   "id": "d64a86bb-92d6-4574-aadb-af822ed2dc62",
   "metadata": {},
   "outputs": [
    {
     "data": {
      "text/plain": [
       "Publisher    0.006417\n",
       "Language     0.745870\n",
       "dtype: float64"
      ]
     },
     "execution_count": 6,
     "metadata": {},
     "output_type": "execute_result"
    }
   ],
   "source": [
    "missing_df = train_data_X.isna().sum() / train_data_X.shape[0]\n",
    "missing_df.loc[missing_df.values > 0]"
   ]
  },
  {
   "cell_type": "code",
   "execution_count": 7,
   "id": "23cf74a3-7ecf-454a-b2d2-7057fe4590e4",
   "metadata": {},
   "outputs": [
    {
     "data": {
      "text/html": [
       "<div>\n",
       "<style scoped>\n",
       "    .dataframe tbody tr th:only-of-type {\n",
       "        vertical-align: middle;\n",
       "    }\n",
       "\n",
       "    .dataframe tbody tr th {\n",
       "        vertical-align: top;\n",
       "    }\n",
       "\n",
       "    .dataframe thead th {\n",
       "        text-align: right;\n",
       "    }\n",
       "</style>\n",
       "<table border=\"1\" class=\"dataframe\">\n",
       "  <thead>\n",
       "    <tr style=\"text-align: right;\">\n",
       "      <th></th>\n",
       "      <th>Name</th>\n",
       "      <th>Authors</th>\n",
       "      <th>PublishYear</th>\n",
       "      <th>PublishMonth</th>\n",
       "      <th>PublishDay</th>\n",
       "      <th>Publisher</th>\n",
       "      <th>Language</th>\n",
       "      <th>pagesNumber</th>\n",
       "      <th>Description</th>\n",
       "      <th>rating_label</th>\n",
       "    </tr>\n",
       "  </thead>\n",
       "  <tbody>\n",
       "    <tr>\n",
       "      <th>305</th>\n",
       "      <td>UNIX System V release 4 : an introduction for ...</td>\n",
       "      <td>Kenneth H. Rosen</td>\n",
       "      <td>1996</td>\n",
       "      <td>2</td>\n",
       "      <td>1</td>\n",
       "      <td>NA</td>\n",
       "      <td>NaN</td>\n",
       "      <td>1175</td>\n",
       "      <td>An informative introductory text to the UNIX o...</td>\n",
       "      <td>3.0</td>\n",
       "    </tr>\n",
       "    <tr>\n",
       "      <th>573</th>\n",
       "      <td>El abismo en el tiempo</td>\n",
       "      <td>H.P. Lovecraft</td>\n",
       "      <td>1998</td>\n",
       "      <td>2</td>\n",
       "      <td>28</td>\n",
       "      <td>NA</td>\n",
       "      <td>spa</td>\n",
       "      <td>100</td>\n",
       "      <td>“The Shadow out of Time” is H. P. Lovecraft’s ...</td>\n",
       "      <td>4.0</td>\n",
       "    </tr>\n",
       "    <tr>\n",
       "      <th>574</th>\n",
       "      <td>Anne of Windy Willows</td>\n",
       "      <td>L.M. Montgomery</td>\n",
       "      <td>1994</td>\n",
       "      <td>5</td>\n",
       "      <td>1</td>\n",
       "      <td>NA</td>\n",
       "      <td>NaN</td>\n",
       "      <td>240</td>\n",
       "      <td>Anne Shirley has left Redmond College behind t...</td>\n",
       "      <td>4.0</td>\n",
       "    </tr>\n",
       "    <tr>\n",
       "      <th>579</th>\n",
       "      <td>Poor Liza</td>\n",
       "      <td>Nikolay Karamzin</td>\n",
       "      <td>2010</td>\n",
       "      <td>10</td>\n",
       "      <td>15</td>\n",
       "      <td>NA</td>\n",
       "      <td>NaN</td>\n",
       "      <td>80</td>\n",
       "      <td>Nikolaj Karamzin (1766-1826) is vooral bekend ...</td>\n",
       "      <td>3.0</td>\n",
       "    </tr>\n",
       "    <tr>\n",
       "      <th>626</th>\n",
       "      <td>Adventures in Odyssey: Darkness Before Dawn</td>\n",
       "      <td>AIO Team</td>\n",
       "      <td>2004</td>\n",
       "      <td>11</td>\n",
       "      <td>4</td>\n",
       "      <td>NA</td>\n",
       "      <td>NaN</td>\n",
       "      <td>4</td>\n",
       "      <td>An unprecedented wave of criminal activity has...</td>\n",
       "      <td>5.0</td>\n",
       "    </tr>\n",
       "    <tr>\n",
       "      <th>...</th>\n",
       "      <td>...</td>\n",
       "      <td>...</td>\n",
       "      <td>...</td>\n",
       "      <td>...</td>\n",
       "      <td>...</td>\n",
       "      <td>...</td>\n",
       "      <td>...</td>\n",
       "      <td>...</td>\n",
       "      <td>...</td>\n",
       "      <td>...</td>\n",
       "    </tr>\n",
       "    <tr>\n",
       "      <th>22187</th>\n",
       "      <td>Seasons of the Wild: A Year of Nature's Magic ...</td>\n",
       "      <td>Sy Montgomery</td>\n",
       "      <td>1996</td>\n",
       "      <td>3</td>\n",
       "      <td>1</td>\n",
       "      <td>NA</td>\n",
       "      <td>NaN</td>\n",
       "      <td>152</td>\n",
       "      <td>\"Award-winning author Sy Montgomery takes read...</td>\n",
       "      <td>4.0</td>\n",
       "    </tr>\n",
       "    <tr>\n",
       "      <th>22491</th>\n",
       "      <td>P.S. We'll Miss You (Friends-4-Ever, #1)</td>\n",
       "      <td>Deirdre Corey</td>\n",
       "      <td>1990</td>\n",
       "      <td>4</td>\n",
       "      <td>10</td>\n",
       "      <td>NA</td>\n",
       "      <td>eng</td>\n",
       "      <td>121</td>\n",
       "      <td>Don't forget to write!&lt;br /&gt;&lt;br /&gt;Molly has ju...</td>\n",
       "      <td>4.0</td>\n",
       "    </tr>\n",
       "    <tr>\n",
       "      <th>22630</th>\n",
       "      <td>The Iron Man with the Adventures of Dennis Dorgan</td>\n",
       "      <td>Robert E. Howard</td>\n",
       "      <td>1983</td>\n",
       "      <td>10</td>\n",
       "      <td>1</td>\n",
       "      <td>NA</td>\n",
       "      <td>eng</td>\n",
       "      <td>232</td>\n",
       "      <td>Robert E. Howard, creator of &lt;b&gt;CONAN THE BARB...</td>\n",
       "      <td>4.0</td>\n",
       "    </tr>\n",
       "    <tr>\n",
       "      <th>22631</th>\n",
       "      <td>Day of Descent</td>\n",
       "      <td>Judith Reeves-Stevens</td>\n",
       "      <td>1993</td>\n",
       "      <td>12</td>\n",
       "      <td>31</td>\n",
       "      <td>NA</td>\n",
       "      <td>NaN</td>\n",
       "      <td>404</td>\n",
       "      <td>The long-awaited first, original novel based o...</td>\n",
       "      <td>4.0</td>\n",
       "    </tr>\n",
       "    <tr>\n",
       "      <th>22730</th>\n",
       "      <td>Fire From a Journal of Love</td>\n",
       "      <td>Anaïs Nin</td>\n",
       "      <td>1996</td>\n",
       "      <td>3</td>\n",
       "      <td>7</td>\n",
       "      <td>NA</td>\n",
       "      <td>NaN</td>\n",
       "      <td>448</td>\n",
       "      <td>In this “erotically charged”(Publishers Weekly...</td>\n",
       "      <td>4.0</td>\n",
       "    </tr>\n",
       "  </tbody>\n",
       "</table>\n",
       "<p>148 rows × 10 columns</p>\n",
       "</div>"
      ],
      "text/plain": [
       "                                                    Name  \\\n",
       "305    UNIX System V release 4 : an introduction for ...   \n",
       "573                               El abismo en el tiempo   \n",
       "574                                Anne of Windy Willows   \n",
       "579                                            Poor Liza   \n",
       "626          Adventures in Odyssey: Darkness Before Dawn   \n",
       "...                                                  ...   \n",
       "22187  Seasons of the Wild: A Year of Nature's Magic ...   \n",
       "22491           P.S. We'll Miss You (Friends-4-Ever, #1)   \n",
       "22630  The Iron Man with the Adventures of Dennis Dorgan   \n",
       "22631                                     Day of Descent   \n",
       "22730                        Fire From a Journal of Love   \n",
       "\n",
       "                     Authors  PublishYear  PublishMonth  PublishDay Publisher  \\\n",
       "305         Kenneth H. Rosen         1996             2           1        NA   \n",
       "573           H.P. Lovecraft         1998             2          28        NA   \n",
       "574          L.M. Montgomery         1994             5           1        NA   \n",
       "579         Nikolay Karamzin         2010            10          15        NA   \n",
       "626                 AIO Team         2004            11           4        NA   \n",
       "...                      ...          ...           ...         ...       ...   \n",
       "22187          Sy Montgomery         1996             3           1        NA   \n",
       "22491          Deirdre Corey         1990             4          10        NA   \n",
       "22630       Robert E. Howard         1983            10           1        NA   \n",
       "22631  Judith Reeves-Stevens         1993            12          31        NA   \n",
       "22730              Anaïs Nin         1996             3           7        NA   \n",
       "\n",
       "      Language  pagesNumber  \\\n",
       "305        NaN         1175   \n",
       "573        spa          100   \n",
       "574        NaN          240   \n",
       "579        NaN           80   \n",
       "626        NaN            4   \n",
       "...        ...          ...   \n",
       "22187      NaN          152   \n",
       "22491      eng          121   \n",
       "22630      eng          232   \n",
       "22631      NaN          404   \n",
       "22730      NaN          448   \n",
       "\n",
       "                                             Description  rating_label  \n",
       "305    An informative introductory text to the UNIX o...           3.0  \n",
       "573    “The Shadow out of Time” is H. P. Lovecraft’s ...           4.0  \n",
       "574    Anne Shirley has left Redmond College behind t...           4.0  \n",
       "579    Nikolaj Karamzin (1766-1826) is vooral bekend ...           3.0  \n",
       "626    An unprecedented wave of criminal activity has...           5.0  \n",
       "...                                                  ...           ...  \n",
       "22187  \"Award-winning author Sy Montgomery takes read...           4.0  \n",
       "22491  Don't forget to write!<br /><br />Molly has ju...           4.0  \n",
       "22630  Robert E. Howard, creator of <b>CONAN THE BARB...           4.0  \n",
       "22631  The long-awaited first, original novel based o...           4.0  \n",
       "22730  In this “erotically charged”(Publishers Weekly...           4.0  \n",
       "\n",
       "[148 rows x 10 columns]"
      ]
     },
     "execution_count": 7,
     "metadata": {},
     "output_type": "execute_result"
    }
   ],
   "source": [
    "train_data[\"Publisher\"] = train_data[\"Publisher\"].fillna(\"NA\")\n",
    "train_data.loc[train_data[\"Publisher\"] == \"NA\"]"
   ]
  },
  {
   "cell_type": "markdown",
   "id": "fbe40f66-1ac6-48d5-978c-2fb3799eeb8e",
   "metadata": {},
   "source": [
    "<li> In the feature _\"Language\"_, there is nearly 75% missing data. Having a look at the distribution of the rating label of the whole training data and the missing data:"
   ]
  },
  {
   "cell_type": "code",
   "execution_count": 8,
   "id": "b45a9807-e060-4d81-98ef-b6847d99a466",
   "metadata": {},
   "outputs": [],
   "source": [
    "# Full training dataset\n",
    "full_label = train_data[\"rating_label\"].value_counts() / train_data.shape[0] * 100\n",
    "\n",
    "# Missing label in \"language\" column\n",
    "train_lan_na = train_data.loc[train_data[\"Language\"].isna()][\"rating_label\"]\n",
    "train_lan_na_unique = train_lan_na.value_counts()\n",
    "na_lan = train_lan_na_unique/train_lan_na.shape[0] * 100\n",
    "\n",
    "label_dist = pd.DataFrame({'Full': full_label,\n",
    "                           'Missing': na_lan})"
   ]
  },
  {
   "cell_type": "code",
   "execution_count": 9,
   "id": "5bd36c58-d08d-4214-9623-611ca10859dd",
   "metadata": {},
   "outputs": [],
   "source": [
    "train_lan = train_data[\"Language\"]\n",
    "lan_count = train_lan.value_counts()\n",
    "\n",
    "for lan in lan_count.index:\n",
    "    if (lan_count[lan] < 100):\n",
    "        continue\n",
    "    train_currLan = train_data.loc[train_data[\"Language\"] == lan][\"rating_label\"]\n",
    "    currLan_sr = train_currLan.value_counts() / train_currLan.shape[0] * 100\n",
    "    label_dist[lan] = currLan_sr"
   ]
  },
  {
   "cell_type": "code",
   "execution_count": 10,
   "id": "468510b1-2ef3-4078-b7bf-fb5bcad1ff54",
   "metadata": {},
   "outputs": [
    {
     "data": {
      "text/html": [
       "<div>\n",
       "<style scoped>\n",
       "    .dataframe tbody tr th:only-of-type {\n",
       "        vertical-align: middle;\n",
       "    }\n",
       "\n",
       "    .dataframe tbody tr th {\n",
       "        vertical-align: top;\n",
       "    }\n",
       "\n",
       "    .dataframe thead th {\n",
       "        text-align: right;\n",
       "    }\n",
       "</style>\n",
       "<table border=\"1\" class=\"dataframe\">\n",
       "  <thead>\n",
       "    <tr style=\"text-align: right;\">\n",
       "      <th></th>\n",
       "      <th>Full</th>\n",
       "      <th>Missing</th>\n",
       "      <th>eng</th>\n",
       "      <th>fre</th>\n",
       "      <th>spa</th>\n",
       "    </tr>\n",
       "  </thead>\n",
       "  <tbody>\n",
       "    <tr>\n",
       "      <th>4.0</th>\n",
       "      <td>70.277067</td>\n",
       "      <td>67.672364</td>\n",
       "      <td>78.128440</td>\n",
       "      <td>73.376623</td>\n",
       "      <td>79.194631</td>\n",
       "    </tr>\n",
       "    <tr>\n",
       "      <th>3.0</th>\n",
       "      <td>25.426007</td>\n",
       "      <td>27.467736</td>\n",
       "      <td>19.357798</td>\n",
       "      <td>22.077922</td>\n",
       "      <td>18.791946</td>\n",
       "    </tr>\n",
       "    <tr>\n",
       "      <th>5.0</th>\n",
       "      <td>4.296926</td>\n",
       "      <td>4.859900</td>\n",
       "      <td>2.513761</td>\n",
       "      <td>4.545455</td>\n",
       "      <td>2.013423</td>\n",
       "    </tr>\n",
       "  </tbody>\n",
       "</table>\n",
       "</div>"
      ],
      "text/plain": [
       "          Full    Missing        eng        fre        spa\n",
       "4.0  70.277067  67.672364  78.128440  73.376623  79.194631\n",
       "3.0  25.426007  27.467736  19.357798  22.077922  18.791946\n",
       "5.0   4.296926   4.859900   2.513761   4.545455   2.013423"
      ]
     },
     "execution_count": 10,
     "metadata": {},
     "output_type": "execute_result"
    }
   ],
   "source": [
    "label_dist"
   ]
  },
  {
   "cell_type": "markdown",
   "id": "ae3f5fcd-feea-488d-a8d7-1ca8014f9155",
   "metadata": {},
   "source": [
    "As we can see, the distribution of the labels in each category is close to each other. Hence, knowing the value of feature _\"Language\"_ does not give us any information about the class label in this training data.\n",
    "<br> We do not include this feature from the dataset."
   ]
  },
  {
   "cell_type": "code",
   "execution_count": 11,
   "id": "e573decd-a345-4610-aeff-435b1bbdcee0",
   "metadata": {},
   "outputs": [
    {
     "data": {
      "text/html": [
       "<div>\n",
       "<style scoped>\n",
       "    .dataframe tbody tr th:only-of-type {\n",
       "        vertical-align: middle;\n",
       "    }\n",
       "\n",
       "    .dataframe tbody tr th {\n",
       "        vertical-align: top;\n",
       "    }\n",
       "\n",
       "    .dataframe thead th {\n",
       "        text-align: right;\n",
       "    }\n",
       "</style>\n",
       "<table border=\"1\" class=\"dataframe\">\n",
       "  <thead>\n",
       "    <tr style=\"text-align: right;\">\n",
       "      <th></th>\n",
       "      <th>Name</th>\n",
       "      <th>Authors</th>\n",
       "      <th>PublishYear</th>\n",
       "      <th>PublishMonth</th>\n",
       "      <th>PublishDay</th>\n",
       "      <th>Publisher</th>\n",
       "      <th>pagesNumber</th>\n",
       "      <th>Description</th>\n",
       "    </tr>\n",
       "  </thead>\n",
       "  <tbody>\n",
       "    <tr>\n",
       "      <th>0</th>\n",
       "      <td>Best of Dr Jean: Reading &amp; Writing</td>\n",
       "      <td>Jean R. Feldman</td>\n",
       "      <td>2005</td>\n",
       "      <td>6</td>\n",
       "      <td>1</td>\n",
       "      <td>Teaching Resources</td>\n",
       "      <td>48</td>\n",
       "      <td>Teachers will turn to this treasury of ideas a...</td>\n",
       "    </tr>\n",
       "    <tr>\n",
       "      <th>1</th>\n",
       "      <td>Here All Dwell Free</td>\n",
       "      <td>Gertrud Mueller Nelson</td>\n",
       "      <td>1991</td>\n",
       "      <td>10</td>\n",
       "      <td>1</td>\n",
       "      <td>DoubleDay</td>\n",
       "      <td>364</td>\n",
       "      <td>Every human being lives a fairy tale -- an unc...</td>\n",
       "    </tr>\n",
       "    <tr>\n",
       "      <th>2</th>\n",
       "      <td>Boomer's Big Surprise</td>\n",
       "      <td>Constance W. McGeorge</td>\n",
       "      <td>2005</td>\n",
       "      <td>3</td>\n",
       "      <td>31</td>\n",
       "      <td>Chronicle Books</td>\n",
       "      <td>32</td>\n",
       "      <td>&lt;i&gt;Boomer's Big Surprise&lt;/i&gt; will have special...</td>\n",
       "    </tr>\n",
       "    <tr>\n",
       "      <th>3</th>\n",
       "      <td>I'll Go and Do More: Annie Dodge Wauneka, Nava...</td>\n",
       "      <td>Carolyn Niethammer</td>\n",
       "      <td>2004</td>\n",
       "      <td>9</td>\n",
       "      <td>1</td>\n",
       "      <td>Bison Books</td>\n",
       "      <td>293</td>\n",
       "      <td>&lt;i&gt;I'll Go and Do More&lt;/i&gt; is the story of Ann...</td>\n",
       "    </tr>\n",
       "    <tr>\n",
       "      <th>4</th>\n",
       "      <td>Us</td>\n",
       "      <td>Richard       Mason</td>\n",
       "      <td>2005</td>\n",
       "      <td>7</td>\n",
       "      <td>7</td>\n",
       "      <td>Penguin Books Ltd</td>\n",
       "      <td>352</td>\n",
       "      <td>Since their days at Oxford, they've gone their...</td>\n",
       "    </tr>\n",
       "    <tr>\n",
       "      <th>...</th>\n",
       "      <td>...</td>\n",
       "      <td>...</td>\n",
       "      <td>...</td>\n",
       "      <td>...</td>\n",
       "      <td>...</td>\n",
       "      <td>...</td>\n",
       "      <td>...</td>\n",
       "      <td>...</td>\n",
       "    </tr>\n",
       "    <tr>\n",
       "      <th>23058</th>\n",
       "      <td>Black Coffee Blues</td>\n",
       "      <td>Henry Rollins</td>\n",
       "      <td>1997</td>\n",
       "      <td>8</td>\n",
       "      <td>1</td>\n",
       "      <td>2.13.61</td>\n",
       "      <td>120</td>\n",
       "      <td>\"If I lose the light of the sun, I will write ...</td>\n",
       "    </tr>\n",
       "    <tr>\n",
       "      <th>23059</th>\n",
       "      <td>America's Champion Swimmer: Gertrude Ederle</td>\n",
       "      <td>David A. Adler</td>\n",
       "      <td>2005</td>\n",
       "      <td>6</td>\n",
       "      <td>1</td>\n",
       "      <td>HMH Books for Young Readers</td>\n",
       "      <td>32</td>\n",
       "      <td>Trudy Ederle loved to swim, and she was determ...</td>\n",
       "    </tr>\n",
       "    <tr>\n",
       "      <th>23060</th>\n",
       "      <td>Crime and Custom in Savage Society</td>\n",
       "      <td>Bronisław Malinowski</td>\n",
       "      <td>1989</td>\n",
       "      <td>2</td>\n",
       "      <td>15</td>\n",
       "      <td>Rowman &amp; Littlefield Publishers</td>\n",
       "      <td>132</td>\n",
       "      <td>Bronislaw Malinowski achieved international re...</td>\n",
       "    </tr>\n",
       "    <tr>\n",
       "      <th>23061</th>\n",
       "      <td>The Name and Nature of Poetry and Other Select...</td>\n",
       "      <td>A.E. Housman</td>\n",
       "      <td>1998</td>\n",
       "      <td>4</td>\n",
       "      <td>21</td>\n",
       "      <td>New Amsterdam Books</td>\n",
       "      <td>136</td>\n",
       "      <td>Lovers of Housman's poetry and admirers of his...</td>\n",
       "    </tr>\n",
       "    <tr>\n",
       "      <th>23062</th>\n",
       "      <td>Redemption (Sevens, #7)</td>\n",
       "      <td>Scott Wallens</td>\n",
       "      <td>2002</td>\n",
       "      <td>7</td>\n",
       "      <td>8</td>\n",
       "      <td>Puffin</td>\n",
       "      <td>192</td>\n",
       "      <td>Before the accident, Peter spent every weekend...</td>\n",
       "    </tr>\n",
       "  </tbody>\n",
       "</table>\n",
       "<p>23063 rows × 8 columns</p>\n",
       "</div>"
      ],
      "text/plain": [
       "                                                    Name  \\\n",
       "0                     Best of Dr Jean: Reading & Writing   \n",
       "1                                    Here All Dwell Free   \n",
       "2                                  Boomer's Big Surprise   \n",
       "3      I'll Go and Do More: Annie Dodge Wauneka, Nava...   \n",
       "4                                                     Us   \n",
       "...                                                  ...   \n",
       "23058                                 Black Coffee Blues   \n",
       "23059        America's Champion Swimmer: Gertrude Ederle   \n",
       "23060                 Crime and Custom in Savage Society   \n",
       "23061  The Name and Nature of Poetry and Other Select...   \n",
       "23062                            Redemption (Sevens, #7)   \n",
       "\n",
       "                      Authors  PublishYear  PublishMonth  PublishDay  \\\n",
       "0             Jean R. Feldman         2005             6           1   \n",
       "1      Gertrud Mueller Nelson         1991            10           1   \n",
       "2       Constance W. McGeorge         2005             3          31   \n",
       "3          Carolyn Niethammer         2004             9           1   \n",
       "4         Richard       Mason         2005             7           7   \n",
       "...                       ...          ...           ...         ...   \n",
       "23058           Henry Rollins         1997             8           1   \n",
       "23059          David A. Adler         2005             6           1   \n",
       "23060    Bronisław Malinowski         1989             2          15   \n",
       "23061            A.E. Housman         1998             4          21   \n",
       "23062           Scott Wallens         2002             7           8   \n",
       "\n",
       "                             Publisher  pagesNumber  \\\n",
       "0                   Teaching Resources           48   \n",
       "1                            DoubleDay          364   \n",
       "2                      Chronicle Books           32   \n",
       "3                          Bison Books          293   \n",
       "4                    Penguin Books Ltd          352   \n",
       "...                                ...          ...   \n",
       "23058                          2.13.61          120   \n",
       "23059      HMH Books for Young Readers           32   \n",
       "23060  Rowman & Littlefield Publishers          132   \n",
       "23061              New Amsterdam Books          136   \n",
       "23062                           Puffin          192   \n",
       "\n",
       "                                             Description  \n",
       "0      Teachers will turn to this treasury of ideas a...  \n",
       "1      Every human being lives a fairy tale -- an unc...  \n",
       "2      <i>Boomer's Big Surprise</i> will have special...  \n",
       "3      <i>I'll Go and Do More</i> is the story of Ann...  \n",
       "4      Since their days at Oxford, they've gone their...  \n",
       "...                                                  ...  \n",
       "23058  \"If I lose the light of the sun, I will write ...  \n",
       "23059  Trudy Ederle loved to swim, and she was determ...  \n",
       "23060  Bronislaw Malinowski achieved international re...  \n",
       "23061  Lovers of Housman's poetry and admirers of his...  \n",
       "23062  Before the accident, Peter spent every weekend...  \n",
       "\n",
       "[23063 rows x 8 columns]"
      ]
     },
     "execution_count": 11,
     "metadata": {},
     "output_type": "execute_result"
    }
   ],
   "source": [
    "train_data_X = train_data_X.drop(columns = [\"Language\"])\n",
    "train_data_X"
   ]
  },
  {
   "cell_type": "markdown",
   "id": "525ac011-1756-49f5-b1e5-e9beb951f8db",
   "metadata": {
    "tags": []
   },
   "source": [
    "### Data Types Conversion"
   ]
  },
  {
   "cell_type": "markdown",
   "id": "6ec3c16b-436e-4772-8708-45d510c1f8ff",
   "metadata": {},
   "source": [
    "##### Authors & Publisher"
   ]
  },
  {
   "cell_type": "markdown",
   "id": "93955063-0d87-4d4e-8856-cd5f500912c1",
   "metadata": {},
   "source": [
    "Convert _\"Authors\"_ and _\"Publisher\"_ attributes to numerical type using one-hot encoding"
   ]
  },
  {
   "cell_type": "code",
   "execution_count": 12,
   "id": "630a46e4-642e-40b7-b981-b3bab51728ac",
   "metadata": {},
   "outputs": [],
   "source": [
    "authors_df = pd.DataFrame(train_data[\"Authors\"])\n",
    "publisher_df = pd.DataFrame(train_data[\"Publisher\"])"
   ]
  },
  {
   "cell_type": "code",
   "execution_count": 13,
   "id": "706be232-a507-4ce4-9fc2-22445c923b0e",
   "metadata": {},
   "outputs": [],
   "source": [
    "# Authors\n",
    "authors_ohe = OneHotEncoder()\n",
    "\n",
    "authors_ohe.fit(authors_df)\n",
    "authors_trans_ohe = authors_ohe.transform(authors_df).toarray()\n",
    "authors_trans_df = pd.DataFrame(authors_trans_ohe, columns=authors_ohe.get_feature_names_out())"
   ]
  },
  {
   "cell_type": "code",
   "execution_count": 14,
   "id": "77e7eba1-2d67-4795-b78d-2c25d4071331",
   "metadata": {},
   "outputs": [],
   "source": [
    "#Publisher\n",
    "publisher_ohe = OneHotEncoder()\n",
    "\n",
    "publisher_ohe.fit(publisher_df)\n",
    "publisher_trans_ohe = publisher_ohe.transform(publisher_df).toarray()\n",
    "publisher_trans_df = pd.DataFrame(publisher_trans_ohe, columns=publisher_ohe.get_feature_names_out())"
   ]
  },
  {
   "cell_type": "markdown",
   "id": "c51d8e8a-4df4-45b7-9f46-adb6c5862902",
   "metadata": {},
   "source": [
    "Select 10 best features from the one-hot encoded _\"Authors\"_ and _\"Publisher\"_ features."
   ]
  },
  {
   "cell_type": "markdown",
   "id": "4190efa1-cabc-4052-be37-1a9f3752a993",
   "metadata": {},
   "source": [
    "<li> Authors"
   ]
  },
  {
   "cell_type": "code",
   "execution_count": 15,
   "id": "c299ad62-af5f-4f7d-b10c-2571dee6a2e2",
   "metadata": {},
   "outputs": [],
   "source": [
    "# Authors\n",
    "authors_x2 = SelectKBest(chi2, k=10)\n",
    "authors_train = authors_trans_df[:split_position]\n",
    "authors_test = authors_trans_df[split_position:]\n",
    "\n",
    "authors_train_x2 = authors_x2.fit_transform(authors_train,y_train)\n",
    "authors_test_x2 = authors_x2.transform(authors_test)"
   ]
  },
  {
   "cell_type": "code",
   "execution_count": 16,
   "id": "53af9431-750f-4308-8ae6-26d78ae18239",
   "metadata": {},
   "outputs": [],
   "source": [
    "authors_features = []\n",
    "for feat_num in authors_x2.get_support(indices=True):\n",
    "    authors_features.append(authors_ohe.get_feature_names_out()[feat_num])"
   ]
  },
  {
   "cell_type": "code",
   "execution_count": 17,
   "id": "51eece3f-ab94-466d-b471-ccd7714d422c",
   "metadata": {},
   "outputs": [
    {
     "data": {
      "text/plain": [
       "['Authors_Anonymous',\n",
       " 'Authors_Carole Mortimer',\n",
       " 'Authors_Charles Fillmore',\n",
       " 'Authors_Creflo A. Dollar',\n",
       " 'Authors_M. Fethullah Gülen',\n",
       " 'Authors_Paramahansa Yogananda',\n",
       " 'Authors_Paul Metcalf',\n",
       " 'Authors_Peter Egan',\n",
       " 'Authors_Quino',\n",
       " 'Authors_W.E. Vine']"
      ]
     },
     "execution_count": 17,
     "metadata": {},
     "output_type": "execute_result"
    }
   ],
   "source": [
    "authors_features"
   ]
  },
  {
   "cell_type": "code",
   "execution_count": 18,
   "id": "e58bfe15-e580-442a-9cf4-46c85a0b2bb2",
   "metadata": {},
   "outputs": [],
   "source": [
    "authors_train_df = pd.DataFrame(authors_train_x2, columns=authors_features)\n",
    "authors_test_df = pd.DataFrame(authors_test_x2, columns=authors_features)\n",
    "best_authors_df = pd.concat([authors_train_df, authors_test_df], ignore_index=True)"
   ]
  },
  {
   "cell_type": "markdown",
   "id": "7a41d353-4e9f-4b80-b229-bf1fb9267b3c",
   "metadata": {},
   "source": [
    "<li> Publisher"
   ]
  },
  {
   "cell_type": "code",
   "execution_count": 19,
   "id": "3409a04a-04fb-44f6-a009-f3919a34ef95",
   "metadata": {},
   "outputs": [],
   "source": [
    "# Publisher\n",
    "publisher_x2 = SelectKBest(chi2, k=10)\n",
    "publisher_train = publisher_trans_df[:split_position]\n",
    "publisher_test = publisher_trans_df[split_position:]\n",
    "\n",
    "publisher_train_x2 = publisher_x2.fit_transform(publisher_train,y_train)\n",
    "publisher_test_x2 = publisher_x2.transform(publisher_test)"
   ]
  },
  {
   "cell_type": "code",
   "execution_count": 20,
   "id": "d66dec70-2b5b-4736-a282-e061027febbb",
   "metadata": {},
   "outputs": [],
   "source": [
    "publisher_features = []\n",
    "for feat_num in publisher_x2.get_support(indices=True):\n",
    "    publisher_features.append(publisher_ohe.get_feature_names_out()[feat_num])"
   ]
  },
  {
   "cell_type": "code",
   "execution_count": 21,
   "id": "812a93bb-381d-4e6a-8c59-55687499da2e",
   "metadata": {},
   "outputs": [
    {
     "data": {
      "text/plain": [
       "['Publisher_Banner of Truth',\n",
       " 'Publisher_Hal Leonard Publishing Corporation',\n",
       " 'Publisher_Harrison House',\n",
       " 'Publisher_ICS Publications',\n",
       " 'Publisher_Light, Inc.',\n",
       " 'Publisher_Museum of Modern Art',\n",
       " 'Publisher_Self-Realization Fellowship Publishers',\n",
       " 'Publisher_TAN Books',\n",
       " 'Publisher_TFH Publications',\n",
       " 'Publisher_VIZ Media']"
      ]
     },
     "execution_count": 21,
     "metadata": {},
     "output_type": "execute_result"
    }
   ],
   "source": [
    "publisher_features"
   ]
  },
  {
   "cell_type": "code",
   "execution_count": 22,
   "id": "786777ff-289c-4758-8ab0-946c5efec369",
   "metadata": {},
   "outputs": [],
   "source": [
    "publisher_train_df = pd.DataFrame(publisher_train_x2, columns=publisher_features)\n",
    "publisher_test_df = pd.DataFrame(publisher_test_x2, columns=publisher_features)\n",
    "best_publisher_df = pd.concat([publisher_train_df, publisher_test_df], ignore_index=True)"
   ]
  },
  {
   "cell_type": "markdown",
   "id": "dc1a035e-cc1e-413f-849e-21f146eeeb4b",
   "metadata": {},
   "source": [
    "##### Name & Description"
   ]
  },
  {
   "cell_type": "markdown",
   "id": "bd86947c-1874-44ac-a13b-bc61d7e0538b",
   "metadata": {},
   "source": [
    "Convert _\"Name\"_ and _\"Description\"_ attributes to numerical type using the preprocessed CountVectorizer"
   ]
  },
  {
   "cell_type": "code",
   "execution_count": 23,
   "id": "a438d99c-2c26-4ae9-a3ea-13c6ff6aafe6",
   "metadata": {},
   "outputs": [
    {
     "name": "stderr",
     "output_type": "stream",
     "text": [
      "C:\\Users\\hoand\\anaconda3\\Lib\\site-packages\\sklearn\\base.py:347: InconsistentVersionWarning: Trying to unpickle estimator CountVectorizer from version 1.0.2 when using version 1.3.0. This might lead to breaking code or invalid results. Use at your own risk. For more info please refer to:\n",
      "https://scikit-learn.org/stable/model_persistence.html#security-maintainability-limitations\n",
      "  warnings.warn(\n"
     ]
    }
   ],
   "source": [
    "import pickle\n",
    "name_countVec = pickle.load(open(\"../data/book_text_features_countvec/book_text_features_countvec/train_name_countvectorizer.pkl\", \"rb\"))\n",
    "desc_countVec = pickle.load(open(\"../data/book_text_features_countvec/book_text_features_countvec/train_desc_countvectorizer.pkl\", \"rb\"))"
   ]
  },
  {
   "cell_type": "code",
   "execution_count": 24,
   "id": "b9ed646e-5b11-4066-8803-ad0ca996afe4",
   "metadata": {},
   "outputs": [],
   "source": [
    "name_df = pd.DataFrame(name_countVec.transform(train_data_X[\"Name\"]).todense(), columns=name_countVec.get_feature_names_out())\n",
    "desc_df = pd.DataFrame(desc_countVec.transform(train_data_X[\"Description\"]).todense(), columns=desc_countVec.get_feature_names_out())"
   ]
  },
  {
   "cell_type": "markdown",
   "id": "c21aa1cd-2d28-4ade-b736-0f6b64aff823",
   "metadata": {},
   "source": [
    "Select 10 best features from the vectorized _\"Name\"_ and _\"Description\"_ features."
   ]
  },
  {
   "cell_type": "markdown",
   "id": "cc364c1a-12e4-4c41-91cc-684d7e69ad5d",
   "metadata": {},
   "source": [
    "<li> Description"
   ]
  },
  {
   "cell_type": "code",
   "execution_count": 25,
   "id": "c7c4acb5-dfeb-41f5-83f1-d291c6b8e79b",
   "metadata": {},
   "outputs": [],
   "source": [
    "# Description\n",
    "desc_x2 = SelectKBest(chi2, k=10)\n",
    "desc_train = desc_df[:split_position]\n",
    "desc_test = desc_df[split_position:]\n",
    "\n",
    "desc_train_x2 = desc_x2.fit_transform(desc_train,y_train)\n",
    "desc_test_x2 = desc_x2.transform(desc_test)"
   ]
  },
  {
   "cell_type": "code",
   "execution_count": 26,
   "id": "35b7c646-4ed8-491f-b3a4-6c99faa7256b",
   "metadata": {},
   "outputs": [],
   "source": [
    "desc_features = []\n",
    "for feat_num in desc_x2.get_support(indices=True):\n",
    "    desc_features.append(\"Desc_\" + desc_countVec.get_feature_names_out()[feat_num])"
   ]
  },
  {
   "cell_type": "code",
   "execution_count": 27,
   "id": "45a52750-4c36-4084-a116-ee0eac400018",
   "metadata": {},
   "outputs": [
    {
     "data": {
      "text/plain": [
       "['Desc_bible',\n",
       " 'Desc_concordance',\n",
       " 'Desc_god',\n",
       " 'Desc_herriot',\n",
       " 'Desc_liszt',\n",
       " 'Desc_nahuatl',\n",
       " 'Desc_objectivist',\n",
       " 'Desc_rinpoche',\n",
       " 'Desc_web',\n",
       " 'Desc_yogananda']"
      ]
     },
     "execution_count": 27,
     "metadata": {},
     "output_type": "execute_result"
    }
   ],
   "source": [
    "desc_features"
   ]
  },
  {
   "cell_type": "code",
   "execution_count": 28,
   "id": "a741bd15-642b-49f2-bf4a-939a32074628",
   "metadata": {},
   "outputs": [],
   "source": [
    "desc_train_df = pd.DataFrame(desc_train_x2, columns=desc_features)\n",
    "desc_test_df = pd.DataFrame(desc_test_x2, columns=desc_features)\n",
    "best_desc_df = pd.concat([desc_train_df, desc_test_df], ignore_index=True)"
   ]
  },
  {
   "cell_type": "markdown",
   "id": "56c3b67a-2372-4111-82e8-bb7532e5ae48",
   "metadata": {},
   "source": [
    "<li> Names"
   ]
  },
  {
   "cell_type": "code",
   "execution_count": 29,
   "id": "40954ae3-2e73-4524-aa8e-76a4051e151f",
   "metadata": {},
   "outputs": [],
   "source": [
    "# Names\n",
    "name_x2 = SelectKBest(chi2, k=10)\n",
    "name_train = name_df[:split_position]\n",
    "name_test = name_df[split_position:]\n",
    "\n",
    "name_train_x2 = name_x2.fit_transform(name_train,y_train)\n",
    "name_test_x2 = name_x2.transform(name_test)"
   ]
  },
  {
   "cell_type": "code",
   "execution_count": 30,
   "id": "744c296a-45de-4614-a215-12972bc30520",
   "metadata": {},
   "outputs": [],
   "source": [
    "name_features = []\n",
    "for feat_num in name_x2.get_support(indices=True):\n",
    "    name_features.append(\"Name_\" + name_countVec.get_feature_names_out()[feat_num])"
   ]
  },
  {
   "cell_type": "code",
   "execution_count": 31,
   "id": "259ec52f-e1b7-4e63-950e-42894710a449",
   "metadata": {},
   "outputs": [
    {
     "data": {
      "text/plain": [
       "['Name_bible',\n",
       " 'Name_holy',\n",
       " 'Name_mafalda',\n",
       " 'Name_nausicaä',\n",
       " 'Name_niv',\n",
       " 'Name_novel',\n",
       " 'Name_pokemon',\n",
       " 'Name_st',\n",
       " 'Name_vine',\n",
       " 'Name_yotsuba']"
      ]
     },
     "execution_count": 31,
     "metadata": {},
     "output_type": "execute_result"
    }
   ],
   "source": [
    "name_features"
   ]
  },
  {
   "cell_type": "code",
   "execution_count": 32,
   "id": "9c4d7f0f-214b-4fec-8670-21d020c4ac19",
   "metadata": {
    "tags": []
   },
   "outputs": [],
   "source": [
    "name_train_df = pd.DataFrame(name_train_x2, columns=name_features)\n",
    "name_test_df = pd.DataFrame(name_test_x2, columns=name_features)\n",
    "best_name_df = pd.concat([name_train_df, name_test_df], ignore_index=True)"
   ]
  },
  {
   "cell_type": "markdown",
   "id": "cf8fcca4-586b-4f45-9b4a-236d183222af",
   "metadata": {},
   "source": [
    "<li> Import the preprocessed data"
   ]
  },
  {
   "cell_type": "code",
   "execution_count": 33,
   "id": "d5250acd-e9c9-4327-87ad-03e11edf92a0",
   "metadata": {
    "tags": []
   },
   "outputs": [
    {
     "data": {
      "text/html": [
       "<div>\n",
       "<style scoped>\n",
       "    .dataframe tbody tr th:only-of-type {\n",
       "        vertical-align: middle;\n",
       "    }\n",
       "\n",
       "    .dataframe tbody tr th {\n",
       "        vertical-align: top;\n",
       "    }\n",
       "\n",
       "    .dataframe thead th {\n",
       "        text-align: right;\n",
       "    }\n",
       "</style>\n",
       "<table border=\"1\" class=\"dataframe\">\n",
       "  <thead>\n",
       "    <tr style=\"text-align: right;\">\n",
       "      <th></th>\n",
       "      <th>PublishYear</th>\n",
       "      <th>PublishMonth</th>\n",
       "      <th>PublishDay</th>\n",
       "      <th>pagesNumber</th>\n",
       "      <th>Authors_Anonymous</th>\n",
       "      <th>Authors_Carole Mortimer</th>\n",
       "      <th>Authors_Charles Fillmore</th>\n",
       "      <th>Authors_Creflo A. Dollar</th>\n",
       "      <th>Authors_M. Fethullah Gülen</th>\n",
       "      <th>Authors_Paramahansa Yogananda</th>\n",
       "      <th>...</th>\n",
       "      <th>Name_bible</th>\n",
       "      <th>Name_holy</th>\n",
       "      <th>Name_mafalda</th>\n",
       "      <th>Name_nausicaä</th>\n",
       "      <th>Name_niv</th>\n",
       "      <th>Name_novel</th>\n",
       "      <th>Name_pokemon</th>\n",
       "      <th>Name_st</th>\n",
       "      <th>Name_vine</th>\n",
       "      <th>Name_yotsuba</th>\n",
       "    </tr>\n",
       "  </thead>\n",
       "  <tbody>\n",
       "    <tr>\n",
       "      <th>0</th>\n",
       "      <td>2005</td>\n",
       "      <td>6</td>\n",
       "      <td>1</td>\n",
       "      <td>48</td>\n",
       "      <td>0.0</td>\n",
       "      <td>0.0</td>\n",
       "      <td>0.0</td>\n",
       "      <td>0.0</td>\n",
       "      <td>0.0</td>\n",
       "      <td>0.0</td>\n",
       "      <td>...</td>\n",
       "      <td>0</td>\n",
       "      <td>0</td>\n",
       "      <td>0</td>\n",
       "      <td>0</td>\n",
       "      <td>0</td>\n",
       "      <td>0</td>\n",
       "      <td>0</td>\n",
       "      <td>0</td>\n",
       "      <td>0</td>\n",
       "      <td>0</td>\n",
       "    </tr>\n",
       "    <tr>\n",
       "      <th>1</th>\n",
       "      <td>1991</td>\n",
       "      <td>10</td>\n",
       "      <td>1</td>\n",
       "      <td>364</td>\n",
       "      <td>0.0</td>\n",
       "      <td>0.0</td>\n",
       "      <td>0.0</td>\n",
       "      <td>0.0</td>\n",
       "      <td>0.0</td>\n",
       "      <td>0.0</td>\n",
       "      <td>...</td>\n",
       "      <td>0</td>\n",
       "      <td>0</td>\n",
       "      <td>0</td>\n",
       "      <td>0</td>\n",
       "      <td>0</td>\n",
       "      <td>0</td>\n",
       "      <td>0</td>\n",
       "      <td>0</td>\n",
       "      <td>0</td>\n",
       "      <td>0</td>\n",
       "    </tr>\n",
       "    <tr>\n",
       "      <th>2</th>\n",
       "      <td>2005</td>\n",
       "      <td>3</td>\n",
       "      <td>31</td>\n",
       "      <td>32</td>\n",
       "      <td>0.0</td>\n",
       "      <td>0.0</td>\n",
       "      <td>0.0</td>\n",
       "      <td>0.0</td>\n",
       "      <td>0.0</td>\n",
       "      <td>0.0</td>\n",
       "      <td>...</td>\n",
       "      <td>0</td>\n",
       "      <td>0</td>\n",
       "      <td>0</td>\n",
       "      <td>0</td>\n",
       "      <td>0</td>\n",
       "      <td>0</td>\n",
       "      <td>0</td>\n",
       "      <td>0</td>\n",
       "      <td>0</td>\n",
       "      <td>0</td>\n",
       "    </tr>\n",
       "    <tr>\n",
       "      <th>3</th>\n",
       "      <td>2004</td>\n",
       "      <td>9</td>\n",
       "      <td>1</td>\n",
       "      <td>293</td>\n",
       "      <td>0.0</td>\n",
       "      <td>0.0</td>\n",
       "      <td>0.0</td>\n",
       "      <td>0.0</td>\n",
       "      <td>0.0</td>\n",
       "      <td>0.0</td>\n",
       "      <td>...</td>\n",
       "      <td>0</td>\n",
       "      <td>0</td>\n",
       "      <td>0</td>\n",
       "      <td>0</td>\n",
       "      <td>0</td>\n",
       "      <td>0</td>\n",
       "      <td>0</td>\n",
       "      <td>0</td>\n",
       "      <td>0</td>\n",
       "      <td>0</td>\n",
       "    </tr>\n",
       "    <tr>\n",
       "      <th>4</th>\n",
       "      <td>2005</td>\n",
       "      <td>7</td>\n",
       "      <td>7</td>\n",
       "      <td>352</td>\n",
       "      <td>0.0</td>\n",
       "      <td>0.0</td>\n",
       "      <td>0.0</td>\n",
       "      <td>0.0</td>\n",
       "      <td>0.0</td>\n",
       "      <td>0.0</td>\n",
       "      <td>...</td>\n",
       "      <td>0</td>\n",
       "      <td>0</td>\n",
       "      <td>0</td>\n",
       "      <td>0</td>\n",
       "      <td>0</td>\n",
       "      <td>0</td>\n",
       "      <td>0</td>\n",
       "      <td>0</td>\n",
       "      <td>0</td>\n",
       "      <td>0</td>\n",
       "    </tr>\n",
       "    <tr>\n",
       "      <th>...</th>\n",
       "      <td>...</td>\n",
       "      <td>...</td>\n",
       "      <td>...</td>\n",
       "      <td>...</td>\n",
       "      <td>...</td>\n",
       "      <td>...</td>\n",
       "      <td>...</td>\n",
       "      <td>...</td>\n",
       "      <td>...</td>\n",
       "      <td>...</td>\n",
       "      <td>...</td>\n",
       "      <td>...</td>\n",
       "      <td>...</td>\n",
       "      <td>...</td>\n",
       "      <td>...</td>\n",
       "      <td>...</td>\n",
       "      <td>...</td>\n",
       "      <td>...</td>\n",
       "      <td>...</td>\n",
       "      <td>...</td>\n",
       "      <td>...</td>\n",
       "    </tr>\n",
       "    <tr>\n",
       "      <th>23058</th>\n",
       "      <td>1997</td>\n",
       "      <td>8</td>\n",
       "      <td>1</td>\n",
       "      <td>120</td>\n",
       "      <td>0.0</td>\n",
       "      <td>0.0</td>\n",
       "      <td>0.0</td>\n",
       "      <td>0.0</td>\n",
       "      <td>0.0</td>\n",
       "      <td>0.0</td>\n",
       "      <td>...</td>\n",
       "      <td>0</td>\n",
       "      <td>0</td>\n",
       "      <td>0</td>\n",
       "      <td>0</td>\n",
       "      <td>0</td>\n",
       "      <td>0</td>\n",
       "      <td>0</td>\n",
       "      <td>0</td>\n",
       "      <td>0</td>\n",
       "      <td>0</td>\n",
       "    </tr>\n",
       "    <tr>\n",
       "      <th>23059</th>\n",
       "      <td>2005</td>\n",
       "      <td>6</td>\n",
       "      <td>1</td>\n",
       "      <td>32</td>\n",
       "      <td>0.0</td>\n",
       "      <td>0.0</td>\n",
       "      <td>0.0</td>\n",
       "      <td>0.0</td>\n",
       "      <td>0.0</td>\n",
       "      <td>0.0</td>\n",
       "      <td>...</td>\n",
       "      <td>0</td>\n",
       "      <td>0</td>\n",
       "      <td>0</td>\n",
       "      <td>0</td>\n",
       "      <td>0</td>\n",
       "      <td>0</td>\n",
       "      <td>0</td>\n",
       "      <td>0</td>\n",
       "      <td>0</td>\n",
       "      <td>0</td>\n",
       "    </tr>\n",
       "    <tr>\n",
       "      <th>23060</th>\n",
       "      <td>1989</td>\n",
       "      <td>2</td>\n",
       "      <td>15</td>\n",
       "      <td>132</td>\n",
       "      <td>0.0</td>\n",
       "      <td>0.0</td>\n",
       "      <td>0.0</td>\n",
       "      <td>0.0</td>\n",
       "      <td>0.0</td>\n",
       "      <td>0.0</td>\n",
       "      <td>...</td>\n",
       "      <td>0</td>\n",
       "      <td>0</td>\n",
       "      <td>0</td>\n",
       "      <td>0</td>\n",
       "      <td>0</td>\n",
       "      <td>0</td>\n",
       "      <td>0</td>\n",
       "      <td>0</td>\n",
       "      <td>0</td>\n",
       "      <td>0</td>\n",
       "    </tr>\n",
       "    <tr>\n",
       "      <th>23061</th>\n",
       "      <td>1998</td>\n",
       "      <td>4</td>\n",
       "      <td>21</td>\n",
       "      <td>136</td>\n",
       "      <td>0.0</td>\n",
       "      <td>0.0</td>\n",
       "      <td>0.0</td>\n",
       "      <td>0.0</td>\n",
       "      <td>0.0</td>\n",
       "      <td>0.0</td>\n",
       "      <td>...</td>\n",
       "      <td>0</td>\n",
       "      <td>0</td>\n",
       "      <td>0</td>\n",
       "      <td>0</td>\n",
       "      <td>0</td>\n",
       "      <td>0</td>\n",
       "      <td>0</td>\n",
       "      <td>0</td>\n",
       "      <td>0</td>\n",
       "      <td>0</td>\n",
       "    </tr>\n",
       "    <tr>\n",
       "      <th>23062</th>\n",
       "      <td>2002</td>\n",
       "      <td>7</td>\n",
       "      <td>8</td>\n",
       "      <td>192</td>\n",
       "      <td>0.0</td>\n",
       "      <td>0.0</td>\n",
       "      <td>0.0</td>\n",
       "      <td>0.0</td>\n",
       "      <td>0.0</td>\n",
       "      <td>0.0</td>\n",
       "      <td>...</td>\n",
       "      <td>0</td>\n",
       "      <td>0</td>\n",
       "      <td>0</td>\n",
       "      <td>0</td>\n",
       "      <td>0</td>\n",
       "      <td>0</td>\n",
       "      <td>0</td>\n",
       "      <td>0</td>\n",
       "      <td>0</td>\n",
       "      <td>0</td>\n",
       "    </tr>\n",
       "  </tbody>\n",
       "</table>\n",
       "<p>23063 rows × 44 columns</p>\n",
       "</div>"
      ],
      "text/plain": [
       "       PublishYear  PublishMonth  PublishDay  pagesNumber  Authors_Anonymous  \\\n",
       "0             2005             6           1           48                0.0   \n",
       "1             1991            10           1          364                0.0   \n",
       "2             2005             3          31           32                0.0   \n",
       "3             2004             9           1          293                0.0   \n",
       "4             2005             7           7          352                0.0   \n",
       "...            ...           ...         ...          ...                ...   \n",
       "23058         1997             8           1          120                0.0   \n",
       "23059         2005             6           1           32                0.0   \n",
       "23060         1989             2          15          132                0.0   \n",
       "23061         1998             4          21          136                0.0   \n",
       "23062         2002             7           8          192                0.0   \n",
       "\n",
       "       Authors_Carole Mortimer  Authors_Charles Fillmore  \\\n",
       "0                          0.0                       0.0   \n",
       "1                          0.0                       0.0   \n",
       "2                          0.0                       0.0   \n",
       "3                          0.0                       0.0   \n",
       "4                          0.0                       0.0   \n",
       "...                        ...                       ...   \n",
       "23058                      0.0                       0.0   \n",
       "23059                      0.0                       0.0   \n",
       "23060                      0.0                       0.0   \n",
       "23061                      0.0                       0.0   \n",
       "23062                      0.0                       0.0   \n",
       "\n",
       "       Authors_Creflo A. Dollar  Authors_M. Fethullah Gülen  \\\n",
       "0                           0.0                         0.0   \n",
       "1                           0.0                         0.0   \n",
       "2                           0.0                         0.0   \n",
       "3                           0.0                         0.0   \n",
       "4                           0.0                         0.0   \n",
       "...                         ...                         ...   \n",
       "23058                       0.0                         0.0   \n",
       "23059                       0.0                         0.0   \n",
       "23060                       0.0                         0.0   \n",
       "23061                       0.0                         0.0   \n",
       "23062                       0.0                         0.0   \n",
       "\n",
       "       Authors_Paramahansa Yogananda  ...  Name_bible  Name_holy  \\\n",
       "0                                0.0  ...           0          0   \n",
       "1                                0.0  ...           0          0   \n",
       "2                                0.0  ...           0          0   \n",
       "3                                0.0  ...           0          0   \n",
       "4                                0.0  ...           0          0   \n",
       "...                              ...  ...         ...        ...   \n",
       "23058                            0.0  ...           0          0   \n",
       "23059                            0.0  ...           0          0   \n",
       "23060                            0.0  ...           0          0   \n",
       "23061                            0.0  ...           0          0   \n",
       "23062                            0.0  ...           0          0   \n",
       "\n",
       "       Name_mafalda  Name_nausicaä  Name_niv  Name_novel  Name_pokemon  \\\n",
       "0                 0              0         0           0             0   \n",
       "1                 0              0         0           0             0   \n",
       "2                 0              0         0           0             0   \n",
       "3                 0              0         0           0             0   \n",
       "4                 0              0         0           0             0   \n",
       "...             ...            ...       ...         ...           ...   \n",
       "23058             0              0         0           0             0   \n",
       "23059             0              0         0           0             0   \n",
       "23060             0              0         0           0             0   \n",
       "23061             0              0         0           0             0   \n",
       "23062             0              0         0           0             0   \n",
       "\n",
       "       Name_st  Name_vine  Name_yotsuba  \n",
       "0            0          0             0  \n",
       "1            0          0             0  \n",
       "2            0          0             0  \n",
       "3            0          0             0  \n",
       "4            0          0             0  \n",
       "...        ...        ...           ...  \n",
       "23058        0          0             0  \n",
       "23059        0          0             0  \n",
       "23060        0          0             0  \n",
       "23061        0          0             0  \n",
       "23062        0          0             0  \n",
       "\n",
       "[23063 rows x 44 columns]"
      ]
     },
     "execution_count": 33,
     "metadata": {},
     "output_type": "execute_result"
    }
   ],
   "source": [
    "processed_train_data_X = pd.concat([train_data_X, best_authors_df, best_publisher_df, best_desc_df, best_name_df], axis=1)\n",
    "p_train_data_X = processed_train_data_X.drop(columns = [\"Name\", \"Authors\", \"Publisher\", \"Description\"])\n",
    "p_train_data_X"
   ]
  },
  {
   "cell_type": "markdown",
   "id": "b46da92a-04b4-45a4-869f-18ddec5da8b6",
   "metadata": {},
   "source": [
    "### Output to file"
   ]
  },
  {
   "cell_type": "code",
   "execution_count": 34,
   "id": "49df33e3-0376-4c84-89a6-500f9fee1336",
   "metadata": {
    "tags": []
   },
   "outputs": [],
   "source": [
    "p_train_data_X.to_csv(\"../data/preprocessed/preprocessed_book_rating_train_X.csv\", index=False)"
   ]
  },
  {
   "cell_type": "code",
   "execution_count": 35,
   "id": "4e669bd4-e750-4008-b7b8-8d1c2a525bc8",
   "metadata": {
    "tags": []
   },
   "outputs": [],
   "source": [
    "train_data_y.to_csv(\"../data/preprocessed/preprocessed_book_rating_train_y.csv\", index=False)"
   ]
  },
  {
   "cell_type": "markdown",
   "id": "4d35ad70-6f4d-4795-b76a-f4566c01bd8f",
   "metadata": {},
   "source": [
    "# Test case"
   ]
  },
  {
   "cell_type": "code",
   "execution_count": null,
   "id": "2e5fcb7f-eb9a-4785-92d2-71e7b294c60b",
   "metadata": {},
   "outputs": [],
   "source": [
    "test_data = pd.read_csv(r\"../data/book_rating_test.csv\", index_col = False, delimiter = ',', header=0)\n",
    "test_data"
   ]
  },
  {
   "cell_type": "code",
   "execution_count": null,
   "id": "b978cc33-927a-42d5-98a9-8374f0cec278",
   "metadata": {},
   "outputs": [],
   "source": [
    "test_data[\"Publisher\"] = test_data[\"Publisher\"].fillna(\"NA\")"
   ]
  },
  {
   "cell_type": "code",
   "execution_count": null,
   "id": "43ea44be-b98e-427b-b80f-d770051c5d2e",
   "metadata": {},
   "outputs": [],
   "source": [
    "authors_df = pd.DataFrame(test_data[\"Authors\"])\n",
    "publisher_df = pd.DataFrame(test_data[\"Publisher\"])"
   ]
  },
  {
   "cell_type": "code",
   "execution_count": null,
   "id": "1d9baa61-64e3-4ff9-b41c-430da6fe0257",
   "metadata": {
    "scrolled": true,
    "tags": []
   },
   "outputs": [],
   "source": [
    "authors_trans_ohe = authors_ohe.transform(authors_df).toarray()\n",
    "publisher_trans_ohe = publisher_ohe.transform(publisher_df).toarray()"
   ]
  },
  {
   "cell_type": "code",
   "execution_count": null,
   "id": "999dde3e-93d0-4a71-bcd8-d0568c8889f5",
   "metadata": {},
   "outputs": [],
   "source": [
    "authors_trans_df = pd.DataFrame(authors_trans_ohe, columns=authors_ohe.get_feature_names_out())\n",
    "publisher_trans_df = pd.DataFrame(publisher_trans_ohe, columns=publisher_ohe.get_feature_names_out())"
   ]
  },
  {
   "cell_type": "code",
   "execution_count": null,
   "id": "5bd525ce-a001-437e-9a43-12e57e5a8b60",
   "metadata": {},
   "outputs": [],
   "source": [
    "authors_test_x2 = authors_x2.transform(authors_trans_df)\n",
    "authors_features = []\n",
    "for feat_num in authors_x2.get_support(indices=True):\n",
    "    authors_features.append(authors_ohe.get_feature_names_out()[feat_num])"
   ]
  },
  {
   "cell_type": "code",
   "execution_count": null,
   "id": "894f5638-86a8-445b-8b2c-35f27af05060",
   "metadata": {},
   "outputs": [],
   "source": [
    "publisher_test_x2 = publisher_x2.transform(publisher_trans_df)\n",
    "publisher_features = []\n",
    "for feat_num in publisher_x2.get_support(indices=True):\n",
    "    publisher_features.append(publisher_ohe.get_feature_names_out()[feat_num])"
   ]
  },
  {
   "cell_type": "code",
   "execution_count": null,
   "id": "167dd57c-ba82-4cb3-86b0-82b74d6bd540",
   "metadata": {},
   "outputs": [],
   "source": [
    "name_df = pd.DataFrame(name_countVec.transform(test_data[\"Name\"]).todense(), columns=name_countVec.get_feature_names_out())\n",
    "desc_df = pd.DataFrame(desc_countVec.transform(test_data[\"Description\"]).todense(), columns=desc_countVec.get_feature_names_out())"
   ]
  },
  {
   "cell_type": "code",
   "execution_count": null,
   "id": "e38a762c-341c-4cdd-a71e-7369daa8544b",
   "metadata": {},
   "outputs": [],
   "source": [
    "desc_test_x2 = desc_x2.transform(desc_df)\n",
    "name_test_x2 = name_x2.transform(name_df)"
   ]
  },
  {
   "cell_type": "code",
   "execution_count": null,
   "id": "3d0ca568-def0-427f-8817-e80c6300cdf7",
   "metadata": {},
   "outputs": [],
   "source": [
    "desc_features = []\n",
    "for feat_num in desc_x2.get_support(indices=True):\n",
    "    desc_features.append(\"Desc_\" + desc_countVec.get_feature_names_out()[feat_num])\n",
    "\n",
    "name_features = []\n",
    "for feat_num in name_x2.get_support(indices=True):\n",
    "    name_features.append(\"Name_\" + name_countVec.get_feature_names_out()[feat_num])"
   ]
  },
  {
   "cell_type": "code",
   "execution_count": null,
   "id": "81a6fe01-74e7-4ab1-b7e7-2ddf7d50b878",
   "metadata": {},
   "outputs": [],
   "source": [
    "name_test_df = pd.DataFrame(name_test_x2, columns=name_features)\n",
    "desc_test_df = pd.DataFrame(desc_test_x2, columns=desc_features)\n",
    "publisher_test_df = pd.DataFrame(publisher_test_x2, columns=publisher_features)\n",
    "authors_test_df = pd.DataFrame(authors_test_x2, columns=authors_features)"
   ]
  },
  {
   "cell_type": "code",
   "execution_count": null,
   "id": "154ac116-bfdd-47fc-a9d7-5758d9aa3955",
   "metadata": {},
   "outputs": [],
   "source": [
    "processed_test_data = pd.concat([test_data, name_test_df, desc_test_df, publisher_test_df, authors_test_df], axis=1)"
   ]
  },
  {
   "cell_type": "code",
   "execution_count": null,
   "id": "1c2cc161-5b55-454a-b9ac-1cce63fa2485",
   "metadata": {
    "tags": []
   },
   "outputs": [],
   "source": [
    "processed_test_data = processed_test_data.drop(columns = [\"Name\", \"Authors\", \"Publisher\", \"Description\", \"Language\"])\n",
    "processed_test_data"
   ]
  }
 ],
 "metadata": {
  "kernelspec": {
   "display_name": "mast30034_env",
   "language": "python",
   "name": "mast30034_env"
  },
  "language_info": {
   "codemirror_mode": {
    "name": "ipython",
    "version": 3
   },
   "file_extension": ".py",
   "mimetype": "text/x-python",
   "name": "python",
   "nbconvert_exporter": "python",
   "pygments_lexer": "ipython3",
   "version": "3.11.4"
  }
 },
 "nbformat": 4,
 "nbformat_minor": 5
}
