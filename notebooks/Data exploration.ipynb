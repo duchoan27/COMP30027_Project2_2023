{
 "cells": [
  {
   "cell_type": "markdown",
   "id": "baa5b340-2ca9-4ce5-9699-ca812decb3e7",
   "metadata": {},
   "source": [
    "# Data Exploration"
   ]
  },
  {
   "cell_type": "code",
   "execution_count": 26,
   "id": "11d7610a-4a32-48b7-b6d4-ba150e5060df",
   "metadata": {},
   "outputs": [],
   "source": [
    "import pandas as pd\n",
    "import numpy as np"
   ]
  },
  {
   "cell_type": "code",
   "execution_count": 5,
   "id": "d89e756d-7d86-421d-90ae-3bb3e93efaf2",
   "metadata": {},
   "outputs": [],
   "source": [
    "# inputing data\n",
    "x_train = pd.read_csv(r\"project_data_files/book_rating_train.csv\", index_col = False, delimiter = ',', header=0)\n",
    "x_test = pd.read_csv(r\"project_data_files/book_rating_test.csv\", index_col = False, delimiter = ',', header=0)"
   ]
  },
  {
   "cell_type": "code",
   "execution_count": 29,
   "id": "9fdb7609-c4c2-46d3-9fe5-24eb5f35fd76",
   "metadata": {},
   "outputs": [
    {
     "data": {
      "text/plain": [
       "(5766, 9)"
      ]
     },
     "execution_count": 29,
     "metadata": {},
     "output_type": "execute_result"
    }
   ],
   "source": [
    "x_test.shape"
   ]
  },
  {
   "cell_type": "code",
   "execution_count": 41,
   "id": "7b2f5ab4-9261-4c0c-b29d-874563104a8d",
   "metadata": {},
   "outputs": [
    {
     "data": {
      "text/html": [
       "<div>\n",
       "<style scoped>\n",
       "    .dataframe tbody tr th:only-of-type {\n",
       "        vertical-align: middle;\n",
       "    }\n",
       "\n",
       "    .dataframe tbody tr th {\n",
       "        vertical-align: top;\n",
       "    }\n",
       "\n",
       "    .dataframe thead th {\n",
       "        text-align: right;\n",
       "    }\n",
       "</style>\n",
       "<table border=\"1\" class=\"dataframe\">\n",
       "  <thead>\n",
       "    <tr style=\"text-align: right;\">\n",
       "      <th></th>\n",
       "      <th>Name</th>\n",
       "      <th>Authors</th>\n",
       "      <th>PublishYear</th>\n",
       "      <th>PublishMonth</th>\n",
       "      <th>PublishDay</th>\n",
       "      <th>Publisher</th>\n",
       "      <th>Language</th>\n",
       "      <th>pagesNumber</th>\n",
       "      <th>Description</th>\n",
       "      <th>rating_label</th>\n",
       "    </tr>\n",
       "  </thead>\n",
       "  <tbody>\n",
       "    <tr>\n",
       "      <th>0</th>\n",
       "      <td>Best of Dr Jean: Reading &amp; Writing</td>\n",
       "      <td>Jean R. Feldman</td>\n",
       "      <td>2005</td>\n",
       "      <td>6</td>\n",
       "      <td>1</td>\n",
       "      <td>Teaching Resources</td>\n",
       "      <td>NaN</td>\n",
       "      <td>48</td>\n",
       "      <td>Teachers will turn to this treasury of ideas a...</td>\n",
       "      <td>4.0</td>\n",
       "    </tr>\n",
       "    <tr>\n",
       "      <th>1</th>\n",
       "      <td>Here All Dwell Free</td>\n",
       "      <td>Gertrud Mueller Nelson</td>\n",
       "      <td>1991</td>\n",
       "      <td>10</td>\n",
       "      <td>1</td>\n",
       "      <td>DoubleDay</td>\n",
       "      <td>NaN</td>\n",
       "      <td>364</td>\n",
       "      <td>Every human being lives a fairy tale -- an unc...</td>\n",
       "      <td>4.0</td>\n",
       "    </tr>\n",
       "    <tr>\n",
       "      <th>2</th>\n",
       "      <td>Boomer's Big Surprise</td>\n",
       "      <td>Constance W. McGeorge</td>\n",
       "      <td>2005</td>\n",
       "      <td>3</td>\n",
       "      <td>31</td>\n",
       "      <td>Chronicle Books</td>\n",
       "      <td>NaN</td>\n",
       "      <td>32</td>\n",
       "      <td>&lt;i&gt;Boomer's Big Surprise&lt;/i&gt; will have special...</td>\n",
       "      <td>4.0</td>\n",
       "    </tr>\n",
       "    <tr>\n",
       "      <th>3</th>\n",
       "      <td>I'll Go and Do More: Annie Dodge Wauneka, Nava...</td>\n",
       "      <td>Carolyn Niethammer</td>\n",
       "      <td>2004</td>\n",
       "      <td>9</td>\n",
       "      <td>1</td>\n",
       "      <td>Bison Books</td>\n",
       "      <td>NaN</td>\n",
       "      <td>293</td>\n",
       "      <td>&lt;i&gt;I'll Go and Do More&lt;/i&gt; is the story of Ann...</td>\n",
       "      <td>4.0</td>\n",
       "    </tr>\n",
       "    <tr>\n",
       "      <th>4</th>\n",
       "      <td>Us</td>\n",
       "      <td>Richard       Mason</td>\n",
       "      <td>2005</td>\n",
       "      <td>7</td>\n",
       "      <td>7</td>\n",
       "      <td>Penguin Books Ltd</td>\n",
       "      <td>eng</td>\n",
       "      <td>352</td>\n",
       "      <td>Since their days at Oxford, they've gone their...</td>\n",
       "      <td>3.0</td>\n",
       "    </tr>\n",
       "    <tr>\n",
       "      <th>...</th>\n",
       "      <td>...</td>\n",
       "      <td>...</td>\n",
       "      <td>...</td>\n",
       "      <td>...</td>\n",
       "      <td>...</td>\n",
       "      <td>...</td>\n",
       "      <td>...</td>\n",
       "      <td>...</td>\n",
       "      <td>...</td>\n",
       "      <td>...</td>\n",
       "    </tr>\n",
       "    <tr>\n",
       "      <th>23058</th>\n",
       "      <td>Black Coffee Blues</td>\n",
       "      <td>Henry Rollins</td>\n",
       "      <td>1997</td>\n",
       "      <td>8</td>\n",
       "      <td>1</td>\n",
       "      <td>2.13.61</td>\n",
       "      <td>eng</td>\n",
       "      <td>120</td>\n",
       "      <td>\"If I lose the light of the sun, I will write ...</td>\n",
       "      <td>4.0</td>\n",
       "    </tr>\n",
       "    <tr>\n",
       "      <th>23059</th>\n",
       "      <td>America's Champion Swimmer: Gertrude Ederle</td>\n",
       "      <td>David A. Adler</td>\n",
       "      <td>2005</td>\n",
       "      <td>6</td>\n",
       "      <td>1</td>\n",
       "      <td>HMH Books for Young Readers</td>\n",
       "      <td>NaN</td>\n",
       "      <td>32</td>\n",
       "      <td>Trudy Ederle loved to swim, and she was determ...</td>\n",
       "      <td>4.0</td>\n",
       "    </tr>\n",
       "    <tr>\n",
       "      <th>23060</th>\n",
       "      <td>Crime and Custom in Savage Society</td>\n",
       "      <td>Bronisław Malinowski</td>\n",
       "      <td>1989</td>\n",
       "      <td>2</td>\n",
       "      <td>15</td>\n",
       "      <td>Rowman &amp; Littlefield Publishers</td>\n",
       "      <td>NaN</td>\n",
       "      <td>132</td>\n",
       "      <td>Bronislaw Malinowski achieved international re...</td>\n",
       "      <td>4.0</td>\n",
       "    </tr>\n",
       "    <tr>\n",
       "      <th>23061</th>\n",
       "      <td>The Name and Nature of Poetry and Other Select...</td>\n",
       "      <td>A.E. Housman</td>\n",
       "      <td>1998</td>\n",
       "      <td>4</td>\n",
       "      <td>21</td>\n",
       "      <td>New Amsterdam Books</td>\n",
       "      <td>NaN</td>\n",
       "      <td>136</td>\n",
       "      <td>Lovers of Housman's poetry and admirers of his...</td>\n",
       "      <td>4.0</td>\n",
       "    </tr>\n",
       "    <tr>\n",
       "      <th>23062</th>\n",
       "      <td>Redemption (Sevens, #7)</td>\n",
       "      <td>Scott Wallens</td>\n",
       "      <td>2002</td>\n",
       "      <td>7</td>\n",
       "      <td>8</td>\n",
       "      <td>Puffin</td>\n",
       "      <td>NaN</td>\n",
       "      <td>192</td>\n",
       "      <td>Before the accident, Peter spent every weekend...</td>\n",
       "      <td>4.0</td>\n",
       "    </tr>\n",
       "  </tbody>\n",
       "</table>\n",
       "<p>23063 rows × 10 columns</p>\n",
       "</div>"
      ],
      "text/plain": [
       "                                                    Name  \\\n",
       "0                     Best of Dr Jean: Reading & Writing   \n",
       "1                                    Here All Dwell Free   \n",
       "2                                  Boomer's Big Surprise   \n",
       "3      I'll Go and Do More: Annie Dodge Wauneka, Nava...   \n",
       "4                                                     Us   \n",
       "...                                                  ...   \n",
       "23058                                 Black Coffee Blues   \n",
       "23059        America's Champion Swimmer: Gertrude Ederle   \n",
       "23060                 Crime and Custom in Savage Society   \n",
       "23061  The Name and Nature of Poetry and Other Select...   \n",
       "23062                            Redemption (Sevens, #7)   \n",
       "\n",
       "                      Authors  PublishYear  PublishMonth  PublishDay  \\\n",
       "0             Jean R. Feldman         2005             6           1   \n",
       "1      Gertrud Mueller Nelson         1991            10           1   \n",
       "2       Constance W. McGeorge         2005             3          31   \n",
       "3          Carolyn Niethammer         2004             9           1   \n",
       "4         Richard       Mason         2005             7           7   \n",
       "...                       ...          ...           ...         ...   \n",
       "23058           Henry Rollins         1997             8           1   \n",
       "23059          David A. Adler         2005             6           1   \n",
       "23060    Bronisław Malinowski         1989             2          15   \n",
       "23061            A.E. Housman         1998             4          21   \n",
       "23062           Scott Wallens         2002             7           8   \n",
       "\n",
       "                             Publisher Language  pagesNumber  \\\n",
       "0                   Teaching Resources      NaN           48   \n",
       "1                            DoubleDay      NaN          364   \n",
       "2                      Chronicle Books      NaN           32   \n",
       "3                          Bison Books      NaN          293   \n",
       "4                    Penguin Books Ltd      eng          352   \n",
       "...                                ...      ...          ...   \n",
       "23058                          2.13.61      eng          120   \n",
       "23059      HMH Books for Young Readers      NaN           32   \n",
       "23060  Rowman & Littlefield Publishers      NaN          132   \n",
       "23061              New Amsterdam Books      NaN          136   \n",
       "23062                           Puffin      NaN          192   \n",
       "\n",
       "                                             Description  rating_label  \n",
       "0      Teachers will turn to this treasury of ideas a...           4.0  \n",
       "1      Every human being lives a fairy tale -- an unc...           4.0  \n",
       "2      <i>Boomer's Big Surprise</i> will have special...           4.0  \n",
       "3      <i>I'll Go and Do More</i> is the story of Ann...           4.0  \n",
       "4      Since their days at Oxford, they've gone their...           3.0  \n",
       "...                                                  ...           ...  \n",
       "23058  \"If I lose the light of the sun, I will write ...           4.0  \n",
       "23059  Trudy Ederle loved to swim, and she was determ...           4.0  \n",
       "23060  Bronislaw Malinowski achieved international re...           4.0  \n",
       "23061  Lovers of Housman's poetry and admirers of his...           4.0  \n",
       "23062  Before the accident, Peter spent every weekend...           4.0  \n",
       "\n",
       "[23063 rows x 10 columns]"
      ]
     },
     "execution_count": 41,
     "metadata": {},
     "output_type": "execute_result"
    }
   ],
   "source": [
    "x_train"
   ]
  },
  {
   "cell_type": "code",
   "execution_count": 23,
   "id": "972c105e-9d9c-4ed8-a62c-d1e1b4c8b877",
   "metadata": {},
   "outputs": [
    {
     "data": {
      "text/plain": [
       "0                       Best of Dr Jean: Reading & Writing\n",
       "1                                      Here All Dwell Free\n",
       "2                                    Boomer's Big Surprise\n",
       "3        I'll Go and Do More: Annie Dodge Wauneka, Nava...\n",
       "4                                                       Us\n",
       "                               ...                        \n",
       "23058                                   Black Coffee Blues\n",
       "23059          America's Champion Swimmer: Gertrude Ederle\n",
       "23060                   Crime and Custom in Savage Society\n",
       "23061    The Name and Nature of Poetry and Other Select...\n",
       "23062                              Redemption (Sevens, #7)\n",
       "Name: Name, Length: 23063, dtype: object"
      ]
     },
     "execution_count": 23,
     "metadata": {},
     "output_type": "execute_result"
    }
   ],
   "source": [
    "train_name = x_train[\"Name\"]\n",
    "train_name"
   ]
  },
  {
   "cell_type": "code",
   "execution_count": 24,
   "id": "ac6b76ca-4fbc-480d-93f8-82f6025c23ff",
   "metadata": {},
   "outputs": [
    {
     "data": {
      "text/plain": [
       "0               Jean R. Feldman\n",
       "1        Gertrud Mueller Nelson\n",
       "2         Constance W. McGeorge\n",
       "3            Carolyn Niethammer\n",
       "4           Richard       Mason\n",
       "                  ...          \n",
       "23058             Henry Rollins\n",
       "23059            David A. Adler\n",
       "23060      Bronisław Malinowski\n",
       "23061              A.E. Housman\n",
       "23062             Scott Wallens\n",
       "Name: Authors, Length: 23063, dtype: object"
      ]
     },
     "execution_count": 24,
     "metadata": {},
     "output_type": "execute_result"
    }
   ],
   "source": [
    "train_author = x_train[\"Authors\"]\n",
    "train_author"
   ]
  },
  {
   "cell_type": "code",
   "execution_count": 25,
   "id": "3c89394c-a6a1-48bd-8333-b18277970e6d",
   "metadata": {},
   "outputs": [
    {
     "data": {
      "text/plain": [
       "'Teachers will turn to this treasury of ideas again and again to build key language and literacy skills. Hands-on activities, games, songs and rhymes help kids develop vocabulary, letter knowledge, phonemic awareness, concepts of print, and more. Perfect for enriching reading and writing centers!'"
      ]
     },
     "execution_count": 25,
     "metadata": {},
     "output_type": "execute_result"
    }
   ],
   "source": [
    "train_desc = x_train[\"Description\"]\n",
    "train_desc[0]"
   ]
  },
  {
   "cell_type": "code",
   "execution_count": 31,
   "id": "3f982014-9d75-46e8-8120-36dde1290d78",
   "metadata": {},
   "outputs": [
    {
     "data": {
      "text/plain": [
       "0        2005\n",
       "1        1991\n",
       "2        2005\n",
       "3        2004\n",
       "4        2005\n",
       "         ... \n",
       "23058    1997\n",
       "23059    2005\n",
       "23060    1989\n",
       "23061    1998\n",
       "23062    2002\n",
       "Name: PublishYear, Length: 23063, dtype: int64"
      ]
     },
     "execution_count": 31,
     "metadata": {},
     "output_type": "execute_result"
    }
   ],
   "source": [
    "train_pub_year = x_train[\"PublishYear\"]\n",
    "train_pub_year"
   ]
  },
  {
   "cell_type": "code",
   "execution_count": 39,
   "id": "7fdb76c1-070b-47bb-82fb-ef27bd51cff8",
   "metadata": {},
   "outputs": [
    {
     "data": {
      "text/plain": [
       "17202"
      ]
     },
     "execution_count": 39,
     "metadata": {},
     "output_type": "execute_result"
    }
   ],
   "source": [
    "train_lang = x_train[\"Language\"]\n",
    "train_lang.isna().sum()"
   ]
  },
  {
   "cell_type": "code",
   "execution_count": 40,
   "id": "732bc607-7228-4c8f-bcac-1a37313118b5",
   "metadata": {},
   "outputs": [
    {
     "data": {
      "text/plain": [
       "Name                0\n",
       "Authors             0\n",
       "PublishYear         0\n",
       "PublishMonth        0\n",
       "PublishDay          0\n",
       "Publisher         148\n",
       "Language        17202\n",
       "pagesNumber         0\n",
       "Description         0\n",
       "rating_label        0\n",
       "dtype: int64"
      ]
     },
     "execution_count": 40,
     "metadata": {},
     "output_type": "execute_result"
    }
   ],
   "source": [
    "x_train.isna().sum()"
   ]
  },
  {
   "cell_type": "code",
   "execution_count": 73,
   "id": "2b9bd9b9-659d-406e-8787-4755888fca1a",
   "metadata": {},
   "outputs": [
    {
     "data": {
      "text/plain": [
       "4.0    77.966102\n",
       "3.0    18.644068\n",
       "5.0     3.389831\n",
       "Name: rating_label, dtype: float64"
      ]
     },
     "execution_count": 73,
     "metadata": {},
     "output_type": "execute_result"
    }
   ],
   "source": [
    "train_eng = x_train.loc[x_train[\"Language\"] == \"ger\"][\"rating_label\"]\n",
    "train_eng_unique = train_eng.value_counts()\n",
    "train_eng_unique/train_eng.shape[0] * 100"
   ]
  },
  {
   "cell_type": "code",
   "execution_count": 67,
   "id": "99f62d22-9383-407d-bc5b-b39a7e714620",
   "metadata": {},
   "outputs": [
    {
     "data": {
      "text/plain": [
       "4.0    67.672364\n",
       "3.0    27.467736\n",
       "5.0     4.859900\n",
       "Name: rating_label, dtype: float64"
      ]
     },
     "execution_count": 67,
     "metadata": {},
     "output_type": "execute_result"
    }
   ],
   "source": [
    "train_lan_na = x_train.loc[x_train[\"Language\"].isna()][\"rating_label\"]\n",
    "train_lan_na_unique = train_lan_na.value_counts()\n",
    "train_lan_na_unique/train_lan_na.shape[0] * 100"
   ]
  },
  {
   "cell_type": "code",
   "execution_count": 74,
   "id": "b3125350-acf7-46bc-ba01-8ab31e198ebe",
   "metadata": {},
   "outputs": [
    {
     "data": {
      "text/plain": [
       "4.0    70.277067\n",
       "3.0    25.426007\n",
       "5.0     4.296926\n",
       "Name: rating_label, dtype: float64"
      ]
     },
     "execution_count": 74,
     "metadata": {},
     "output_type": "execute_result"
    }
   ],
   "source": [
    "x_train[\"rating_label\"].value_counts() / x_train.shape[0] * 100"
   ]
  },
  {
   "cell_type": "code",
   "execution_count": 66,
   "id": "92e67c96-1fdc-4911-ba5f-30ee2f0d0b7a",
   "metadata": {},
   "outputs": [
    {
     "data": {
      "text/plain": [
       "eng    5450\n",
       "fre     154\n",
       "spa     149\n",
       "ger      59\n",
       "jpn       8\n",
       "per       8\n",
       "mul       7\n",
       "por       5\n",
       "lat       4\n",
       "ita       4\n",
       "zho       3\n",
       "grc       2\n",
       "heb       2\n",
       "rus       2\n",
       "ara       1\n",
       "swe       1\n",
       "frs       1\n",
       "nld       1\n",
       "Name: Language, dtype: int64"
      ]
     },
     "execution_count": 66,
     "metadata": {},
     "output_type": "execute_result"
    }
   ],
   "source": [
    "train_lang.value_counts()"
   ]
  },
  {
   "cell_type": "code",
   "execution_count": 77,
   "id": "dfa9b79d-3921-4f73-9b86-c45954258bf6",
   "metadata": {},
   "outputs": [
    {
     "data": {
      "text/plain": [
       "pagesNumber\n",
       "256      810\n",
       "32       719\n",
       "224      628\n",
       "192      615\n",
       "288      544\n",
       "        ... \n",
       "918        1\n",
       "921        1\n",
       "924        1\n",
       "927        1\n",
       "37000      1\n",
       "Length: 1005, dtype: int64"
      ]
     },
     "execution_count": 77,
     "metadata": {},
     "output_type": "execute_result"
    }
   ],
   "source": [
    "x_train.value_counts(\"pagesNumber\")"
   ]
  },
  {
   "cell_type": "code",
   "execution_count": null,
   "id": "d0f56b51-956a-49c8-8421-266406964a9d",
   "metadata": {},
   "outputs": [],
   "source": []
  }
 ],
 "metadata": {
  "kernelspec": {
   "display_name": "Python 3 (ipykernel)",
   "language": "python",
   "name": "python3"
  },
  "language_info": {
   "codemirror_mode": {
    "name": "ipython",
    "version": 3
   },
   "file_extension": ".py",
   "mimetype": "text/x-python",
   "name": "python",
   "nbconvert_exporter": "python",
   "pygments_lexer": "ipython3",
   "version": "3.11.4"
  }
 },
 "nbformat": 4,
 "nbformat_minor": 5
}
