{
 "cells": [
  {
   "cell_type": "markdown",
   "id": "7c0616d1-96f7-44e6-a682-c678d199f61c",
   "metadata": {},
   "source": [
    "# COMP30027 Machine Learning Project 2"
   ]
  },
  {
   "cell_type": "code",
   "execution_count": 1,
   "id": "5238bb05-a113-4e60-90f8-0d5dc8df3b09",
   "metadata": {},
   "outputs": [],
   "source": [
    "import pandas as pd\n",
    "import numpy as np\n"
   ]
  },
  {
   "cell_type": "markdown",
   "id": "0fd655da-9687-45a2-a904-2155577a4989",
   "metadata": {
    "tags": []
   },
   "source": [
    "### Load the data"
   ]
  },
  {
   "cell_type": "code",
   "execution_count": 2,
   "id": "159b5242-6764-4d13-b690-58a4dc8154e6",
   "metadata": {},
   "outputs": [],
   "source": [
    "# Training data \n",
    "train_data = pd.read_csv(r\"project_data_files/book_rating_train.csv\", index_col = False, delimiter = ',', header=0)"
   ]
  },
  {
   "cell_type": "code",
   "execution_count": 3,
   "id": "0315bb4a-c839-42d5-a750-640e46b7adc7",
   "metadata": {},
   "outputs": [],
   "source": [
    "train_data_X = train_data.iloc[:, :-1]\n",
    "train_data_y = train_data.iloc[:, -1]"
   ]
  },
  {
   "cell_type": "markdown",
   "id": "4d671c94-4d3b-419e-926f-72184663784f",
   "metadata": {
    "jp-MarkdownHeadingCollapsed": true,
    "tags": []
   },
   "source": [
    "## 1. Data Preprocessing"
   ]
  },
  {
   "cell_type": "markdown",
   "id": "d446300a-7ca4-4f08-9f7f-d4a1a131970e",
   "metadata": {
    "jp-MarkdownHeadingCollapsed": true,
    "tags": []
   },
   "source": [
    "### Dealing with Missing Data"
   ]
  },
  {
   "cell_type": "code",
   "execution_count": 4,
   "id": "fac31520-d0a9-4f0c-aeaa-cafdb23d8dad",
   "metadata": {},
   "outputs": [
    {
     "data": {
      "text/plain": [
       "Publisher    0.006417\n",
       "Language     0.745870\n",
       "dtype: float64"
      ]
     },
     "execution_count": 4,
     "metadata": {},
     "output_type": "execute_result"
    }
   ],
   "source": [
    "missing_df = train_data_X.isna().sum() / train_data_X.shape[0]\n",
    "missing_df.loc[missing_df.values > 0]"
   ]
  },
  {
   "cell_type": "markdown",
   "id": "9d10eeb6-2da1-4a87-af31-bf7ec6d511f2",
   "metadata": {},
   "source": [
    "<li> In the feature _\"Publisher\"_, there is less that 1% missing data. Moreover, this is a categorical attribute, so we will replace the missing values with a new value: _\"NA\"_."
   ]
  },
  {
   "cell_type": "code",
   "execution_count": 5,
   "id": "fae860d3-eb29-409c-a07c-11909bc7b036",
   "metadata": {},
   "outputs": [
    {
     "data": {
      "text/html": [
       "<div>\n",
       "<style scoped>\n",
       "    .dataframe tbody tr th:only-of-type {\n",
       "        vertical-align: middle;\n",
       "    }\n",
       "\n",
       "    .dataframe tbody tr th {\n",
       "        vertical-align: top;\n",
       "    }\n",
       "\n",
       "    .dataframe thead th {\n",
       "        text-align: right;\n",
       "    }\n",
       "</style>\n",
       "<table border=\"1\" class=\"dataframe\">\n",
       "  <thead>\n",
       "    <tr style=\"text-align: right;\">\n",
       "      <th></th>\n",
       "      <th>Name</th>\n",
       "      <th>Authors</th>\n",
       "      <th>PublishYear</th>\n",
       "      <th>PublishMonth</th>\n",
       "      <th>PublishDay</th>\n",
       "      <th>Publisher</th>\n",
       "      <th>Language</th>\n",
       "      <th>pagesNumber</th>\n",
       "      <th>Description</th>\n",
       "      <th>rating_label</th>\n",
       "    </tr>\n",
       "  </thead>\n",
       "  <tbody>\n",
       "    <tr>\n",
       "      <th>305</th>\n",
       "      <td>UNIX System V release 4 : an introduction for ...</td>\n",
       "      <td>Kenneth H. Rosen</td>\n",
       "      <td>1996</td>\n",
       "      <td>2</td>\n",
       "      <td>1</td>\n",
       "      <td>NA</td>\n",
       "      <td>NaN</td>\n",
       "      <td>1175</td>\n",
       "      <td>An informative introductory text to the UNIX o...</td>\n",
       "      <td>3.0</td>\n",
       "    </tr>\n",
       "    <tr>\n",
       "      <th>573</th>\n",
       "      <td>El abismo en el tiempo</td>\n",
       "      <td>H.P. Lovecraft</td>\n",
       "      <td>1998</td>\n",
       "      <td>2</td>\n",
       "      <td>28</td>\n",
       "      <td>NA</td>\n",
       "      <td>spa</td>\n",
       "      <td>100</td>\n",
       "      <td>“The Shadow out of Time” is H. P. Lovecraft’s ...</td>\n",
       "      <td>4.0</td>\n",
       "    </tr>\n",
       "    <tr>\n",
       "      <th>574</th>\n",
       "      <td>Anne of Windy Willows</td>\n",
       "      <td>L.M. Montgomery</td>\n",
       "      <td>1994</td>\n",
       "      <td>5</td>\n",
       "      <td>1</td>\n",
       "      <td>NA</td>\n",
       "      <td>NaN</td>\n",
       "      <td>240</td>\n",
       "      <td>Anne Shirley has left Redmond College behind t...</td>\n",
       "      <td>4.0</td>\n",
       "    </tr>\n",
       "    <tr>\n",
       "      <th>579</th>\n",
       "      <td>Poor Liza</td>\n",
       "      <td>Nikolay Karamzin</td>\n",
       "      <td>2010</td>\n",
       "      <td>10</td>\n",
       "      <td>15</td>\n",
       "      <td>NA</td>\n",
       "      <td>NaN</td>\n",
       "      <td>80</td>\n",
       "      <td>Nikolaj Karamzin (1766-1826) is vooral bekend ...</td>\n",
       "      <td>3.0</td>\n",
       "    </tr>\n",
       "    <tr>\n",
       "      <th>626</th>\n",
       "      <td>Adventures in Odyssey: Darkness Before Dawn</td>\n",
       "      <td>AIO Team</td>\n",
       "      <td>2004</td>\n",
       "      <td>11</td>\n",
       "      <td>4</td>\n",
       "      <td>NA</td>\n",
       "      <td>NaN</td>\n",
       "      <td>4</td>\n",
       "      <td>An unprecedented wave of criminal activity has...</td>\n",
       "      <td>5.0</td>\n",
       "    </tr>\n",
       "    <tr>\n",
       "      <th>...</th>\n",
       "      <td>...</td>\n",
       "      <td>...</td>\n",
       "      <td>...</td>\n",
       "      <td>...</td>\n",
       "      <td>...</td>\n",
       "      <td>...</td>\n",
       "      <td>...</td>\n",
       "      <td>...</td>\n",
       "      <td>...</td>\n",
       "      <td>...</td>\n",
       "    </tr>\n",
       "    <tr>\n",
       "      <th>22187</th>\n",
       "      <td>Seasons of the Wild: A Year of Nature's Magic ...</td>\n",
       "      <td>Sy Montgomery</td>\n",
       "      <td>1996</td>\n",
       "      <td>3</td>\n",
       "      <td>1</td>\n",
       "      <td>NA</td>\n",
       "      <td>NaN</td>\n",
       "      <td>152</td>\n",
       "      <td>\"Award-winning author Sy Montgomery takes read...</td>\n",
       "      <td>4.0</td>\n",
       "    </tr>\n",
       "    <tr>\n",
       "      <th>22491</th>\n",
       "      <td>P.S. We'll Miss You (Friends-4-Ever, #1)</td>\n",
       "      <td>Deirdre Corey</td>\n",
       "      <td>1990</td>\n",
       "      <td>4</td>\n",
       "      <td>10</td>\n",
       "      <td>NA</td>\n",
       "      <td>eng</td>\n",
       "      <td>121</td>\n",
       "      <td>Don't forget to write!&lt;br /&gt;&lt;br /&gt;Molly has ju...</td>\n",
       "      <td>4.0</td>\n",
       "    </tr>\n",
       "    <tr>\n",
       "      <th>22630</th>\n",
       "      <td>The Iron Man with the Adventures of Dennis Dorgan</td>\n",
       "      <td>Robert E. Howard</td>\n",
       "      <td>1983</td>\n",
       "      <td>10</td>\n",
       "      <td>1</td>\n",
       "      <td>NA</td>\n",
       "      <td>eng</td>\n",
       "      <td>232</td>\n",
       "      <td>Robert E. Howard, creator of &lt;b&gt;CONAN THE BARB...</td>\n",
       "      <td>4.0</td>\n",
       "    </tr>\n",
       "    <tr>\n",
       "      <th>22631</th>\n",
       "      <td>Day of Descent</td>\n",
       "      <td>Judith Reeves-Stevens</td>\n",
       "      <td>1993</td>\n",
       "      <td>12</td>\n",
       "      <td>31</td>\n",
       "      <td>NA</td>\n",
       "      <td>NaN</td>\n",
       "      <td>404</td>\n",
       "      <td>The long-awaited first, original novel based o...</td>\n",
       "      <td>4.0</td>\n",
       "    </tr>\n",
       "    <tr>\n",
       "      <th>22730</th>\n",
       "      <td>Fire From a Journal of Love</td>\n",
       "      <td>Anaïs Nin</td>\n",
       "      <td>1996</td>\n",
       "      <td>3</td>\n",
       "      <td>7</td>\n",
       "      <td>NA</td>\n",
       "      <td>NaN</td>\n",
       "      <td>448</td>\n",
       "      <td>In this “erotically charged”(Publishers Weekly...</td>\n",
       "      <td>4.0</td>\n",
       "    </tr>\n",
       "  </tbody>\n",
       "</table>\n",
       "<p>148 rows × 10 columns</p>\n",
       "</div>"
      ],
      "text/plain": [
       "                                                    Name  \\\n",
       "305    UNIX System V release 4 : an introduction for ...   \n",
       "573                               El abismo en el tiempo   \n",
       "574                                Anne of Windy Willows   \n",
       "579                                            Poor Liza   \n",
       "626          Adventures in Odyssey: Darkness Before Dawn   \n",
       "...                                                  ...   \n",
       "22187  Seasons of the Wild: A Year of Nature's Magic ...   \n",
       "22491           P.S. We'll Miss You (Friends-4-Ever, #1)   \n",
       "22630  The Iron Man with the Adventures of Dennis Dorgan   \n",
       "22631                                     Day of Descent   \n",
       "22730                        Fire From a Journal of Love   \n",
       "\n",
       "                     Authors  PublishYear  PublishMonth  PublishDay Publisher  \\\n",
       "305         Kenneth H. Rosen         1996             2           1        NA   \n",
       "573           H.P. Lovecraft         1998             2          28        NA   \n",
       "574          L.M. Montgomery         1994             5           1        NA   \n",
       "579         Nikolay Karamzin         2010            10          15        NA   \n",
       "626                 AIO Team         2004            11           4        NA   \n",
       "...                      ...          ...           ...         ...       ...   \n",
       "22187          Sy Montgomery         1996             3           1        NA   \n",
       "22491          Deirdre Corey         1990             4          10        NA   \n",
       "22630       Robert E. Howard         1983            10           1        NA   \n",
       "22631  Judith Reeves-Stevens         1993            12          31        NA   \n",
       "22730              Anaïs Nin         1996             3           7        NA   \n",
       "\n",
       "      Language  pagesNumber  \\\n",
       "305        NaN         1175   \n",
       "573        spa          100   \n",
       "574        NaN          240   \n",
       "579        NaN           80   \n",
       "626        NaN            4   \n",
       "...        ...          ...   \n",
       "22187      NaN          152   \n",
       "22491      eng          121   \n",
       "22630      eng          232   \n",
       "22631      NaN          404   \n",
       "22730      NaN          448   \n",
       "\n",
       "                                             Description  rating_label  \n",
       "305    An informative introductory text to the UNIX o...           3.0  \n",
       "573    “The Shadow out of Time” is H. P. Lovecraft’s ...           4.0  \n",
       "574    Anne Shirley has left Redmond College behind t...           4.0  \n",
       "579    Nikolaj Karamzin (1766-1826) is vooral bekend ...           3.0  \n",
       "626    An unprecedented wave of criminal activity has...           5.0  \n",
       "...                                                  ...           ...  \n",
       "22187  \"Award-winning author Sy Montgomery takes read...           4.0  \n",
       "22491  Don't forget to write!<br /><br />Molly has ju...           4.0  \n",
       "22630  Robert E. Howard, creator of <b>CONAN THE BARB...           4.0  \n",
       "22631  The long-awaited first, original novel based o...           4.0  \n",
       "22730  In this “erotically charged”(Publishers Weekly...           4.0  \n",
       "\n",
       "[148 rows x 10 columns]"
      ]
     },
     "execution_count": 5,
     "metadata": {},
     "output_type": "execute_result"
    }
   ],
   "source": [
    "train_data[\"Publisher\"] = train_data[\"Publisher\"].fillna(\"NA\")\n",
    "train_data.loc[train_data[\"Publisher\"] == \"NA\"]"
   ]
  },
  {
   "cell_type": "markdown",
   "id": "37c17721-048e-4256-8a56-2182c1336384",
   "metadata": {},
   "source": [
    "<li> In the feature _\"Language\"_, there is nearly 75% missing data. Having a look at the distribution of the rating label of the whole training data and the missing data:"
   ]
  },
  {
   "cell_type": "code",
   "execution_count": 6,
   "id": "ada8670a-4c90-4614-a0f0-2d5b6fd74235",
   "metadata": {},
   "outputs": [],
   "source": [
    "# Full training dataset\n",
    "full_label = train_data[\"rating_label\"].value_counts() / train_data.shape[0] * 100\n",
    "\n",
    "# Missing label in \"language\" column\n",
    "train_lan_na = train_data.loc[train_data[\"Language\"].isna()][\"rating_label\"]\n",
    "train_lan_na_unique = train_lan_na.value_counts()\n",
    "na_lan = train_lan_na_unique/train_lan_na.shape[0] * 100\n",
    "\n",
    "label_dist = pd.DataFrame({'Full': full_label,\n",
    "                           'Missing': na_lan})"
   ]
  },
  {
   "cell_type": "code",
   "execution_count": 7,
   "id": "03512e77-e5f0-4736-b79e-066b1c561b19",
   "metadata": {},
   "outputs": [],
   "source": [
    "train_lan = train_data[\"Language\"]\n",
    "lan_count = train_lan.value_counts()\n",
    "\n",
    "for lan in lan_count.index:\n",
    "    if (lan_count[lan] < 100):\n",
    "        continue\n",
    "    train_currLan = train_data.loc[train_data[\"Language\"] == lan][\"rating_label\"]\n",
    "    currLan_sr = train_currLan.value_counts() / train_currLan.shape[0] * 100\n",
    "    label_dist[lan] = currLan_sr"
   ]
  },
  {
   "cell_type": "code",
   "execution_count": 8,
   "id": "d4c4ac25-568f-4e43-a190-cdb3451d19bc",
   "metadata": {},
   "outputs": [
    {
     "data": {
      "text/html": [
       "<div>\n",
       "<style scoped>\n",
       "    .dataframe tbody tr th:only-of-type {\n",
       "        vertical-align: middle;\n",
       "    }\n",
       "\n",
       "    .dataframe tbody tr th {\n",
       "        vertical-align: top;\n",
       "    }\n",
       "\n",
       "    .dataframe thead th {\n",
       "        text-align: right;\n",
       "    }\n",
       "</style>\n",
       "<table border=\"1\" class=\"dataframe\">\n",
       "  <thead>\n",
       "    <tr style=\"text-align: right;\">\n",
       "      <th></th>\n",
       "      <th>Full</th>\n",
       "      <th>Missing</th>\n",
       "      <th>eng</th>\n",
       "      <th>fre</th>\n",
       "      <th>spa</th>\n",
       "    </tr>\n",
       "  </thead>\n",
       "  <tbody>\n",
       "    <tr>\n",
       "      <th>4.0</th>\n",
       "      <td>70.277067</td>\n",
       "      <td>67.672364</td>\n",
       "      <td>78.128440</td>\n",
       "      <td>73.376623</td>\n",
       "      <td>79.194631</td>\n",
       "    </tr>\n",
       "    <tr>\n",
       "      <th>3.0</th>\n",
       "      <td>25.426007</td>\n",
       "      <td>27.467736</td>\n",
       "      <td>19.357798</td>\n",
       "      <td>22.077922</td>\n",
       "      <td>18.791946</td>\n",
       "    </tr>\n",
       "    <tr>\n",
       "      <th>5.0</th>\n",
       "      <td>4.296926</td>\n",
       "      <td>4.859900</td>\n",
       "      <td>2.513761</td>\n",
       "      <td>4.545455</td>\n",
       "      <td>2.013423</td>\n",
       "    </tr>\n",
       "  </tbody>\n",
       "</table>\n",
       "</div>"
      ],
      "text/plain": [
       "          Full    Missing        eng        fre        spa\n",
       "4.0  70.277067  67.672364  78.128440  73.376623  79.194631\n",
       "3.0  25.426007  27.467736  19.357798  22.077922  18.791946\n",
       "5.0   4.296926   4.859900   2.513761   4.545455   2.013423"
      ]
     },
     "execution_count": 8,
     "metadata": {},
     "output_type": "execute_result"
    }
   ],
   "source": [
    "label_dist"
   ]
  },
  {
   "cell_type": "markdown",
   "id": "214b9204-5ec7-4759-959f-1ff4e05336d9",
   "metadata": {},
   "source": [
    "As we can see, the distribution of the labels in each category is close to each other. Hence, knowing the value of feature _\"Language\"_ does not give us any information about the class label in this training data.\n",
    "<br> We do not include this feature from the dataset."
   ]
  },
  {
   "cell_type": "code",
   "execution_count": 9,
   "id": "889e4bfd-ee04-4810-854c-0dcfd412d958",
   "metadata": {},
   "outputs": [
    {
     "data": {
      "text/html": [
       "<div>\n",
       "<style scoped>\n",
       "    .dataframe tbody tr th:only-of-type {\n",
       "        vertical-align: middle;\n",
       "    }\n",
       "\n",
       "    .dataframe tbody tr th {\n",
       "        vertical-align: top;\n",
       "    }\n",
       "\n",
       "    .dataframe thead th {\n",
       "        text-align: right;\n",
       "    }\n",
       "</style>\n",
       "<table border=\"1\" class=\"dataframe\">\n",
       "  <thead>\n",
       "    <tr style=\"text-align: right;\">\n",
       "      <th></th>\n",
       "      <th>Name</th>\n",
       "      <th>Authors</th>\n",
       "      <th>PublishYear</th>\n",
       "      <th>PublishMonth</th>\n",
       "      <th>PublishDay</th>\n",
       "      <th>Publisher</th>\n",
       "      <th>pagesNumber</th>\n",
       "      <th>Description</th>\n",
       "    </tr>\n",
       "  </thead>\n",
       "  <tbody>\n",
       "    <tr>\n",
       "      <th>0</th>\n",
       "      <td>Best of Dr Jean: Reading &amp; Writing</td>\n",
       "      <td>Jean R. Feldman</td>\n",
       "      <td>2005</td>\n",
       "      <td>6</td>\n",
       "      <td>1</td>\n",
       "      <td>Teaching Resources</td>\n",
       "      <td>48</td>\n",
       "      <td>Teachers will turn to this treasury of ideas a...</td>\n",
       "    </tr>\n",
       "    <tr>\n",
       "      <th>1</th>\n",
       "      <td>Here All Dwell Free</td>\n",
       "      <td>Gertrud Mueller Nelson</td>\n",
       "      <td>1991</td>\n",
       "      <td>10</td>\n",
       "      <td>1</td>\n",
       "      <td>DoubleDay</td>\n",
       "      <td>364</td>\n",
       "      <td>Every human being lives a fairy tale -- an unc...</td>\n",
       "    </tr>\n",
       "    <tr>\n",
       "      <th>2</th>\n",
       "      <td>Boomer's Big Surprise</td>\n",
       "      <td>Constance W. McGeorge</td>\n",
       "      <td>2005</td>\n",
       "      <td>3</td>\n",
       "      <td>31</td>\n",
       "      <td>Chronicle Books</td>\n",
       "      <td>32</td>\n",
       "      <td>&lt;i&gt;Boomer's Big Surprise&lt;/i&gt; will have special...</td>\n",
       "    </tr>\n",
       "    <tr>\n",
       "      <th>3</th>\n",
       "      <td>I'll Go and Do More: Annie Dodge Wauneka, Nava...</td>\n",
       "      <td>Carolyn Niethammer</td>\n",
       "      <td>2004</td>\n",
       "      <td>9</td>\n",
       "      <td>1</td>\n",
       "      <td>Bison Books</td>\n",
       "      <td>293</td>\n",
       "      <td>&lt;i&gt;I'll Go and Do More&lt;/i&gt; is the story of Ann...</td>\n",
       "    </tr>\n",
       "    <tr>\n",
       "      <th>4</th>\n",
       "      <td>Us</td>\n",
       "      <td>Richard       Mason</td>\n",
       "      <td>2005</td>\n",
       "      <td>7</td>\n",
       "      <td>7</td>\n",
       "      <td>Penguin Books Ltd</td>\n",
       "      <td>352</td>\n",
       "      <td>Since their days at Oxford, they've gone their...</td>\n",
       "    </tr>\n",
       "    <tr>\n",
       "      <th>...</th>\n",
       "      <td>...</td>\n",
       "      <td>...</td>\n",
       "      <td>...</td>\n",
       "      <td>...</td>\n",
       "      <td>...</td>\n",
       "      <td>...</td>\n",
       "      <td>...</td>\n",
       "      <td>...</td>\n",
       "    </tr>\n",
       "    <tr>\n",
       "      <th>23058</th>\n",
       "      <td>Black Coffee Blues</td>\n",
       "      <td>Henry Rollins</td>\n",
       "      <td>1997</td>\n",
       "      <td>8</td>\n",
       "      <td>1</td>\n",
       "      <td>2.13.61</td>\n",
       "      <td>120</td>\n",
       "      <td>\"If I lose the light of the sun, I will write ...</td>\n",
       "    </tr>\n",
       "    <tr>\n",
       "      <th>23059</th>\n",
       "      <td>America's Champion Swimmer: Gertrude Ederle</td>\n",
       "      <td>David A. Adler</td>\n",
       "      <td>2005</td>\n",
       "      <td>6</td>\n",
       "      <td>1</td>\n",
       "      <td>HMH Books for Young Readers</td>\n",
       "      <td>32</td>\n",
       "      <td>Trudy Ederle loved to swim, and she was determ...</td>\n",
       "    </tr>\n",
       "    <tr>\n",
       "      <th>23060</th>\n",
       "      <td>Crime and Custom in Savage Society</td>\n",
       "      <td>Bronisław Malinowski</td>\n",
       "      <td>1989</td>\n",
       "      <td>2</td>\n",
       "      <td>15</td>\n",
       "      <td>Rowman &amp; Littlefield Publishers</td>\n",
       "      <td>132</td>\n",
       "      <td>Bronislaw Malinowski achieved international re...</td>\n",
       "    </tr>\n",
       "    <tr>\n",
       "      <th>23061</th>\n",
       "      <td>The Name and Nature of Poetry and Other Select...</td>\n",
       "      <td>A.E. Housman</td>\n",
       "      <td>1998</td>\n",
       "      <td>4</td>\n",
       "      <td>21</td>\n",
       "      <td>New Amsterdam Books</td>\n",
       "      <td>136</td>\n",
       "      <td>Lovers of Housman's poetry and admirers of his...</td>\n",
       "    </tr>\n",
       "    <tr>\n",
       "      <th>23062</th>\n",
       "      <td>Redemption (Sevens, #7)</td>\n",
       "      <td>Scott Wallens</td>\n",
       "      <td>2002</td>\n",
       "      <td>7</td>\n",
       "      <td>8</td>\n",
       "      <td>Puffin</td>\n",
       "      <td>192</td>\n",
       "      <td>Before the accident, Peter spent every weekend...</td>\n",
       "    </tr>\n",
       "  </tbody>\n",
       "</table>\n",
       "<p>23063 rows × 8 columns</p>\n",
       "</div>"
      ],
      "text/plain": [
       "                                                    Name  \\\n",
       "0                     Best of Dr Jean: Reading & Writing   \n",
       "1                                    Here All Dwell Free   \n",
       "2                                  Boomer's Big Surprise   \n",
       "3      I'll Go and Do More: Annie Dodge Wauneka, Nava...   \n",
       "4                                                     Us   \n",
       "...                                                  ...   \n",
       "23058                                 Black Coffee Blues   \n",
       "23059        America's Champion Swimmer: Gertrude Ederle   \n",
       "23060                 Crime and Custom in Savage Society   \n",
       "23061  The Name and Nature of Poetry and Other Select...   \n",
       "23062                            Redemption (Sevens, #7)   \n",
       "\n",
       "                      Authors  PublishYear  PublishMonth  PublishDay  \\\n",
       "0             Jean R. Feldman         2005             6           1   \n",
       "1      Gertrud Mueller Nelson         1991            10           1   \n",
       "2       Constance W. McGeorge         2005             3          31   \n",
       "3          Carolyn Niethammer         2004             9           1   \n",
       "4         Richard       Mason         2005             7           7   \n",
       "...                       ...          ...           ...         ...   \n",
       "23058           Henry Rollins         1997             8           1   \n",
       "23059          David A. Adler         2005             6           1   \n",
       "23060    Bronisław Malinowski         1989             2          15   \n",
       "23061            A.E. Housman         1998             4          21   \n",
       "23062           Scott Wallens         2002             7           8   \n",
       "\n",
       "                             Publisher  pagesNumber  \\\n",
       "0                   Teaching Resources           48   \n",
       "1                            DoubleDay          364   \n",
       "2                      Chronicle Books           32   \n",
       "3                          Bison Books          293   \n",
       "4                    Penguin Books Ltd          352   \n",
       "...                                ...          ...   \n",
       "23058                          2.13.61          120   \n",
       "23059      HMH Books for Young Readers           32   \n",
       "23060  Rowman & Littlefield Publishers          132   \n",
       "23061              New Amsterdam Books          136   \n",
       "23062                           Puffin          192   \n",
       "\n",
       "                                             Description  \n",
       "0      Teachers will turn to this treasury of ideas a...  \n",
       "1      Every human being lives a fairy tale -- an unc...  \n",
       "2      <i>Boomer's Big Surprise</i> will have special...  \n",
       "3      <i>I'll Go and Do More</i> is the story of Ann...  \n",
       "4      Since their days at Oxford, they've gone their...  \n",
       "...                                                  ...  \n",
       "23058  \"If I lose the light of the sun, I will write ...  \n",
       "23059  Trudy Ederle loved to swim, and she was determ...  \n",
       "23060  Bronislaw Malinowski achieved international re...  \n",
       "23061  Lovers of Housman's poetry and admirers of his...  \n",
       "23062  Before the accident, Peter spent every weekend...  \n",
       "\n",
       "[23063 rows x 8 columns]"
      ]
     },
     "execution_count": 9,
     "metadata": {},
     "output_type": "execute_result"
    }
   ],
   "source": [
    "train_data_X.drop(columns = [\"Language\"])"
   ]
  },
  {
   "cell_type": "markdown",
   "id": "b28458b9-199e-4225-87b5-5d7dece9a4d2",
   "metadata": {
    "tags": []
   },
   "source": [
    "### Text Preprocessing\n",
    " We will used the provided doc2vec for string data types features _\"Name\"_ and _\"Description\"_."
   ]
  },
  {
   "cell_type": "code",
   "execution_count": 10,
   "id": "c5c95289-f88e-4a14-b866-89f93dda1cc0",
   "metadata": {},
   "outputs": [],
   "source": [
    "# Name feature\n",
    "train_name = pd.read_csv(r\"project_data_files/book_text_features_doc2vec/book_text_features_doc2vec/train_name_doc2vec100.csv\", index_col = False, delimiter = ',', header=None)\n",
    "test_name = pd.read_csv(r\"project_data_files/book_text_features_doc2vec/book_text_features_doc2vec/test_name_doc2vec100.csv\", index_col = False, delimiter = ',', header=None)\n",
    "\n",
    "# Description feature\n",
    "train_desc = pd.read_csv(r\"project_data_files/book_text_features_doc2vec/book_text_features_doc2vec/train_desc_doc2vec100.csv\", index_col = False, delimiter = ',', header=None)\n",
    "test_desc = pd.read_csv(r\"project_data_files/book_text_features_doc2vec/book_text_features_doc2vec/test_desc_doc2vec100.csv\", index_col = False, delimiter = ',', header=None)"
   ]
  },
  {
   "cell_type": "code",
   "execution_count": 11,
   "id": "9180e81f-b64f-42f9-acc2-c798ccc253f5",
   "metadata": {},
   "outputs": [],
   "source": [
    "def columns_change(df, string):\n",
    "    arr = [string + str(i) for i in range(1, df.shape[1]+1)]\n",
    "    df.columns = arr\n",
    "    return df"
   ]
  },
  {
   "cell_type": "code",
   "execution_count": 12,
   "id": "9fb2fab6-3f30-4813-ac8e-9c43cd976689",
   "metadata": {},
   "outputs": [],
   "source": [
    "train_name = columns_change(train_name, \"name_\")\n",
    "train_desc = columns_change(train_desc, \"desc_\")"
   ]
  },
  {
   "cell_type": "code",
   "execution_count": 13,
   "id": "68202358-552a-474d-b34b-f3bae1ba1139",
   "metadata": {},
   "outputs": [],
   "source": [
    "# train_data_X = pd.concat([train_data_X, train_name, train_desc], axis=1)\n",
    "# train_data_X = train_data_X.drop(\"Name\", axis=1)\n",
    "# train_data_X = train_data_X.drop(\"Description\", axis=1)\n",
    "# train_data_X"
   ]
  },
  {
   "cell_type": "markdown",
   "id": "18eed58c-ee5b-41a9-af5f-183155b3cc6e",
   "metadata": {
    "tags": []
   },
   "source": [
    "### Data Types Conversion"
   ]
  },
  {
   "cell_type": "markdown",
   "id": "7a8b88bf-0b47-482e-a01d-41a80dae33a2",
   "metadata": {},
   "source": [
    "We convert the nominal feature _\"Publisher\"_ into numeric feature using one-hot encoding"
   ]
  },
  {
   "cell_type": "code",
   "execution_count": 28,
   "id": "8fc3d569-111f-4c61-bb14-77bc06ef7017",
   "metadata": {},
   "outputs": [],
   "source": [
    "publisher_dummies = pd.get_dummies(train_data_X[\"Publisher\"])"
   ]
  },
  {
   "cell_type": "code",
   "execution_count": 29,
   "id": "0807be11-1922-44ff-9f04-69d383748a6f",
   "metadata": {},
   "outputs": [],
   "source": [
    "author_dummies = pd.get_dummies(train_data_X[\"Authors\"])"
   ]
  },
  {
   "cell_type": "code",
   "execution_count": 25,
   "id": "47ba6003-31d4-4010-8466-410fc84313c3",
   "metadata": {},
   "outputs": [],
   "source": [
    "# train_data_X = pd.concat([train_data_X, dummies], axis=1)\n",
    "# train_data_X = train_data_X.drop(\"Publisher\", axis=1)\n",
    "# train_data_X"
   ]
  },
  {
   "cell_type": "markdown",
   "id": "d7815064-7813-48ea-a339-0cb605aa21a1",
   "metadata": {},
   "source": [
    "#### Feature Filtering\n",
    "\n",
    "We use Mutual Information to select the best k features from each of the above processed datasets."
   ]
  },
  {
   "cell_type": "code",
   "execution_count": null,
   "id": "ce364fb1-ff17-49d5-9ffd-c9b1060b03d3",
   "metadata": {},
   "outputs": [],
   "source": [
    "from sklearn.feature_selection import mutual_info_classif\n",
    "mi = SelectKBest(score_func=mutual_info_classif, k=10)\n",
    "\n",
    "X_train_mi = mi.fit_transform(train_data_X,train_data_y)\n"
   ]
  },
  {
   "cell_type": "markdown",
   "id": "8703557f-dc59-4250-a10d-7abba43f8fd7",
   "metadata": {
    "tags": []
   },
   "source": [
    "### Split the training data into train and test dataset"
   ]
  },
  {
   "cell_type": "code",
   "execution_count": 15,
   "id": "51acdab9-0496-4b68-8a06-126b7e803f98",
   "metadata": {},
   "outputs": [],
   "source": [
    "# Split the training data into train and test set\n",
    "split_ratio = 0.8\n",
    "split_position = int(0.8 * train_data.shape[0])\n",
    "train_X = train_data_X[:split_position]\n",
    "train_y = train_data_y[:split_position]\n",
    "\n",
    "test_X = train_data_X[split_position:]\n",
    "test_y = train_data_y[split_position:]"
   ]
  },
  {
   "cell_type": "code",
   "execution_count": 16,
   "id": "55881383-17c0-4c35-8901-1a622713fc70",
   "metadata": {},
   "outputs": [],
   "source": [
    "train_data_X.to_csv(\"Preprocessed_data.csv\", index=False)"
   ]
  },
  {
   "cell_type": "markdown",
   "id": "dffc4145-da9c-4cf5-a46e-438328a2b9bc",
   "metadata": {},
   "source": [
    "## 2. Modelling"
   ]
  },
  {
   "cell_type": "markdown",
   "id": "1b38423a-9bba-4a97-9e15-27ed53660abf",
   "metadata": {
    "tags": []
   },
   "source": [
    "## (a) Baseline model (0-R)"
   ]
  },
  {
   "cell_type": "code",
   "execution_count": 17,
   "id": "6db90576-b5c9-4b43-84bc-62bb1613d654",
   "metadata": {},
   "outputs": [
    {
     "data": {
      "text/html": [
       "<style>#sk-container-id-1 {color: black;background-color: white;}#sk-container-id-1 pre{padding: 0;}#sk-container-id-1 div.sk-toggleable {background-color: white;}#sk-container-id-1 label.sk-toggleable__label {cursor: pointer;display: block;width: 100%;margin-bottom: 0;padding: 0.3em;box-sizing: border-box;text-align: center;}#sk-container-id-1 label.sk-toggleable__label-arrow:before {content: \"▸\";float: left;margin-right: 0.25em;color: #696969;}#sk-container-id-1 label.sk-toggleable__label-arrow:hover:before {color: black;}#sk-container-id-1 div.sk-estimator:hover label.sk-toggleable__label-arrow:before {color: black;}#sk-container-id-1 div.sk-toggleable__content {max-height: 0;max-width: 0;overflow: hidden;text-align: left;background-color: #f0f8ff;}#sk-container-id-1 div.sk-toggleable__content pre {margin: 0.2em;color: black;border-radius: 0.25em;background-color: #f0f8ff;}#sk-container-id-1 input.sk-toggleable__control:checked~div.sk-toggleable__content {max-height: 200px;max-width: 100%;overflow: auto;}#sk-container-id-1 input.sk-toggleable__control:checked~label.sk-toggleable__label-arrow:before {content: \"▾\";}#sk-container-id-1 div.sk-estimator input.sk-toggleable__control:checked~label.sk-toggleable__label {background-color: #d4ebff;}#sk-container-id-1 div.sk-label input.sk-toggleable__control:checked~label.sk-toggleable__label {background-color: #d4ebff;}#sk-container-id-1 input.sk-hidden--visually {border: 0;clip: rect(1px 1px 1px 1px);clip: rect(1px, 1px, 1px, 1px);height: 1px;margin: -1px;overflow: hidden;padding: 0;position: absolute;width: 1px;}#sk-container-id-1 div.sk-estimator {font-family: monospace;background-color: #f0f8ff;border: 1px dotted black;border-radius: 0.25em;box-sizing: border-box;margin-bottom: 0.5em;}#sk-container-id-1 div.sk-estimator:hover {background-color: #d4ebff;}#sk-container-id-1 div.sk-parallel-item::after {content: \"\";width: 100%;border-bottom: 1px solid gray;flex-grow: 1;}#sk-container-id-1 div.sk-label:hover label.sk-toggleable__label {background-color: #d4ebff;}#sk-container-id-1 div.sk-serial::before {content: \"\";position: absolute;border-left: 1px solid gray;box-sizing: border-box;top: 0;bottom: 0;left: 50%;z-index: 0;}#sk-container-id-1 div.sk-serial {display: flex;flex-direction: column;align-items: center;background-color: white;padding-right: 0.2em;padding-left: 0.2em;position: relative;}#sk-container-id-1 div.sk-item {position: relative;z-index: 1;}#sk-container-id-1 div.sk-parallel {display: flex;align-items: stretch;justify-content: center;background-color: white;position: relative;}#sk-container-id-1 div.sk-item::before, #sk-container-id-1 div.sk-parallel-item::before {content: \"\";position: absolute;border-left: 1px solid gray;box-sizing: border-box;top: 0;bottom: 0;left: 50%;z-index: -1;}#sk-container-id-1 div.sk-parallel-item {display: flex;flex-direction: column;z-index: 1;position: relative;background-color: white;}#sk-container-id-1 div.sk-parallel-item:first-child::after {align-self: flex-end;width: 50%;}#sk-container-id-1 div.sk-parallel-item:last-child::after {align-self: flex-start;width: 50%;}#sk-container-id-1 div.sk-parallel-item:only-child::after {width: 0;}#sk-container-id-1 div.sk-dashed-wrapped {border: 1px dashed gray;margin: 0 0.4em 0.5em 0.4em;box-sizing: border-box;padding-bottom: 0.4em;background-color: white;}#sk-container-id-1 div.sk-label label {font-family: monospace;font-weight: bold;display: inline-block;line-height: 1.2em;}#sk-container-id-1 div.sk-label-container {text-align: center;}#sk-container-id-1 div.sk-container {/* jupyter's `normalize.less` sets `[hidden] { display: none; }` but bootstrap.min.css set `[hidden] { display: none !important; }` so we also need the `!important` here to be able to override the default hidden behavior on the sphinx rendered scikit-learn.org. See: https://github.com/scikit-learn/scikit-learn/issues/21755 */display: inline-block !important;position: relative;}#sk-container-id-1 div.sk-text-repr-fallback {display: none;}</style><div id=\"sk-container-id-1\" class=\"sk-top-container\"><div class=\"sk-text-repr-fallback\"><pre>DummyClassifier(strategy=&#x27;most_frequent&#x27;)</pre><b>In a Jupyter environment, please rerun this cell to show the HTML representation or trust the notebook. <br />On GitHub, the HTML representation is unable to render, please try loading this page with nbviewer.org.</b></div><div class=\"sk-container\" hidden><div class=\"sk-item\"><div class=\"sk-estimator sk-toggleable\"><input class=\"sk-toggleable__control sk-hidden--visually\" id=\"sk-estimator-id-1\" type=\"checkbox\" checked><label for=\"sk-estimator-id-1\" class=\"sk-toggleable__label sk-toggleable__label-arrow\">DummyClassifier</label><div class=\"sk-toggleable__content\"><pre>DummyClassifier(strategy=&#x27;most_frequent&#x27;)</pre></div></div></div></div></div>"
      ],
      "text/plain": [
       "DummyClassifier(strategy='most_frequent')"
      ]
     },
     "execution_count": 17,
     "metadata": {},
     "output_type": "execute_result"
    }
   ],
   "source": [
    "from sklearn.dummy import DummyClassifier\n",
    "zero_r = DummyClassifier(strategy='most_frequent')\n",
    "zero_r.fit(train_X, train_y)"
   ]
  },
  {
   "cell_type": "code",
   "execution_count": 18,
   "id": "1f704c2d-b5fc-4f59-a376-4ab5a3adb40c",
   "metadata": {},
   "outputs": [
    {
     "data": {
      "text/plain": [
       "array([4., 4., 4., ..., 4., 4., 4.])"
      ]
     },
     "execution_count": 18,
     "metadata": {},
     "output_type": "execute_result"
    }
   ],
   "source": [
    "zr_predict = zero_r.predict(test_X)\n",
    "zr_predict"
   ]
  },
  {
   "cell_type": "code",
   "execution_count": 19,
   "id": "f51394a4-adfd-416c-b783-0a428f8bb79c",
   "metadata": {},
   "outputs": [
    {
     "data": {
      "text/plain": [
       "0.7053977888575764"
      ]
     },
     "execution_count": 19,
     "metadata": {},
     "output_type": "execute_result"
    }
   ],
   "source": [
    "zero_r.score(test_X, test_y)"
   ]
  },
  {
   "cell_type": "markdown",
   "id": "5390b8c4-014b-4f49-b37e-e8e0f0592d15",
   "metadata": {},
   "source": [
    "## (b) One-R"
   ]
  },
  {
   "cell_type": "code",
   "execution_count": null,
   "id": "c12ac55e-637d-4ad3-a1ce-6c155474efab",
   "metadata": {},
   "outputs": [],
   "source": []
  }
 ],
 "metadata": {
  "kernelspec": {
   "display_name": "Python 3 (ipykernel)",
   "language": "python",
   "name": "python3"
  },
  "language_info": {
   "codemirror_mode": {
    "name": "ipython",
    "version": 3
   },
   "file_extension": ".py",
   "mimetype": "text/x-python",
   "name": "python",
   "nbconvert_exporter": "python",
   "pygments_lexer": "ipython3",
   "version": "3.11.4"
  }
 },
 "nbformat": 4,
 "nbformat_minor": 5
}
