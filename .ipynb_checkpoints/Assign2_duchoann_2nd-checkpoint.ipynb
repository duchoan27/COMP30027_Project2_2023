{
 "cells": [
  {
   "cell_type": "markdown",
   "id": "c812e64d-0bf7-4f2e-8a54-083dd66f2947",
   "metadata": {},
   "source": [
    "# COMP30027 Machine Learning Project 2"
   ]
  },
  {
   "cell_type": "code",
   "execution_count": null,
   "id": "e13414eb-4497-4dab-88f7-34be351519f0",
   "metadata": {},
   "outputs": [],
   "source": [
    "import pandas as pd\n",
    "import numpy as np\n",
    "import matplotlib.pyplot as plt\n",
    "import warnings\n",
    "import seaborn as sns"
   ]
  },
  {
   "cell_type": "code",
   "execution_count": null,
   "id": "e5e9c724-c97b-49b9-acaa-2037fc662da3",
   "metadata": {
    "tags": []
   },
   "outputs": [],
   "source": [
    "from sklearn.preprocessing import OneHotEncoder\n",
    "from sklearn.feature_selection import SelectKBest, chi2\n",
    "from sklearn.dummy import DummyClassifier\n",
    "from sklearn.linear_model import LogisticRegression\n",
    "from sklearn.metrics import confusion_matrix\n",
    "from sklearn.ensemble import AdaBoostClassifier\n",
    "from sklearn.tree import DecisionTreeClassifier\n",
    "from sklearn.model_selection import cross_val_score\n",
    "from sklearn.model_selection import RepeatedStratifiedKFold\n",
    "from sklearn.metrics import precision_score\n",
    "from sklearn.model_selection import GridSearchCV\n",
    "from sklearn.metrics import confusion_matrix\n",
    "\n",
    "from numpy import mean\n",
    "from numpy import std\n",
    "from numpy import median"
   ]
  },
  {
   "cell_type": "markdown",
   "id": "0c29c257-6d2b-4b7e-a7e2-1abe4a8e2da9",
   "metadata": {
    "tags": []
   },
   "source": [
    "### Load the data"
   ]
  },
  {
   "cell_type": "code",
   "execution_count": null,
   "id": "445d2f7a-1277-44cf-bbcd-9c2ff1e02fdf",
   "metadata": {},
   "outputs": [],
   "source": [
    "# Training data \n",
    "train_data = pd.read_csv(r\"project_data_files/book_rating_train.csv\", index_col = False, delimiter = ',', header=0)"
   ]
  },
  {
   "cell_type": "code",
   "execution_count": null,
   "id": "71e84e87-70c2-4bfb-a4a2-6fda80cb8ce0",
   "metadata": {},
   "outputs": [],
   "source": [
    "train_data_X = train_data.iloc[:, :-1]\n",
    "train_data_y = train_data.iloc[:, -1]"
   ]
  },
  {
   "cell_type": "code",
   "execution_count": null,
   "id": "c310e285-9146-41a4-bd31-0ba562faa523",
   "metadata": {},
   "outputs": [],
   "source": [
    "train_data.shape"
   ]
  },
  {
   "cell_type": "code",
   "execution_count": null,
   "id": "bc6a170d-7c67-496c-9cd7-f49c78fc218d",
   "metadata": {},
   "outputs": [],
   "source": [
    "train_test_ratio = 0.8\n",
    "split_position = int(0.8 * train_data.shape[0])\n",
    "y_train = train_data_y.iloc[:split_position]\n",
    "y_test = train_data_y.iloc[split_position:]"
   ]
  },
  {
   "cell_type": "markdown",
   "id": "8f455431-691a-409b-bd58-7b81a37e6b8f",
   "metadata": {
    "tags": []
   },
   "source": [
    "## 1. Data Preprocessing"
   ]
  },
  {
   "cell_type": "markdown",
   "id": "238e2e7e-109c-45f2-acf8-c6afb0eed971",
   "metadata": {
    "tags": []
   },
   "source": [
    "### Dealing with Missing Data"
   ]
  },
  {
   "cell_type": "code",
   "execution_count": null,
   "id": "f277886c-3cf7-44a6-92ac-9c5f9c2723db",
   "metadata": {},
   "outputs": [],
   "source": [
    "missing_df = train_data_X.isna().sum() / train_data_X.shape[0]\n",
    "missing_df.loc[missing_df.values > 0]"
   ]
  },
  {
   "cell_type": "code",
   "execution_count": null,
   "id": "2b5aebd2-e45d-40d6-868d-32328518966b",
   "metadata": {},
   "outputs": [],
   "source": [
    "train_data[\"Publisher\"] = train_data[\"Publisher\"].fillna(\"NA\")\n",
    "train_data.loc[train_data[\"Publisher\"] == \"NA\"]"
   ]
  },
  {
   "cell_type": "markdown",
   "id": "3fb5ae1c-2e27-4978-a2d4-36f2f9a78caa",
   "metadata": {},
   "source": [
    "<li> In the feature _\"Language\"_, there is nearly 75% missing data. Having a look at the distribution of the rating label of the whole training data and the missing data:"
   ]
  },
  {
   "cell_type": "code",
   "execution_count": null,
   "id": "ee38989b-2907-488a-ad2d-3ef988a37892",
   "metadata": {},
   "outputs": [],
   "source": [
    "# Full training dataset\n",
    "full_label = train_data[\"rating_label\"].value_counts() / train_data.shape[0] * 100\n",
    "\n",
    "# Missing label in \"language\" column\n",
    "train_lan_na = train_data.loc[train_data[\"Language\"].isna()][\"rating_label\"]\n",
    "train_lan_na_unique = train_lan_na.value_counts()\n",
    "na_lan = train_lan_na_unique/train_lan_na.shape[0] * 100\n",
    "\n",
    "label_dist = pd.DataFrame({'Full': full_label,\n",
    "                           'Missing': na_lan})"
   ]
  },
  {
   "cell_type": "code",
   "execution_count": null,
   "id": "5557eb9f-3387-43a1-8a2d-da6dc2e180ae",
   "metadata": {},
   "outputs": [],
   "source": [
    "train_lan = train_data[\"Language\"]\n",
    "lan_count = train_lan.value_counts()\n",
    "\n",
    "for lan in lan_count.index:\n",
    "    if (lan_count[lan] < 100):\n",
    "        continue\n",
    "    train_currLan = train_data.loc[train_data[\"Language\"] == lan][\"rating_label\"]\n",
    "    currLan_sr = train_currLan.value_counts() / train_currLan.shape[0] * 100\n",
    "    label_dist[lan] = currLan_sr"
   ]
  },
  {
   "cell_type": "code",
   "execution_count": null,
   "id": "3269c7e3-81a9-4d46-91ad-b4d5fc9a1f9f",
   "metadata": {},
   "outputs": [],
   "source": [
    "label_dist"
   ]
  },
  {
   "cell_type": "markdown",
   "id": "cb95a40d-dbb1-47bf-a684-0f2b58faa9ac",
   "metadata": {},
   "source": [
    "As we can see, the distribution of the labels in each category is close to each other. Hence, knowing the value of feature _\"Language\"_ does not give us any information about the class label in this training data.\n",
    "<br> We do not include this feature from the dataset."
   ]
  },
  {
   "cell_type": "code",
   "execution_count": null,
   "id": "e7b16c73-d09a-4ee1-b268-fe8643880080",
   "metadata": {},
   "outputs": [],
   "source": [
    "train_data_X = train_data_X.drop(columns = [\"Language\"])\n",
    "train_data_X"
   ]
  },
  {
   "cell_type": "markdown",
   "id": "86c39b0f-4d6e-443c-ae72-4b73df310a25",
   "metadata": {
    "tags": []
   },
   "source": [
    "### Data Types Conversion"
   ]
  },
  {
   "cell_type": "markdown",
   "id": "9d0bb25a-e19e-4b14-834f-2f416c04369d",
   "metadata": {},
   "source": [
    "##### Authors & Publisher"
   ]
  },
  {
   "cell_type": "markdown",
   "id": "de69958b-cab3-40ff-9922-0063d405aa01",
   "metadata": {},
   "source": [
    "Convert _\"Authors\"_ and _\"Publisher\"_ attributes to numerical type using one-hot encoding"
   ]
  },
  {
   "cell_type": "code",
   "execution_count": null,
   "id": "d4db69bd-0c9c-45d7-8f69-af68c76d0681",
   "metadata": {},
   "outputs": [],
   "source": [
    "authors_df = pd.DataFrame(train_data[\"Authors\"])\n",
    "publisher_df = pd.DataFrame(train_data[\"Publisher\"])"
   ]
  },
  {
   "cell_type": "code",
   "execution_count": null,
   "id": "ed689698-1722-4496-8cf5-9a2e1056b16c",
   "metadata": {},
   "outputs": [],
   "source": [
    "# Authors\n",
    "authors_ohe = OneHotEncoder()\n",
    "\n",
    "authors_ohe.fit(authors_df)\n",
    "authors_trans_ohe = authors_ohe.transform(authors_df).toarray()\n",
    "authors_trans_df = pd.DataFrame(authors_trans_ohe, columns=authors_ohe.get_feature_names_out())"
   ]
  },
  {
   "cell_type": "code",
   "execution_count": null,
   "id": "ffeb7d54-f5da-44f4-9503-14ba6a0647a9",
   "metadata": {},
   "outputs": [],
   "source": [
    "#Publisher\n",
    "publisher_ohe = OneHotEncoder()\n",
    "\n",
    "publisher_ohe.fit(publisher_df)\n",
    "publisher_trans_ohe = publisher_ohe.transform(publisher_df).toarray()\n",
    "publisher_trans_df = pd.DataFrame(publisher_trans_ohe, columns=publisher_ohe.get_feature_names_out())"
   ]
  },
  {
   "cell_type": "markdown",
   "id": "fa92b000-f25c-4f04-b687-71ec708c477b",
   "metadata": {},
   "source": [
    "Select 10 best features from the one-hot encoded _\"Authors\"_ and _\"Publisher\"_ features."
   ]
  },
  {
   "cell_type": "markdown",
   "id": "a118dc56-eacb-407b-af40-fa07253c7e7f",
   "metadata": {},
   "source": [
    "<li> Authors"
   ]
  },
  {
   "cell_type": "code",
   "execution_count": null,
   "id": "a7ff56ac-9f96-4a30-b031-bb9cda9c2d81",
   "metadata": {},
   "outputs": [],
   "source": [
    "# Authors\n",
    "authors_x2 = SelectKBest(chi2, k=10)\n",
    "authors_train = authors_trans_df[:split_position]\n",
    "authors_test = authors_trans_df[split_position:]\n",
    "\n",
    "authors_train_x2 = authors_x2.fit_transform(authors_train,y_train)\n",
    "authors_test_x2 = authors_x2.transform(authors_test)"
   ]
  },
  {
   "cell_type": "code",
   "execution_count": null,
   "id": "0654464b-3edd-4359-b124-8327288ad519",
   "metadata": {},
   "outputs": [],
   "source": [
    "authors_features = []\n",
    "for feat_num in authors_x2.get_support(indices=True):\n",
    "    authors_features.append(authors_ohe.get_feature_names_out()[feat_num])"
   ]
  },
  {
   "cell_type": "code",
   "execution_count": null,
   "id": "683588d5-832c-4693-bd15-de8b20b4521b",
   "metadata": {},
   "outputs": [],
   "source": [
    "authors_features"
   ]
  },
  {
   "cell_type": "code",
   "execution_count": null,
   "id": "323f6413-f634-47b7-bf61-4fa192ed7805",
   "metadata": {},
   "outputs": [],
   "source": [
    "authors_train_df = pd.DataFrame(authors_train_x2, columns=authors_features)\n",
    "authors_test_df = pd.DataFrame(authors_test_x2, columns=authors_features)\n",
    "best_authors_df = pd.concat([authors_train_df, authors_test_df], ignore_index=True)"
   ]
  },
  {
   "cell_type": "markdown",
   "id": "f66c7709-16e4-412b-b496-1fecc4f9a1b2",
   "metadata": {},
   "source": [
    "<li> Publisher"
   ]
  },
  {
   "cell_type": "code",
   "execution_count": null,
   "id": "4dc15888-292b-4483-8ae6-fd84ddffb97e",
   "metadata": {},
   "outputs": [],
   "source": [
    "# Publisher\n",
    "publisher_x2 = SelectKBest(chi2, k=10)\n",
    "publisher_train = publisher_trans_df[:split_position]\n",
    "publisher_test = publisher_trans_df[split_position:]\n",
    "\n",
    "publisher_train_x2 = publisher_x2.fit_transform(publisher_train,y_train)\n",
    "publisher_test_x2 = publisher_x2.transform(publisher_test)"
   ]
  },
  {
   "cell_type": "code",
   "execution_count": null,
   "id": "abefc973-f40a-4faa-8482-6cf54d3671ab",
   "metadata": {},
   "outputs": [],
   "source": [
    "publisher_features = []\n",
    "for feat_num in publisher_x2.get_support(indices=True):\n",
    "    publisher_features.append(publisher_ohe.get_feature_names_out()[feat_num])"
   ]
  },
  {
   "cell_type": "code",
   "execution_count": null,
   "id": "7bd1b119-b7f9-4422-9048-7e1bbed9db35",
   "metadata": {},
   "outputs": [],
   "source": [
    "publisher_features"
   ]
  },
  {
   "cell_type": "code",
   "execution_count": null,
   "id": "0ea9cd0e-5fb9-4504-9780-602f322cd41a",
   "metadata": {},
   "outputs": [],
   "source": [
    "publisher_train_df = pd.DataFrame(publisher_train_x2, columns=publisher_features)\n",
    "publisher_test_df = pd.DataFrame(publisher_test_x2, columns=publisher_features)\n",
    "best_publisher_df = pd.concat([publisher_train_df, publisher_test_df], ignore_index=True)"
   ]
  },
  {
   "cell_type": "markdown",
   "id": "ce8ba39c-ddae-4228-949f-323cdd81585e",
   "metadata": {},
   "source": [
    "##### Name & Description"
   ]
  },
  {
   "cell_type": "markdown",
   "id": "5f9fe369-8446-414c-85c9-80b4694e04fb",
   "metadata": {},
   "source": [
    "Convert _\"Name\"_ and _\"Description\"_ attributes to numerical type using the preprocessed CountVectorizer"
   ]
  },
  {
   "cell_type": "code",
   "execution_count": null,
   "id": "4cf1ebe6-d24e-4673-8dd3-cbb7e16b69bb",
   "metadata": {},
   "outputs": [],
   "source": [
    "import pickle\n",
    "name_countVec = pickle.load(open(\"project_data_files/book_text_features_countvec/book_text_features_countvec/train_name_countvectorizer.pkl\", \"rb\"))\n",
    "desc_countVec = pickle.load(open(\"project_data_files/book_text_features_countvec/book_text_features_countvec/train_desc_countvectorizer.pkl\", \"rb\"))"
   ]
  },
  {
   "cell_type": "code",
   "execution_count": null,
   "id": "6a27204e-b587-4df1-b2d2-5b9286af04b9",
   "metadata": {},
   "outputs": [],
   "source": [
    "name_df = pd.DataFrame(name_countVec.transform(train_data_X[\"Name\"]).todense(), columns=name_countVec.get_feature_names_out())\n",
    "desc_df = pd.DataFrame(desc_countVec.transform(train_data_X[\"Description\"]).todense(), columns=desc_countVec.get_feature_names_out())"
   ]
  },
  {
   "cell_type": "markdown",
   "id": "f338342e-24e0-4bbe-9bdc-9713960c2c35",
   "metadata": {},
   "source": [
    "Select 10 best features from the vectorized _\"Name\"_ and _\"Description\"_ features."
   ]
  },
  {
   "cell_type": "markdown",
   "id": "0268056a-78de-4311-94ed-5e32728c603e",
   "metadata": {},
   "source": [
    "<li> Description"
   ]
  },
  {
   "cell_type": "code",
   "execution_count": null,
   "id": "0bf9224e-7118-4944-b059-c6b2b14d39b0",
   "metadata": {},
   "outputs": [],
   "source": [
    "# Description\n",
    "desc_x2 = SelectKBest(chi2, k=10)\n",
    "desc_train = desc_df[:split_position]\n",
    "desc_test = desc_df[split_position:]\n",
    "\n",
    "desc_train_x2 = desc_x2.fit_transform(desc_train,y_train)\n",
    "desc_test_x2 = desc_x2.transform(desc_test)"
   ]
  },
  {
   "cell_type": "code",
   "execution_count": null,
   "id": "c3efbf93-eb91-486b-97bb-efb76bcae620",
   "metadata": {},
   "outputs": [],
   "source": [
    "desc_features = []\n",
    "for feat_num in desc_x2.get_support(indices=True):\n",
    "    desc_features.append(\"Desc_\" + desc_countVec.get_feature_names_out()[feat_num])"
   ]
  },
  {
   "cell_type": "code",
   "execution_count": null,
   "id": "95515771-956e-44ff-a9c0-785350555a7a",
   "metadata": {},
   "outputs": [],
   "source": [
    "desc_features"
   ]
  },
  {
   "cell_type": "code",
   "execution_count": null,
   "id": "c8fb1ccc-d9db-4dc5-941b-ebbc013d3298",
   "metadata": {},
   "outputs": [],
   "source": [
    "desc_train_df = pd.DataFrame(desc_train_x2, columns=desc_features)\n",
    "desc_test_df = pd.DataFrame(desc_test_x2, columns=desc_features)\n",
    "best_desc_df = pd.concat([desc_train_df, desc_test_df], ignore_index=True)"
   ]
  },
  {
   "cell_type": "markdown",
   "id": "646b1089-a13f-4808-b5cb-2b394aca5e4c",
   "metadata": {},
   "source": [
    "<li> Names"
   ]
  },
  {
   "cell_type": "code",
   "execution_count": null,
   "id": "62e217b8-6872-4501-866f-8049e9357624",
   "metadata": {},
   "outputs": [],
   "source": [
    "# Names\n",
    "name_x2 = SelectKBest(chi2, k=10)\n",
    "name_train = name_df[:split_position]\n",
    "name_test = name_df[split_position:]\n",
    "\n",
    "name_train_x2 = name_x2.fit_transform(name_train,y_train)\n",
    "name_test_x2 = name_x2.transform(name_test)"
   ]
  },
  {
   "cell_type": "code",
   "execution_count": null,
   "id": "9a4dccbe-8816-40ce-aeb9-d9387201b616",
   "metadata": {},
   "outputs": [],
   "source": [
    "name_features = []\n",
    "for feat_num in name_x2.get_support(indices=True):\n",
    "    name_features.append(\"Name_\" + name_countVec.get_feature_names_out()[feat_num])"
   ]
  },
  {
   "cell_type": "code",
   "execution_count": null,
   "id": "3aa50625-53de-4f69-9522-2c968c52dfa2",
   "metadata": {},
   "outputs": [],
   "source": [
    "name_features"
   ]
  },
  {
   "cell_type": "code",
   "execution_count": null,
   "id": "55456e8f-3287-4d8f-a5ec-b1860aa48cb4",
   "metadata": {
    "tags": []
   },
   "outputs": [],
   "source": [
    "name_train_df = pd.DataFrame(name_train_x2, columns=name_features)\n",
    "name_test_df = pd.DataFrame(name_test_x2, columns=name_features)\n",
    "best_name_df = pd.concat([name_train_df, name_test_df], ignore_index=True)"
   ]
  },
  {
   "cell_type": "markdown",
   "id": "bbed79aa-aca9-4a80-805e-8f7eb85bc3b5",
   "metadata": {},
   "source": [
    "<li> Import the preprocessed data"
   ]
  },
  {
   "cell_type": "code",
   "execution_count": null,
   "id": "02ad57a2-d311-4493-becf-cfd9c46ef7c9",
   "metadata": {},
   "outputs": [],
   "source": [
    "processed_train_data_X = pd.concat([train_data_X, best_authors_df, best_publisher_df, best_desc_df, best_name_df], axis=1)\n",
    "p_train_data_X = processed_train_data_X.drop(columns = [\"Name\", \"Authors\", \"Publisher\", \"Description\"])\n",
    "p_train_data_X"
   ]
  },
  {
   "cell_type": "markdown",
   "id": "8d79dc84-e0a0-4565-bb53-e6bca794d638",
   "metadata": {
    "jp-MarkdownHeadingCollapsed": true,
    "tags": []
   },
   "source": [
    "## 2. Modelling"
   ]
  },
  {
   "cell_type": "code",
   "execution_count": null,
   "id": "707f562e-a8cb-4335-8fb1-db5a5b45981a",
   "metadata": {},
   "outputs": [],
   "source": [
    "X_train = p_train_data_X.iloc[:split_position]\n",
    "X_test = p_train_data_X.iloc[split_position:]"
   ]
  },
  {
   "cell_type": "code",
   "execution_count": null,
   "id": "3658c834-074d-4ba7-9f55-1e8afd0e2634",
   "metadata": {},
   "outputs": [],
   "source": [
    "fig, axs = plt.subplots(nrows=2, ncols=1, figsize=(10,15))\n",
    "\n",
    "axs[0].hist(y_train.values.flatten(), bins=np.arange(start=3, stop=7)-0.5, alpha=0.5, color='blue', rwidth=0.5)\n",
    "axs[0].set_xlabel('Label Values')\n",
    "axs[0].set_ylabel('Frequency')\n",
    "axs[0].set_title('Train Set')\n",
    "\n",
    "axs[1].hist(y_test.values.flatten(), bins=np.arange(start=3, stop=7)-0.5, alpha=0.5, color='green', rwidth=0.5)\n",
    "axs[1].set_xlabel('Label Values')\n",
    "axs[1].set_ylabel('Frequency')\n",
    "axs[1].set_title('Test Set')\n",
    "\n",
    "# Display the plot\n",
    "plt.tight_layout()\n",
    "plt.savefig(\"data_dist.png\")"
   ]
  },
  {
   "cell_type": "markdown",
   "id": "d51a547e-712a-4a10-a035-21b74b913cc4",
   "metadata": {
    "jp-MarkdownHeadingCollapsed": true,
    "tags": []
   },
   "source": [
    "## 2.1. Baseline model (0-R)"
   ]
  },
  {
   "cell_type": "code",
   "execution_count": null,
   "id": "ca19f7a7-bf5b-4b28-ad88-1e6e86c76f02",
   "metadata": {},
   "outputs": [],
   "source": [
    "zero_r = DummyClassifier(strategy='most_frequent')\n",
    "zero_r.fit(X_train, y_train)\n",
    "zr_pred = zero_r.predict(X_test)"
   ]
  },
  {
   "cell_type": "markdown",
   "id": "f7209449-bf43-49fc-9cbe-8a6794ae7d69",
   "metadata": {
    "tags": []
   },
   "source": [
    "## 2.2. Logistic Regression"
   ]
  },
  {
   "cell_type": "markdown",
   "id": "7b41a38c-a89d-4f1c-986e-14e970bfcd00",
   "metadata": {},
   "source": [
    "#### (a) Logistic Regression without any penalties"
   ]
  },
  {
   "cell_type": "code",
   "execution_count": null,
   "id": "1134ce29-1799-46df-8605-0a78169813e9",
   "metadata": {
    "tags": []
   },
   "outputs": [],
   "source": [
    "# Define the parameter grid to search over\n",
    "param_grid = {'max_iter': [100, 500, 750, 1000, 5000, 10000]}\n",
    "\n",
    "lgr = LogisticRegression(penalty=None)\n",
    "warnings.simplefilter(action='ignore', category=UserWarning)\n",
    "\n",
    "# Use GridSearchCV to find the best max_iter value\n",
    "noPen_grid_search = GridSearchCV(lgr, param_grid, cv=3, verbose=2)\n",
    "noPen_grid_result = noPen_grid_search.fit(X_train, y_train)"
   ]
  },
  {
   "cell_type": "code",
   "execution_count": null,
   "id": "6a034817-ac3e-48fd-8365-2141b26b696d",
   "metadata": {},
   "outputs": [],
   "source": [
    "# summarize results\n",
    "noPen_best_par = noPen_grid_search.best_params_['max_iter']\n",
    "noPen_means = noPen_grid_result.cv_results_['mean_test_score']\n",
    "noPen_stds = noPen_grid_result.cv_results_['std_test_score']\n",
    "noPen_params = noPen_grid_result.cv_results_['params']\n",
    "noPen_result_df = pd.DataFrame(noPen_params)\n",
    "noPen_means_std_df = pd.DataFrame({\"Mean\": noPen_means, \"Standard Deviation\": noPen_stds})\n",
    "noPen_result_df = pd.concat([noPen_result_df, noPen_means_std_df], axis=1)\n",
    "\n",
    "print(\"Best: %f using %s\" % (noPen_grid_result.best_score_, noPen_grid_result.best_params_))\n",
    "noPen_result_df   "
   ]
  },
  {
   "cell_type": "code",
   "execution_count": null,
   "id": "495fec91-049b-4ae4-bb11-625f3eee03b2",
   "metadata": {},
   "outputs": [],
   "source": [
    "print(\"Best max_iter value:\", noPen_best_par)\n",
    "noPen_lgr_best = LogisticRegression(max_iter = noPen_best_par)"
   ]
  },
  {
   "cell_type": "code",
   "execution_count": null,
   "id": "6c10aad4-393e-4053-94fb-95109ffd15e9",
   "metadata": {},
   "outputs": [],
   "source": [
    "noPen_lgr_best.fit(X_train, y_train)\n",
    "noPenLgr_pred = noPen_lgr_best.predict(X_test)"
   ]
  },
  {
   "cell_type": "markdown",
   "id": "e6a56ad1-2440-415f-add8-f383abb15c42",
   "metadata": {
    "tags": []
   },
   "source": [
    "#### (b) Logistic Regression with regularisation penalties"
   ]
  },
  {
   "cell_type": "code",
   "execution_count": null,
   "id": "9ab6ea69-3615-47b9-9a53-712e820e0fb7",
   "metadata": {},
   "outputs": [],
   "source": [
    "model = LogisticRegression()\n",
    "warnings.simplefilter(action='ignore', category=UserWarning)\n",
    "solvers = ['newton-cg', 'lbfgs', 'liblinear']\n",
    "penalty = ['l2']\n",
    "c_values = [100, 10, 1.0, 0.1, 0.01]\n",
    "# define grid search\n",
    "grid = dict(solver=solvers,penalty=penalty,C=c_values)\n",
    "cv = RepeatedStratifiedKFold(n_splits=10, n_repeats=3, random_state=1)\n",
    "grid_search = GridSearchCV(estimator=model, param_grid=grid, n_jobs=-1, cv=cv, scoring='accuracy',error_score=0)\n",
    "grid_result = grid_search.fit(X_train, y_train)"
   ]
  },
  {
   "cell_type": "code",
   "execution_count": null,
   "id": "879f67ca-febe-46e8-95f0-a757190042ac",
   "metadata": {},
   "outputs": [],
   "source": [
    "# summarize results\n",
    "means = grid_result.cv_results_['mean_test_score']\n",
    "stds = grid_result.cv_results_['std_test_score']\n",
    "params = grid_result.cv_results_['params']\n",
    "result_df = pd.DataFrame(params)\n",
    "means_std_df = pd.DataFrame({\"Mean\": means, \"Standard Deviation\": stds})\n",
    "result_df = pd.concat([result_df, means_std_df], axis=1)\n",
    "\n",
    "print(\"Best: %f using %s\" % (grid_result.best_score_, grid_result.best_params_))\n",
    "result_df         "
   ]
  },
  {
   "cell_type": "code",
   "execution_count": null,
   "id": "7893cb16-0aa6-477c-883a-a86c3e788728",
   "metadata": {},
   "outputs": [],
   "source": [
    "pen_lgr_best = LogisticRegression(penalty=\"l2\", solver=\"newton-cg\", C=100,)\n",
    "pen_lgr_best.fit(X_train, y_train)\n",
    "penLgr_pred = pen_lgr_best.predict(X_test)"
   ]
  },
  {
   "cell_type": "markdown",
   "id": "70f06bc1-dcb2-4683-aa68-8227e5b478d0",
   "metadata": {
    "tags": []
   },
   "source": [
    "## 2.3. Boosting with AdaBoost"
   ]
  },
  {
   "cell_type": "markdown",
   "id": "8489bd62-b3f3-48f3-82fa-6c67a23ebcab",
   "metadata": {
    "tags": []
   },
   "source": [
    "#### (a) The Default AdaBoost\n",
    "AdaBoost with 50 (default) Decision Stumps (One-R) model as base classifiers"
   ]
  },
  {
   "cell_type": "code",
   "execution_count": null,
   "id": "73dad3dd-56e9-4511-ac63-5cb991a4653a",
   "metadata": {},
   "outputs": [],
   "source": [
    "ada_boost = AdaBoostClassifier()\n",
    "ada_boost.fit(X_train, y_train)\n",
    "default_ada_pred = ada_boost.predict(X_test)"
   ]
  },
  {
   "cell_type": "markdown",
   "id": "4121c459-9012-4403-be02-1a528e86ad4a",
   "metadata": {},
   "source": [
    "#### (b) Change the number of Trees in base classifiers\n",
    "AdaBoost with different number of Decision Stumps (One-R) model as base classifiers"
   ]
  },
  {
   "cell_type": "code",
   "execution_count": null,
   "id": "9276b1e3-9db1-47d7-a08b-55a42a281001",
   "metadata": {},
   "outputs": [],
   "source": [
    "def evaluate_model(model, X, y):\n",
    "    cv = RepeatedStratifiedKFold(n_splits=10, n_repeats=3, random_state=1)\n",
    "    scores = cross_val_score(model, X, y, scoring='accuracy', cv=cv, n_jobs=-1)\n",
    "    return scores"
   ]
  },
  {
   "cell_type": "code",
   "execution_count": null,
   "id": "d285fad2-3f38-4847-bbe1-01683af1e988",
   "metadata": {},
   "outputs": [],
   "source": [
    "# Create a list of different models with different number of trees\n",
    "def get_adaBoosts():\n",
    "    ada_boosts = dict()\n",
    "    # define number of trees to consider\n",
    "    n_trees = [10, 50, 100, 500, 1000, 1500]\n",
    "    \n",
    "    for n in n_trees:\n",
    "        ada_boosts[n] = AdaBoostClassifier(n_estimators=n)\n",
    "    return ada_boosts"
   ]
  },
  {
   "cell_type": "code",
   "execution_count": null,
   "id": "008e3bf7-243e-4b5a-879d-6a9472b3b494",
   "metadata": {},
   "outputs": [],
   "source": [
    "ada_boosts_ = get_adaBoosts()\n",
    "\n",
    "scores_dict = dict()\n",
    "\n",
    "for trees_num, model in ada_boosts_.items():\n",
    "    scores = evaluate_model(model, X_train, y_train)\n",
    "    print('>%s %.3f (%.3f)' % (trees_num, mean(scores), std(scores)))\n",
    "    scores_dict[trees_num] = scores"
   ]
  },
  {
   "cell_type": "code",
   "execution_count": null,
   "id": "a0a15b82-767e-4c27-99ca-e918931cbecf",
   "metadata": {},
   "outputs": [],
   "source": [
    "mean_, median_, std_ = [], [], []\n",
    "for n_trees in scores_dict.keys():\n",
    "    curr_scores = scores_dict[n_trees]\n",
    "    mean_.append(mean(curr_scores) * 100)\n",
    "    median_.append(median(curr_scores) * 100)\n",
    "    std_.append(std(curr_scores) * 100)\n",
    "\n",
    "scores_df = pd.DataFrame({\"n_trees\": [10, 50, 100, 500, 1000, 1500], \"mean\": mean_, \"median\": median_, \"std\": std_})\n",
    "scores_df = scores_df.set_index(\"n_trees\")\n",
    "scores_df"
   ]
  },
  {
   "cell_type": "code",
   "execution_count": null,
   "id": "c6f13e69-68a4-42b2-9298-ebe2a8960e68",
   "metadata": {},
   "outputs": [],
   "source": [
    "fig, ax = plt.subplots()\n",
    "ax.set(xlabel = \"Number of Trees\", ylabel = \"Accuracy\")\n",
    "plt.boxplot(scores_dict.values(), labels=scores_dict.keys(), showmeans=True)\n",
    "plt.show"
   ]
  },
  {
   "cell_type": "markdown",
   "id": "14a1fd39-9c86-4fd4-a81b-2bf3522c4281",
   "metadata": {},
   "source": [
    "We choose 100 as the best numbers of trees for AdaBoosting."
   ]
  },
  {
   "cell_type": "code",
   "execution_count": null,
   "id": "2607eaad-b07f-4306-aea5-55dffc15cb4d",
   "metadata": {},
   "outputs": [],
   "source": [
    "nTrees_ada_boost = AdaBoostClassifier(n_estimators=100)\n",
    "nTrees_ada_boost.fit(X_train, y_train)\n",
    "nTressAda_pred = nTrees_ada_boost.predict(X_test)"
   ]
  },
  {
   "cell_type": "markdown",
   "id": "d5a2be74-6aab-478e-8cf9-bb2389c1e449",
   "metadata": {},
   "source": [
    "#### (c) Change the depth of the base classifier\n",
    "AdaBoost with 50 Decision Trees as the base classifiers"
   ]
  },
  {
   "cell_type": "code",
   "execution_count": null,
   "id": "2cc770bd-9581-4f0d-b7e9-1f7fbecd4153",
   "metadata": {},
   "outputs": [],
   "source": [
    "# Create a list of different models with different number of trees depth\n",
    "def get_adaBoosts():\n",
    "    ada_boosts = dict()\n",
    "    # define number of trees to consider\n",
    "    max_depths = 11\n",
    "    \n",
    "    for n in range(1, max_depths):\n",
    "        base_dt = DecisionTreeClassifier(max_depth=n)\n",
    "        ada_boosts[n] = AdaBoostClassifier(base_estimator=base_dt)\n",
    "    return ada_boosts"
   ]
  },
  {
   "cell_type": "code",
   "execution_count": null,
   "id": "27d8ca14-6283-40a3-a66d-6aa8578007f8",
   "metadata": {},
   "outputs": [],
   "source": [
    "ada_boosts_ = get_adaBoosts()\n",
    "\n",
    "d_scores_dict = dict()\n",
    "\n",
    "for depth, model in ada_boosts_.items():\n",
    "    scores = evaluate_model(model, X_train, y_train)\n",
    "    d_scores_dict[depth] = scores"
   ]
  },
  {
   "cell_type": "code",
   "execution_count": null,
   "id": "4951ff87-67d3-4ecc-bdff-a5bf8cd37e33",
   "metadata": {},
   "outputs": [],
   "source": [
    "fig, ax = plt.subplots()\n",
    "ax.set(xlabel = \"Maximum Trees Depth\", ylabel = \"Accuracy\")\n",
    "plt.boxplot(d_scores_dict.values(), labels=d_scores_dict.keys(), showmeans=True)\n",
    "plt.show"
   ]
  },
  {
   "cell_type": "code",
   "execution_count": null,
   "id": "64a96b67-5b63-47fe-a3fb-5ee72f00a9c2",
   "metadata": {},
   "outputs": [],
   "source": [
    "mean_, median_, std_ = [], [], []\n",
    "for depth in d_scores_dict.keys():\n",
    "    curr_scores = d_scores_dict[depth]\n",
    "    mean_.append(mean(curr_scores) * 100)\n",
    "    median_.append(median(curr_scores) * 100)\n",
    "    std_.append(std(curr_scores) * 100)\n",
    "\n",
    "d_scores_df = pd.DataFrame({\"depth\": range(1, 11), \"mean\": mean_, \"median\": median_, \"std\": std_})\n",
    "d_scores_df = d_scores_df.set_index(\"depth\")\n",
    "d_scores_df"
   ]
  },
  {
   "cell_type": "markdown",
   "id": "5473ea48-8ff5-4891-8f7f-1b20315b5ba0",
   "metadata": {},
   "source": [
    "Suprisingly, the model using the Decision Stumps (One-R) produce the highest accuracy."
   ]
  },
  {
   "cell_type": "markdown",
   "id": "4bab8896-5fb7-442d-8336-a269737922dc",
   "metadata": {
    "tags": []
   },
   "source": [
    "## 3. Evaluation"
   ]
  },
  {
   "cell_type": "code",
   "execution_count": null,
   "id": "dc1e9ec6-3a15-4294-a567-b8a7c0ec9cce",
   "metadata": {},
   "outputs": [],
   "source": [
    "print(\"Zero-R Accuracy: {:.2f}%\".format(zero_r.score(X_test, y_test) * 100))\n",
    "print(\"No Penalty Logistic Regression Accuracy: {:.2f}%\".format(noPen_lgr_best.score(X_test, y_test) * 100))\n",
    "print(\"With Penalty Logistic Regression Accuracy: {:.2f}%\".format(pen_lgr_best.score(X_test, y_test) * 100))\n",
    "print(\"Default AdaBoostAccuracy: {:.2f}%\".format(ada_boost.score(X_test, y_test) * 100))\n",
    "print(\"100-Tree Accuracy: {:.2f}%\".format(nTrees_ada_boost.score(X_test, y_test) * 100))"
   ]
  },
  {
   "cell_type": "markdown",
   "id": "68bb5e69-e113-4041-bde0-f8a410c6c0e8",
   "metadata": {
    "tags": []
   },
   "source": [
    "##### Confusion Matrix"
   ]
  },
  {
   "cell_type": "code",
   "execution_count": null,
   "id": "ddc2c595-5292-4e32-9dc5-d748b25eda22",
   "metadata": {},
   "outputs": [],
   "source": [
    "unique_labels, label_counts = np.unique(train_data_y, return_counts=True)\n",
    "\n",
    "_, ax = plt.subplots(nrows=4, ncols=1, figsize=(4,20))\n",
    "\n",
    "zr_cf = confusion_matrix(y_test,zr_pred)\n",
    "noPenLgr_cf = confusion_matrix(y_test,noPenLgr_pred)\n",
    "penLgr_cf = confusion_matrix(y_test,penLgr_pred)\n",
    "defaultAda_cf = confusion_matrix(y_test,default_ada_pred)\n",
    "nTreesAda_cf = confusion_matrix(y_test,nTressAda_pred)\n",
    "\n",
    "titles = ['No Penalty LogReg','Penalty LogReg', 'AdaBoost', 'Best Trees Num AdaBost']\n",
    "\n",
    "for i,cf in enumerate([noPenLgr_cf,penLgr_cf,defaultAda_cf, nTreesAda_cf]):\n",
    "    sns.heatmap(cf, ax=ax[i], \n",
    "                cmap = 'Blues',\n",
    "                fmt = 'd',\n",
    "                xticklabels=unique_labels, \n",
    "                yticklabels=unique_labels, \n",
    "                annot=True)\n",
    "    ax[i].set_title(f'{titles[i]} Confusion Matrix')\n",
    "    ax[i].set_ylabel('Truth label')\n",
    "    ax[i].set_xlabel('Predicted as')\n",
    "\n",
    "plt.savefig(\"cf.png\")"
   ]
  },
  {
   "cell_type": "code",
   "execution_count": null,
   "id": "071ad730-d724-429d-aeea-6485ab09e60a",
   "metadata": {},
   "outputs": [],
   "source": [
    "_, ax = plt.subplots()\n",
    "cf = zr_cf\n",
    "sns.heatmap(cf, ax=ax, \n",
    "            cmap = 'Blues',\n",
    "            fmt = 'd',\n",
    "            xticklabels=unique_labels, \n",
    "            yticklabels=unique_labels, \n",
    "            annot=True)\n",
    "ax.set_title(f'Zero-R Confusion Matrix')\n",
    "ax.set_ylabel('Truth label')\n",
    "ax.set_xlabel('Predicted as')\n",
    "\n",
    "plt.savefig(\"zr_cf.png\")"
   ]
  },
  {
   "cell_type": "code",
   "execution_count": null,
   "id": "370f501f-fbf9-4c50-a7da-8afed82e092a",
   "metadata": {},
   "outputs": [],
   "source": [
    "_, ax = plt.subplots()\n",
    "cf = noPenLgr_cf\n",
    "sns.heatmap(cf, ax=ax, \n",
    "            cmap = 'Blues',\n",
    "            fmt = 'd',\n",
    "            xticklabels=unique_labels, \n",
    "            yticklabels=unique_labels, \n",
    "            annot=True)\n",
    "ax.set_title(f'No Penalty LogReg Confusion Matrix')\n",
    "ax.set_ylabel('Truth label')\n",
    "ax.set_xlabel('Predicted as')\n",
    "\n",
    "plt.savefig(\"noPen_cf.png\")"
   ]
  },
  {
   "cell_type": "code",
   "execution_count": null,
   "id": "9d1026d1-2837-4a3c-b3c2-417566de5eab",
   "metadata": {},
   "outputs": [],
   "source": [
    "_, ax = plt.subplots()\n",
    "cf = penLgr_cf\n",
    "sns.heatmap(cf, ax=ax, \n",
    "            cmap = 'Blues',\n",
    "            fmt = 'd',\n",
    "            xticklabels=unique_labels, \n",
    "            yticklabels=unique_labels, \n",
    "            annot=True)\n",
    "ax.set_title(f'Penalty LogReg Confusion Matrix')\n",
    "ax.set_ylabel('Truth label')\n",
    "ax.set_xlabel('Predicted as')\n",
    "\n",
    "plt.savefig(\"Pen_cf.png\")"
   ]
  },
  {
   "cell_type": "code",
   "execution_count": null,
   "id": "74f58159-d4fc-47c9-83d1-ada7ff9b9612",
   "metadata": {},
   "outputs": [],
   "source": [
    "_, ax = plt.subplots()\n",
    "cf = defaultAda_cf\n",
    "sns.heatmap(cf, ax=ax, \n",
    "            cmap = 'Blues',\n",
    "            fmt = 'd',\n",
    "            xticklabels=unique_labels, \n",
    "            yticklabels=unique_labels, \n",
    "            annot=True)\n",
    "ax.set_title(f'AdaBoost Confusion Matrix')\n",
    "ax.set_ylabel('Truth label')\n",
    "ax.set_xlabel('Predicted as')\n",
    "\n",
    "plt.savefig(\"Ada.png\")"
   ]
  },
  {
   "cell_type": "code",
   "execution_count": null,
   "id": "1675cfb6-692d-4947-8b47-fd094794b0e8",
   "metadata": {},
   "outputs": [],
   "source": [
    "_, ax = plt.subplots()\n",
    "cf = nTreesAda_cf\n",
    "sns.heatmap(cf, ax=ax, \n",
    "            cmap = 'Blues',\n",
    "            fmt = 'd',\n",
    "            xticklabels=unique_labels, \n",
    "            yticklabels=unique_labels, \n",
    "            annot=True)\n",
    "ax.set_title(f'Best Trees Num AdaBost Confusion Matrix')\n",
    "ax.set_ylabel('Truth label')\n",
    "ax.set_xlabel('Predicted as')\n",
    "\n",
    "plt.savefig(\"treeAda.png\")"
   ]
  },
  {
   "cell_type": "code",
   "execution_count": null,
   "id": "1514b38e-57c2-436c-a49e-c9a2cc29b04e",
   "metadata": {},
   "outputs": [],
   "source": [
    "[noPenLgr_cf,penLgr_cf,defaultAda_cf, nTreesAda_cf]\n",
    "['No Penalty LogReg','Penalty LogReg', 'AdaBoost', 'Best Trees Num AdaBost']"
   ]
  },
  {
   "cell_type": "markdown",
   "id": "902e966e-0e22-47a6-ad6c-5e42c3e678d2",
   "metadata": {},
   "source": [
    "# Test case"
   ]
  },
  {
   "cell_type": "code",
   "execution_count": 88,
   "id": "a3365930-902e-43dc-9b68-5e94c5f3161d",
   "metadata": {},
   "outputs": [
    {
     "data": {
      "text/html": [
       "<div>\n",
       "<style scoped>\n",
       "    .dataframe tbody tr th:only-of-type {\n",
       "        vertical-align: middle;\n",
       "    }\n",
       "\n",
       "    .dataframe tbody tr th {\n",
       "        vertical-align: top;\n",
       "    }\n",
       "\n",
       "    .dataframe thead th {\n",
       "        text-align: right;\n",
       "    }\n",
       "</style>\n",
       "<table border=\"1\" class=\"dataframe\">\n",
       "  <thead>\n",
       "    <tr style=\"text-align: right;\">\n",
       "      <th></th>\n",
       "      <th>Name</th>\n",
       "      <th>Authors</th>\n",
       "      <th>PublishYear</th>\n",
       "      <th>PublishMonth</th>\n",
       "      <th>PublishDay</th>\n",
       "      <th>Publisher</th>\n",
       "      <th>Language</th>\n",
       "      <th>pagesNumber</th>\n",
       "      <th>Description</th>\n",
       "    </tr>\n",
       "  </thead>\n",
       "  <tbody>\n",
       "    <tr>\n",
       "      <th>0</th>\n",
       "      <td>Near Occasions of Grace</td>\n",
       "      <td>Richard Rohr</td>\n",
       "      <td>1993</td>\n",
       "      <td>1</td>\n",
       "      <td>1</td>\n",
       "      <td>Orbis Books</td>\n",
       "      <td>NaN</td>\n",
       "      <td>118</td>\n",
       "      <td>Distilling the insights of more than 20 years ...</td>\n",
       "    </tr>\n",
       "    <tr>\n",
       "      <th>1</th>\n",
       "      <td>The Perfect Spot</td>\n",
       "      <td>Robert J. Blake</td>\n",
       "      <td>1997</td>\n",
       "      <td>3</td>\n",
       "      <td>17</td>\n",
       "      <td>Puffin</td>\n",
       "      <td>NaN</td>\n",
       "      <td>32</td>\n",
       "      <td>A surprising turn on a wilderness walk leads t...</td>\n",
       "    </tr>\n",
       "    <tr>\n",
       "      <th>2</th>\n",
       "      <td>Study Guide for Campbell Reece Biology</td>\n",
       "      <td>Martha R. Taylor</td>\n",
       "      <td>2005</td>\n",
       "      <td>1</td>\n",
       "      <td>1</td>\n",
       "      <td>Benjamin Cummings</td>\n",
       "      <td>eng</td>\n",
       "      <td>544</td>\n",
       "      <td>This printed learning aid provides a concept m...</td>\n",
       "    </tr>\n",
       "    <tr>\n",
       "      <th>3</th>\n",
       "      <td>To Rescue A Rogue (Company of Rogues, #12)</td>\n",
       "      <td>Jo Beverley</td>\n",
       "      <td>2006</td>\n",
       "      <td>9</td>\n",
       "      <td>5</td>\n",
       "      <td>Signet</td>\n",
       "      <td>eng</td>\n",
       "      <td>432</td>\n",
       "      <td>Lady Mara St. Bride has never backed down from...</td>\n",
       "    </tr>\n",
       "    <tr>\n",
       "      <th>4</th>\n",
       "      <td>Soul Picnic: The Music and Passion of Laura Nyro</td>\n",
       "      <td>Michele Kort</td>\n",
       "      <td>2002</td>\n",
       "      <td>5</td>\n",
       "      <td>3</td>\n",
       "      <td>Thomas Dunne Books</td>\n",
       "      <td>NaN</td>\n",
       "      <td>352</td>\n",
       "      <td>&lt;i&gt;Soul Picnic: The Music and Passion of Laura...</td>\n",
       "    </tr>\n",
       "    <tr>\n",
       "      <th>...</th>\n",
       "      <td>...</td>\n",
       "      <td>...</td>\n",
       "      <td>...</td>\n",
       "      <td>...</td>\n",
       "      <td>...</td>\n",
       "      <td>...</td>\n",
       "      <td>...</td>\n",
       "      <td>...</td>\n",
       "      <td>...</td>\n",
       "    </tr>\n",
       "    <tr>\n",
       "      <th>5761</th>\n",
       "      <td>The Wicca Herbal: Recipes, Magick, and Abundance</td>\n",
       "      <td>Jamie Martinez Wood</td>\n",
       "      <td>2003</td>\n",
       "      <td>9</td>\n",
       "      <td>1</td>\n",
       "      <td>Ten Speed Press</td>\n",
       "      <td>NaN</td>\n",
       "      <td>274</td>\n",
       "      <td>This work details and demystifies 100 magical ...</td>\n",
       "    </tr>\n",
       "    <tr>\n",
       "      <th>5762</th>\n",
       "      <td>Shifter's Desire: Vampire Fangs &amp; Venom</td>\n",
       "      <td>Myra Nour</td>\n",
       "      <td>2004</td>\n",
       "      <td>9</td>\n",
       "      <td>10</td>\n",
       "      <td>Ellora's Cave</td>\n",
       "      <td>NaN</td>\n",
       "      <td>224</td>\n",
       "      <td>Shifters' Desire - Vampire Fangs and Venom By ...</td>\n",
       "    </tr>\n",
       "    <tr>\n",
       "      <th>5763</th>\n",
       "      <td>El Metodo Silva de Control Mental</td>\n",
       "      <td>José Silva</td>\n",
       "      <td>1999</td>\n",
       "      <td>12</td>\n",
       "      <td>14</td>\n",
       "      <td>Editorial Diana</td>\n",
       "      <td>NaN</td>\n",
       "      <td>224</td>\n",
       "      <td>El método Silva de Control Mental es un sistem...</td>\n",
       "    </tr>\n",
       "    <tr>\n",
       "      <th>5764</th>\n",
       "      <td>Renaissance and Renascences in Western Art</td>\n",
       "      <td>Erwin Panofsky</td>\n",
       "      <td>1972</td>\n",
       "      <td>6</td>\n",
       "      <td>21</td>\n",
       "      <td>Westview Press</td>\n",
       "      <td>eng</td>\n",
       "      <td>242</td>\n",
       "      <td>&lt;i&gt;Renaissance and Renascences in Western Art&lt;...</td>\n",
       "    </tr>\n",
       "    <tr>\n",
       "      <th>5765</th>\n",
       "      <td>More Random Acts of Kindness</td>\n",
       "      <td>Conari Press</td>\n",
       "      <td>1994</td>\n",
       "      <td>9</td>\n",
       "      <td>1</td>\n",
       "      <td>Conari Press</td>\n",
       "      <td>NaN</td>\n",
       "      <td>192</td>\n",
       "      <td>Little did we know when we published &lt;i&gt;Random...</td>\n",
       "    </tr>\n",
       "  </tbody>\n",
       "</table>\n",
       "<p>5766 rows × 9 columns</p>\n",
       "</div>"
      ],
      "text/plain": [
       "                                                  Name              Authors  \\\n",
       "0                              Near Occasions of Grace         Richard Rohr   \n",
       "1                                     The Perfect Spot      Robert J. Blake   \n",
       "2               Study Guide for Campbell Reece Biology     Martha R. Taylor   \n",
       "3           To Rescue A Rogue (Company of Rogues, #12)          Jo Beverley   \n",
       "4     Soul Picnic: The Music and Passion of Laura Nyro         Michele Kort   \n",
       "...                                                ...                  ...   \n",
       "5761  The Wicca Herbal: Recipes, Magick, and Abundance  Jamie Martinez Wood   \n",
       "5762           Shifter's Desire: Vampire Fangs & Venom            Myra Nour   \n",
       "5763                 El Metodo Silva de Control Mental           José Silva   \n",
       "5764        Renaissance and Renascences in Western Art       Erwin Panofsky   \n",
       "5765                      More Random Acts of Kindness         Conari Press   \n",
       "\n",
       "      PublishYear  PublishMonth  PublishDay           Publisher Language  \\\n",
       "0            1993             1           1         Orbis Books      NaN   \n",
       "1            1997             3          17              Puffin      NaN   \n",
       "2            2005             1           1   Benjamin Cummings      eng   \n",
       "3            2006             9           5              Signet      eng   \n",
       "4            2002             5           3  Thomas Dunne Books      NaN   \n",
       "...           ...           ...         ...                 ...      ...   \n",
       "5761         2003             9           1     Ten Speed Press      NaN   \n",
       "5762         2004             9          10       Ellora's Cave      NaN   \n",
       "5763         1999            12          14     Editorial Diana      NaN   \n",
       "5764         1972             6          21      Westview Press      eng   \n",
       "5765         1994             9           1        Conari Press      NaN   \n",
       "\n",
       "      pagesNumber                                        Description  \n",
       "0             118  Distilling the insights of more than 20 years ...  \n",
       "1              32  A surprising turn on a wilderness walk leads t...  \n",
       "2             544  This printed learning aid provides a concept m...  \n",
       "3             432  Lady Mara St. Bride has never backed down from...  \n",
       "4             352  <i>Soul Picnic: The Music and Passion of Laura...  \n",
       "...           ...                                                ...  \n",
       "5761          274  This work details and demystifies 100 magical ...  \n",
       "5762          224  Shifters' Desire - Vampire Fangs and Venom By ...  \n",
       "5763          224  El método Silva de Control Mental es un sistem...  \n",
       "5764          242  <i>Renaissance and Renascences in Western Art<...  \n",
       "5765          192  Little did we know when we published <i>Random...  \n",
       "\n",
       "[5766 rows x 9 columns]"
      ]
     },
     "execution_count": 88,
     "metadata": {},
     "output_type": "execute_result"
    }
   ],
   "source": [
    "test_data = pd.read_csv(r\"project_data_files/book_rating_test.csv\", index_col = False, delimiter = ',', header=0)\n",
    "test_data"
   ]
  },
  {
   "cell_type": "code",
   "execution_count": 89,
   "id": "2f4bd3f9-b54b-4723-859e-791a9def81f0",
   "metadata": {},
   "outputs": [],
   "source": [
    "test_data[\"Publisher\"] = test_data[\"Publisher\"].fillna(\"NA\")"
   ]
  },
  {
   "cell_type": "code",
   "execution_count": 90,
   "id": "d7e337fc-4fce-4102-848a-c197837310f3",
   "metadata": {},
   "outputs": [],
   "source": [
    "authors_df = pd.DataFrame(test_data[\"Authors\"])\n",
    "publisher_df = pd.DataFrame(test_data[\"Publisher\"])"
   ]
  },
  {
   "cell_type": "code",
   "execution_count": 91,
   "id": "37fb943e-4ada-4770-8712-3113c5b9e3e9",
   "metadata": {},
   "outputs": [
    {
     "ename": "ValueError",
     "evalue": "Found unknown categories ['Diana Wagman', 'Daniel Wojcik', 'Nancy Jay', 'Peter Godman', 'David Steinberg', 'Stephen Howarth', 'John Archibald Wheeler', 'D.W. Buffa', 'Arthur P. Ciaramicoli', 'Jill Werman Harris', 'Francisco Jiménez', 'Elizabeth David', \"Aaron Ben-Ze'ev\", 'Ted Jordan Meredith', 'Arvind Narrain', 'Brian Finch', 'Dorit Rabinyan', 'Eugenio Corti', 'Alan Ball', 'Anthony Seldon', 'Colin Prior', 'Michael D. Coogan', 'Paul Verlaine', 'Jack Huberman', 'Susanne Dunlap', 'Robert Sherrill', 'Mary McGarry', 'Michelle McGann', 'Bruce Schneier', 'The Bark', 'Phil Noble', 'Sarah Challis', 'Robert Cloud', 'Diana B. Henriques', 'Molly Katz', 'Cheryl A. Pientka', 'Jessica Redmond', 'Tom Lonsdale', 'Hamilton Deane', 'Timothy Findley', 'Ronald W. Ferrier', 'Joseph F. Schmidt', 'Rukshana Smith', 'John W. Campbell Jr.', 'Ulysses S. Grant Sharp Jr.', 'Louise Michele Newman', 'Margaret George', 'Branley', 'Suzanne Bell', 'T.W. Graham Solomons', 'Thomas P. Kasulis', 'Mark Addis', 'Andrew   Hill', 'Cathie Dunsford', 'Lily Prior', 'J.M. Upton-Ward', 'Chris McKinney', 'Elizabeth Borton de Treviño', 'Richard Bartlett', 'Laurien Berenson', 'John G. Gallaher', 'Taylor Harrison', 'James E. Harf', 'Gilad Elbom', 'Dwayne McDuffie', 'Susan Crosby', 'Thomas R. Peltier', 'Wann', 'Mario Gully', 'Daniel A. Hughes', 'Dianne   Martin', 'Stephen Mallatratt', 'Tommy Franks', 'Loren W. Christensen', 'Joel Fischer', 'Neil Connelly', 'Cindy Higham', 'William E. May', 'Leah Bendavid-Val', 'Hella Pick', 'Mary  Williams', 'Jeremy Schaap', 'Alison Hawthorne Deming', 'Suzanne Forster', 'Nick Bryant', 'Dana Carpender', 'Sebastian Gardner', 'Harold Jaffe', 'Stan Toler', 'Bert D. Yeager', 'Ilchi Lee', 'Vali Stone', 'Antoine Faivre', 'Tone Bringa', 'Douglas Brode', 'Joseph Smith Jr.', 'James Y. Bartlett', 'Brian D. Harper', 'Office of Government Commerce', 'Catherine Ellis', 'Jan Dodd', 'K.L. Cook', 'Thomas Paine', 'C. Anne Scott', 'Rosemary Betterton', 'Roger Conant', 'Eric Morris', 'Bede Rundle', 'Patricia Marr Cunningham', 'Delia Ray', 'Izumi Kawachi', 'Daniel Horch', 'Michael Rowan-Robinson', 'Jeff VanderMeer', 'Robert M. Miller', 'Henry Schwarz', 'Tony   Payne', 'Janet Greene', 'John A. Farrell', 'M.T. Ryan', 'Homa Pourasgari', 'Henry Mayer', 'Bernard MacLaverty', 'Penelope Farmer', 'David B. Coe', 'Joel Conarroe', 'Patrick McCormack', 'Robert Frenay', 'Horst Wein', 'Gloria Loughman', 'Lloyd G. Nigro', 'Gabriele Boiselle', 'Alanna Nash', 'Poul Anderson', 'Gary Soto', 'Eadweard Muybridge', 'Kara McMahon', 'Jaime Manrique', 'Michelle Kasey', 'Henry Han', 'Ana Castillo', 'Marcia L. Tate', 'Gloria Rand', 'Bill Plympton', 'Robert T.   Wood', 'Peter Szor', 'Wolfgang Bauer', 'Alison Goodman', 'Charlotte Boyett-Compo', 'Janet Benge', \"Jaida n'ha Sandra\", 'Wendy Bedwell-Wilson', 'Fred Feldman', 'Gerald Davis', 'Jennifer Uglow', 'Brian P. Levack', 'Peter Dickens', 'Horace McCoy', 'Gary Genosko', 'Hugh Finlay', 'Michael Rex', 'Brenda Cobb', 'David Graeber', 'Mordecai Siegal', 'Adrian Kelly', 'Kwame Nkrumah', 'Susanne K. Langer', 'Mark Adkin', 'Kristin Abraham', 'Leo Galland', 'Barbara B. Buchholz', 'James Allen', 'Patricia Kennealy-Morrison', 'Coleen Hubbard', 'Karin Chenoweth', 'Alfred A. Knopf Publishing Company', 'Edward Jaye', 'Erich Goode', 'Nitya Lacroix', 'R.N. Morris', 'Jared Diamond', 'David   Benjamin', 'Joey Sprague', 'Pamela Sheldon Johns', 'Alex Ross', 'Barry Buzan', 'Stephen E. Miller', 'Alexander Theroux', 'Yochanan Rywerant', 'Alice H. Amsden', 'John Cleland', 'Henry Chadwick', 'Hesiod', 'Carroll Stoner', 'Miguel de Unamuno', 'Jürgen Moltmann', \"James T. O'Connor\", 'Jack Ellis', 'Almudena Grandes', 'Fred Hagy', 'Deborah Cannon', 'Pam Conrad', 'Helen Hemphill', 'Baxter Black', 'Kathryn Kerby-Fulton', 'Derrick Sherwin', 'Tom Regan', 'Bev Katz Rosenbaum', 'Harold Elk Straubing', 'Mark Prothero', 'Nancy Parker', 'Allison Pearson', 'Harold A. Innis', 'Robert Wright Campbell', 'Charlotte Hogg', 'Linda Woodhead', 'Andrew Breitbart', 'Gönül Dönmez-Colin', 'William Arnold', 'Richard Balkwill', 'Bernard J. Paris', 'Stephen W. Kress', 'Dan Fesperman', 'Carla Jablonski', 'Elías Miguel Muñoz', 'Andrea Kane', 'Rosalie Greenberg', 'Ludwig Tieck', 'Jeffrey Maitland', 'Mary Todd Beam', 'Dave Zimmer', 'Bryan K. Garman', 'Sarah McKerrigan', 'Barbara McMahon', 'Paula Paul', 'Dakpo Tashi Namgyal', 'Vincent Ruggiero', 'Genie Davis', 'Kamal Boullata', 'Robert F. Berkhofer Jr.', 'Lewis Porter', 'John Bossy', 'Elizabeth Shove', 'John Kilaka', 'James Marshall Crotty', 'Devah Pager', 'Caroline Ingraham', 'Dennis Pardee', 'Michael Fleishman', 'David Underdown', 'Howard Sasportas', 'Greg Spotts', 'Raymond Murray', 'مالك بن نبي', 'Yoshimi Yoshiaki', 'Robert P. Libbon', 'Michael Brenner', 'Ira Levin', 'James F. Kurose', 'Neil A. Campbell', 'Aidan Kavanagh', 'Moll Anderson', 'Linda Jean Shepherd', 'Michael R. Beschloss', 'Karlyn Holman', 'Guillermo Arriaga', 'David Nirenberg', 'Cynthia Barnett', 'Eric Hammel', 'Karen Irving', 'Henriette Anne Klauser', 'J.A. Lawrence', 'Alex Shearer', 'Michael Pearl', 'Shanna Compton', 'John Paul Jackson', 'Emily Jenkins', 'David S. Foglesong', 'Bjørnstjerne Bjørnson', 'Richard Sauder', 'Jacobo Timerman', 'Romare Bearden', 'Elizabeth Whitley Roberson', 'Angelo Forte', 'Martin Noth', 'Cheri Kempf', 'Thomas A. Whiteman', 'Martin  Stephen', 'Jack Seabrook', 'Joe Domanick', 'Todd G. Buchholz', 'Kira Salak', 'John Thomson', 'Wallace Breem', 'Amy V. Jaffe', 'William Aspray', 'Jim Biolos', 'Ahmad Von Denffer', 'Ian Stevenson', 'Paul Quarrington', 'Rosalind P. Blakesley', 'Brace E. Barber', 'Dilys Parkinson', 'C. David Heymann', 'Lyn Haill', 'Michael S. Rose', 'Robert A. Neimeyer', 'Todd Dufresne', 'Nicolai M. Josuttis', 'Jane Patrick', 'Edward Kippel', 'Barbara Ulrich', 'British Automobile Association', 'Steven J. Matthiesen', 'Phyllis Shalant', 'Herb Galewitz', 'Deanna Beisser', 'Uta Grosenick', 'Bill Stanton', 'Graham Marsh', 'Robert Graves', 'Jeff Collins', 'Judith Sherman-Wolin', 'Stephanie Pierson', 'Vladimir Shlyakhov', 'Janet Abbate', 'Caralyn Buehner', 'James L. Jasinski', 'Stephen R. Swinburne', 'Madeleine Zelin', 'Ruth Tal', 'Marilyn Vos Savant', 'Nathan S. Collier', 'Roger Owen', 'John  Batchelor', 'Leslie Wainger', 'Peter Hounam', 'Gregory Maguire', 'Gordon Stein', 'David J.  Randall', 'Martijn F. Le Coultre', 'Maurice Wiles', 'Shanna Swendson', 'Lloyd Geering', 'Joel Kaye', 'Laura Lee', 'James Melvin Washington', 'Guy Chaussinand-Nogaret', 'Mary O. Eyles', 'Jim Lynch', 'Elizabeth Orton Jones', 'Christina Rossetti', 'Silvana Paternostro', 'Alberto Pérez-Gómez', 'Lucinda Landon', 'César Vidal', 'Martha Sonntag Bradley', 'Lewis Orde', 'Elizabeth Clare Prophet', 'Anne Tyler', 'Anna Meseure', 'Jonathan Evan Maslow', 'Patrick Johnstone', 'Winston Groom', 'Eliza Willard', 'Simon Mawer', 'Carl Bielefeldt', 'Judith S. Wallerstein', 'Christine Ferber', 'Deborah Silverton Rosenfelt', 'Dan Olweus', 'Bodleian Library', \"Angelique L'Amour\", 'Christopher Nyerges', 'Adalbert Stifter', 'Serhy Yekelchyk', 'James H. Madison', 'Christo', 'Paul  Stephenson', 'Elizabeth George', 'Timothy Baldwin', \"Matthew d'Ancona\", 'Emmy Van Deurzen', 'Abel Sanchez', 'John  McLeod', 'Christoph von Schmid', 'Jill M. Davies', 'Peter Hernon', 'Gipi', 'Scott Cooper', 'Christianne C. Jones', 'Tara Jon Manning', 'Barbara Maria Stafford', 'Marilyn Nissenson', 'David     Payne', 'Jon Stebbins', 'Bonaventure', 'Stanley G. Payne', 'Robert L. Hubbard Jr.', 'Fred J. Alsop_III', 'Kristen E. Kvam', 'Heidi Schaefer,  Charles Kaduson', 'Brenda Cullerton', 'Joseph A. Luxbacher', 'Jennifer Radden', 'Sharon Lovejoy', 'Richard Blackwell', 'Nicholas Yermakov', 'Vicki Howard', 'Guy Maddin', 'Farai Chideya', 'Richard Rojcewicz', 'Brenda Harlen', 'Raymond J. Healy', 'Sheri Whitefeather', 'Jonathan Kalb', 'Walter Ralston Martin', 'Mike Saenz', 'Sanjiv Harpavat', 'Gerald Morris', 'John Iliffe', 'Lillian Stewart Carl', 'Rosanne Bittner', 'Roberta E. Pearson', 'Lisa Rodensky', 'Willigis Jager', 'Judith Lennox', 'Kenneth L. Woodward', 'Charlie Savage', 'Stephanie Rick', 'Committee on the Prevention of Reading D', 'Nancie McDermott', 'Lisa Peschel', 'Richard Maltby Jr.', 'Karen Romano Young', 'Joris-Karl Huysmans', 'David Hawley', 'Barry Turner', 'László Krasznahorkai', 'James Broughton', 'Bonnie Wheeler', 'Paola Cavalieri', 'Laurie Lovejoy Hilliard', 'Duane Garrett', 'David Trottier', 'Gerry Parker', 'Herb Cohen', 'Compact Classics', 'Brian Tracy', 'John O. Whitney', 'Eric H. Cline', 'Bernadette Corporation', 'Marvin Dunn', 'Michael T. Foy', 'Paul Preston', 'Richard Shusterman', 'Kent J. Johnson', 'Dan Mathews', 'Joseph de Maistre', 'George Klein', 'Dave Duncan', 'Mavis Gallant', 'John W. Travis', 'Emily Brightwell', 'Tom Lacalamita', 'X.J. Kennedy', 'Joe Marconi', 'Perry Wood', 'Michael   White', 'Elizabeth Hill Boone', 'Carolyn Christov-Bakargiev', 'Rebecca Ingram Powell', 'Victoria Clayton', 'Tony  Hall', 'J.M. Neeson', 'William Emms', 'John Tennant', 'Randy Powell', 'Darren McGrady', 'Christopher Paul Curtis', 'The National Alliance For Youth Sports', 'Martin Arnold', 'Nick Begich', 'Angus Wilson', 'Richard Maxwell', 'Tama Janowitz', 'Linda Albi', 'Michele Martin Bossley', 'David    Cole', 'John Kretschmer', 'Idries Shah', 'Marianne Richmond', 'Lyle Wesley Dorsett', 'Susan Cheever', 'Wally Smith', 'James Kiley', 'Steven L. Layne', \"Sebastian O'Kelly\", 'Carl Schmitt', 'Edward Dwight', 'Jordi Puntí', 'Larry King', 'Trudy Harris', 'Marina Ma', 'Henry Louis Gates Jr.', 'Eng Tie Ang', 'Cassandra Chan', 'Norman Cigar', 'Velimir Khlebnikov', 'Fida Hassnain', 'Saundra D. Westervelt', 'Ester Boserup', 'Morgan Patterson', 'Bob Whitesel', 'Asa Hershoff', 'William C. Littlewood', 'Tony   White', 'John                Ross', 'Caroline Feller Bauer', 'Peggy Rathmann', 'Donita K. Paul', 'Shelly Kagan', 'Caitlin Flanagan', 'Mary-Elaine Jacobsen', 'Michael Gruber', 'Phillip M. Chancellor', 'C.V. Mosby Publishing Company', 'Gregory L. Murphy', 'James W. Carey', 'William H. Prescott', 'Lynn Bell', 'R.D. Wingfield', 'Rosie Dickins', 'Eric H.F. Law', 'Elaine Forrestal', 'Morgan Robertson', 'Dorothy Simpson', 'William S. Coperthwaite', 'Eugene N. Kozloff', 'Jeff Parker', 'Ruth Rendell', 'Carol Kuykendall', 'Donald Michael Kraig', 'Portia Da Costa', 'Monkeysuit Press', 'Ruth Forman', 'David A.  Gordon', 'Gwinevere Rain', 'Thomas Lux', 'Gail Dines', 'Michael J. A. Berry', 'Melvin A. Berger', 'Alan Bissett', 'Larry Hartsell', 'Sarah McConnell', 'Shmuley Boteach', 'Sándor Márai', 'Wendy   Williams', 'Miriam Grace Monfredo', 'Lawrence Norfolk', 'William Littlewood', 'Fiona Zedde', 'Julia Bell', 'Rosemary Radford Ruether', 'Bradley Quinn', 'Alexander Vasiliev', 'Sophie Cabot Black', 'Peter Darvill-Evans', 'Alice Waters', 'Bill Pierce', 'Taner Akçam', 'Gary A. Haugen', 'Stephen F. Porcella', 'Conrad Fischer', 'Philis Boultinghouse', 'Michel Gobat', 'Lindsay Clarke', 'Anna Tambour', 'Edward McCrorie', 'Carter Lindberg', 'Hank Searls', 'Martin Von Cochem', 'Alexandra Weinbaum', 'Jeff Burbank', 'James Merrill', 'Simon Kuper', 'Craig R. Dykstra', 'Tracy Chevalier', 'Laura Wiess', 'Camille Yarbrough', 'Chandra Prasad', 'J.P.   McEvoy', 'Mia Posada', 'David A.  Thomas', 'Alice Pope', 'Juan Flores', 'Terry Waite', 'Carol Severence', 'Rachel Flynn', 'Ken Fones-Wolf', 'Mark Brend', 'Annie Hawes', 'David Ray Griffin', 'Don Sanders', 'Jessica Abel', 'Nicole Byrd', 'Charles I. Jones', 'Hugo de Burgh', 'Frances Spalding', 'Kerry Cox', 'Victoria Miles', 'John   Robb', 'Christine Brennan', 'Sandra M. Schneiders', 'Ron Morrish', 'Yee-Fan Sun', 'Twig C. George', 'Jennifer Knapp', 'Bill Richardson', 'Abraham Isaac Kook', 'John Styers', 'Arthur Geisert', 'Andy Orchard', 'Mark S. Weiner', 'Jamie Kalven', 'David Oates', 'Guy Cook', 'Stephen H. Webb', 'Lawrence A. Kane', 'Imelda Whelehan', 'Emily   White', 'Alfred J. Kolatch', 'Debra Ann Cantrell', 'Maurice Lamm', 'Francisco de Goya', 'Tiffany Trent', 'Leon Uris', 'James McConkey', 'Margot Badran', 'Stephen    Bates', 'Reiko Shimizu', 'James Edward Peters', 'George Lipsitz', 'Alan P. Trujillo', 'Anthony Freeman', 'Graeme Davis', 'Louise Gill', 'Claire Baxter', 'Brandon Mull', 'Michelle de Kretser', 'Carl Sewell', 'Terry Devane', 'Shulamit Shahar', 'Marc Falkoff', 'Liz Osborne', 'Mark        Wilson', 'Laurence Holt', 'Helen Joseph-Armstrong', 'Jacqueline Rogers', 'Edie Claire', 'Jay Patrick Green Sr.', 'Charles McCarry', 'Teri Seidman', 'Jacques Offenbach', 'Gale E. Christianson', 'W. Mary Shelley', 'Sheila J. Curran', 'Liberace', 'Mariana Cook', 'Mindy Warshaw Skolsky', 'Bill Gross', 'Joseph Weisberg', 'Pierre Corneille', 'Kathleen Stein', 'Jeffrey Thompson Schnapp', 'Herodotus', 'Chuck Martin', 'Louise M. Wisechild', 'Susan Nagel', 'Da Liu', 'Michel Rosenfeld', 'Ricky W. Griffin', 'Robert Hirschfeld', 'Richard Wiley', 'Linda Lay Shuler', 'Mardi Ballou', 'Lee K. Abbott', 'Richard Bayan', 'Lisa Rowe Fraustino', 'Debby Giusti', 'Frei Otto', 'Joyce V. Coakley', 'Carolyn Crowder', 'Sara Sviri', 'Erik Olin Wright', 'Casey Daniels', 'Ian P. Watt', 'Jane M. Ussher', 'Darlene Zimmerman', 'Æleen Frisch', 'Hermann Löns', 'Barbara Burnett Smith', 'Eva C. Keuls', 'Lee M. Silver', 'John J. Ratey', 'Betty Layman Receveur', 'Aqua Mizuto', 'Heather Adamson', 'Pablo Ortiz Monasterio', 'Teresa McClain-Watson', 'Barbara Kingsolver', 'Maria Laurino', 'Sally Wentworth', 'Lois Schwartz', 'C.B. Cebulski', 'William Sears', 'Bob Barnes', 'Teresa S. Stover', 'Russell Langley', \"Maarten 't Hart\", 'Jacquelyn Dowd Hall', 'Rick DeMarinis', 'Robert Bartlett', 'Jamie Martinez Wood', 'John P. Plummer', 'John Hope Franklin', 'Neil Cartlidge', 'Michael DiMercurio', 'Steven Kroll', 'David Cian', 'Philippe Garner', 'Charles Harvey Miley', 'Rosa Guy', 'Richard A. Knaak', 'Judith Tarr', 'John W. Eaton', 'Richard Cantillon', 'Canon Benedict', 'Michael H. Ross', 'Katie Meier', 'Katie Estill', 'Will Fowler', 'Colin Powell', 'Jonathan Goldberg', 'Richard Gilly Nixon', 'Judith Palmer Harik', 'Robert Carleton Hobbs', 'David Baddiel', 'Sharon D. Welch', 'Janet Halley', 'Susan Stinson', 'Margot Anne Kelley', 'Signe J. Plunkett', 'Suzanne Capek Tingley', 'Michael Loewe', 'Sister Moon', 'John Gay', 'Leslie Schnur', 'Joy Cowley', 'Slavoj Žižek', 'Ric Flair', 'Joann Wypijewski', 'Cynthia M. Stowe', 'Barbara Burkhardt', 'University of New Mexico Diabetes Care G', 'Haydn Middleton', 'Jean Webster', 'T. Edward Damer', 'Jonathan Knudsen', 'F.F. Bruce', 'Bill Strickland', 'Asghar Ali Engineer', 'Christopher  Rice', \"Maureen O'Hara\", 'Lawrence Naumoff', 'Brenda Tharp', 'Gilda Carle', 'Nancy Lindquist', 'Ed Culberson', 'Nancy Moser', 'Karen Farmer', 'Saul Zadka', 'Peter Viereck', 'Polly Athan', 'General Headquarters of the Irish Republican Army', 'Charles Van Over', 'David Norbrook', 'Tamara Adlin', 'Greg Malouf', 'Mick Fish', 'Eli Jaxon-Bear', 'Gerry Shishin Wick', 'Edgar Schneider', 'Philippe Descola', 'Lillian Morrison', 'Jimmy A. Lerner', 'Mary Williams', 'Dorothy Koomson', 'Myra Nour', 'Lynn S. Hightower', 'James Tiptree Jr.', 'Monte Burch', 'Dominic Strinati', 'Neil Leach', 'Alexander von Humboldt', 'Marilyn Perlyn', 'Gary Blake', 'Simon Trezise', 'Jerry Piasecki', 'Donald Richie', 'Clinton Walker', 'Beate Wedekind', 'Joseph Laurence Black', 'Rodger Kamenetz', 'Richard N. Frye', 'Delarivier Manley', 'Henry I. Miller', 'Charles Phillips', 'Erskine Caldwell', 'Stephen M. Rowland', 'Edward Lavin', 'Michael S. Dobson', 'Eva-Lena Rehnmark', 'Diane Dorrans Saeks', 'Hilary Putnam', 'Marie-Anne Dupuy-Vachey', 'Jim Ottaviani', 'Janet Campbell', 'Jiawei Han', 'Anne Dimock', 'Glen Cadigan', 'Glendon Swarthout', 'Robert Irwin', 'Joe    Jackson', 'Batem', 'Michael Blake', 'William C. Placher', 'Marlon Brando', 'Kent Conwell', 'Jan Greenberg', 'Geoffrey Sayre-McCord', 'William M. Boothby', 'Earl Proulx', \"Stephen J. O'Brien\", 'Henry Hazlitt', 'Jane  Porter', 'Sandra L. Pinkney', 'Sten Nadolny', 'Gary R. Habermas', 'Richard Hudelson', 'Sheryl James', 'Mohammed M. Hafez', 'Eric  Swanson', 'Alvaro Vargas Llosa', 'Jane Shapiro', 'Alan Murphy', 'Jean M. Brown', 'Patrick Griffiths', 'Patrick Sookhdeo', 'Alison Cragin Herzig', 'Elisa Ferri', 'John Armistead', 'Elizabeth S. Grobsmith', 'Tim J. Cornell', 'Teresa Medeiros', 'Jean de La Fontaine', 'Kathleen M. Hollenbeck', 'Jody Lynn Nye', 'John R. Percy', 'Leonard E. Foote', 'Hunter Morgan', 'Maryana Vollstedt', 'Reinhardt Hess', 'Margaret Cooper', 'Catherine M.S. Alexander', 'Mike Stocks', 'Gene Logsdon', 'Peter  Adam', 'Katherine V. Forrest', 'Elinor Burkett', 'Alessandro Barbucci', 'Pony Boy Gawani', 'Rebecca Rutledge', 'Janet Moursund', 'K.C. Constantine', 'Richard Dansky', 'Stanley I. Greenspan', 'Normandi Ellis', 'Agustín Fernández Paz', 'Mark Bittman', 'Roland Owen Laird Jr.', 'Keith Robbins', 'Elliott West', 'Bob Bolling', 'Charlene Lichtenstein', 'Ann Hayes', 'José Martí', 'Patricia A. Deuster', 'Robert J. Barro', 'Chris Crawford', 'Stephen D. Krashen', 'Hyler Bracey', 'Fran McCullough', 'William Edwin Dyess', 'Valerie  Watson', 'James Conrad', 'Naomi Novik', 'William K. Mahony', 'Jon Wiener', 'Paul Talbot', 'Ilona Lackova', 'Kristin Butcher', 'Janet Morgan', 'Dave Roever', 'Rodney Jones', 'Ellen Wilson', 'Michael Rips', 'Judith Levin', 'Douglas Adams', 'David Goodstein', 'Hugh Vernon-Jackson', 'Veda Boyd Jones', 'J. Robert Janes', 'Ethel L. Herr', 'Rob Ives', 'Paulina F. Kernberg', 'Vladimir Bogdanov', 'Dennis     Jones', 'Larry Baker', 'Giles Gunn', 'Conrad Anker', 'Linda S. Budd', 'John Schwandt', 'Richard Gwyn', 'Layn Marlow', 'April Smith', 'Susan Fletcher', 'Israel Finkelstein', 'David Greco', 'Maria Hsia Chang', 'Thomas Moylan', 'Peter van der Veer', 'Cecilia Podolak', 'Ignacio Padilla', 'Donna Dale Carnegie', 'Craig   Duncan', 'David Lazer', 'Brad    Watson', 'Ellen Dissanayake', 'Ed Stark', 'Holger H. Herwig', 'Helen Cooper', 'Richard D. Sagor', 'Lucinda Hutson', 'J. California Cooper', 'M.J.  Smith', 'Janet Whittle', 'Gloria Degaetano', 'Marvin R. Shanken', 'Julie Mertus', 'Shirley Marks', 'Laurence Kardish', 'Greg Cashman', 'Rand Richards', 'Charis Wilson', 'Gary Schroen', 'Bill Harris', 'Frank Musgrave', 'Paget Henry', 'Jessica McClintock', 'Michael Macfarlane', 'A.I. Kapandji', 'Thomas Nelson Page', 'William Woys Weaver', 'Mattie J.T. Stepanek', 'Takako Arai', 'Genichiro Yagyu', 'Anne Delbée', 'William J. LeVeque', 'Eric  Klein', 'Andrew Watt', 'Tony Northrup', 'Tim Mackintosh-Smith', 'Kunal Basu', 'Jonis Agee', 'John Bagot Glubb غلوب باشا', 'Peter Russell', 'Ray Davies', 'Anthony Weston', 'Anthony Bidulka', 'Stephanie E. Yuhl', 'Noah Webster', 'Hesham A. Hassaballa', 'H. Byron Earhart', 'Donald R. Hettinga', 'Samuel K. Cohn Jr.', 'Beth Gurney', 'Jenna McKnight', 'RUPERT WOLFE-MURRAY', 'The New York Times', 'Kristi Collier', 'Jocelyn Linnekin', 'Johanna Thiel', 'Jaap van Ginneken', 'Jay Leno', 'Timon Screech', 'Mark Kingwell', 'Thich Nhat Hanh', 'James T. Farrell', 'David Falkner', 'Dennis Gersten', 'Melissa Mayhue', 'Karen Putman', 'François Icher', 'Karen Leabo', 'Marybeth Hamilton', 'Anita Desai', 'Beverly Daniel Tatum', 'Paul Hodkinson', 'Dawn Daniels', 'Daniel Grotta', 'Constance M. Foland', 'J. Nozipo Maraire', 'Roger Vergé', 'Vivi Anna', 'Peter Catalanotto', 'Chögyam Trungpa', 'Joyce Pope', 'Robin Hahnel', 'Ian Gittins', 'John R. Lee', 'Bob Parks', 'Alfred Bester', 'Al Saadiq Banks', 'Janet Shibley Hyde', 'Wright Morris', 'Jennifer St. Giles', 'Ursula Hegi', 'Karen L. King', 'A.A. Milne', 'Susan Fawcett', 'Carolyn Strom Collins', 'Michael Halperin', 'Peter         Kerr', 'Richard Williams', 'Bastiaan M. Drees', 'John Mack Faragher', 'Brian Patrick Mitchell', 'Nina Alexander', 'Chris Fabry', 'Roger Lancelyn Green', 'Jon Winokur', 'Michael Dawson', 'Piers Dudgeon', 'W.A. Mathieu', 'J.B.B. Winner', 'María Elena Lucas', 'Stella Bagwell', \"Joe O'Neil\", 'Stephen P. Halbrook', 'Nicole Savy', 'Robin U. Russin', 'Sue Fox', 'Shannon Hale', 'Tom Markert', 'John McCabe', 'Robert               Anderson', 'Robin Pascoe', 'Karl Shaw', 'James L. Resseguie', 'Joy Davidson', 'Charles L. Schultze', \"Laurence J. O'Toole Jr.\", 'Camilo Cruz', 'Paul Féval père', 'C. Archer', 'Elaine Heumann Gurian', 'Thomas Carper', 'Norrie Epstein', 'John Bugliosi', 'Lesley Thomas', 'Christine Farenhorst', 'Linda Motzkin', 'David Hunter', 'Deni Ellis Béchard', 'Rollene Saal', 'Barbara Levick', 'Mark L. Bradley', 'Linda J. Dorn', 'Mark S. Kinzer', 'Katherine Salant', 'Eric Schiller', 'Michael   Bender', 'Mary Sharp', 'Robin Hemley', 'Donald N. Sull', 'George D. Kuh', 'Kathleen Kunz', 'Janet Tashjian', 'Bill Grossman', 'Leonardo Maugeri', 'Marc J. Roberts', 'William A. McGarey', 'Alia Mamdouh', 'Richard F. Newcomb', 'Anna Rountree', 'Robert Michael \"Bobb\" Cotter', 'Robert D. Johnston', 'André Breton', 'Nigella Lawson', 'Lawrence Goldstone', 'William Quan Judge', 'Susan Eisenberg', 'Cyril Charles Richardson', 'Virginia M. Fields', 'Michael McCarthy', \"Thomas O'Neil\", 'Andrew Pyper', 'Fletcher Hanks', 'Stuart J. Levy', 'Julia A. Clancy-Smith', 'Len Wein', 'Linda McCartney', 'Ilana Simon', 'Jack Smart', 'Jack Miles', 'Jeannie Morris', 'Hugh Karseras', 'Jane Leavy', 'Bradley Trevor Greive', 'Renate Zahar', 'Angelika Taschen', 'Fiona Dunbar', 'Fabrice Colin', 'David M. Kennedy', 'Tom Ginsburg', 'Leo Gough', 'Giovanna Borradori', 'Terry  Jones', 'Barbara Sykes', 'Christian Teubner', 'Jonah Winter', 'Lila Prap', 'David Chart', 'Roberts Liardon', 'Rob Krier', 'Tad Wise', 'Karen Hayward', 'Victoria Presley', 'Larry Collins', 'Patricia Raybon', 'Plum Sykes', 'David H. Richter', 'John Killen', 'Michael Lowenthal', 'Beth Fischi', 'Deborah Levine Herman', 'Hamdy A. Taha', 'Betsy Reed', 'Charline R. McCord', 'Ronni Lundy', 'Philip Hesketh', 'Michael J. Gelb', 'Paul Blanchard', 'Peter Dale Scott', 'Mem Fox', 'Fabienne Verdier', 'Omar S. Castañeda', 'Martha Sherrill', 'Lewis Call', 'Eric Affabee', 'Fred Bodsworth', 'Jasper Fforde', 'Liz Anderson', 'Roger Highfield', 'Dolores Cannon', 'Charles  Dunn', 'Frederick Charles Copleston', 'Michael Rosen', 'Alison Ritchie', 'Frank Brennan', 'Judith    Katz', 'Diane Eichenbaum', 'Victoria Hislop', 'Geronimo Trevino, III', 'Jeanie Trusty Stiles', 'John W. Creswell', 'Kazura Matsumoto', 'Ingrid Banks', 'Aśvaghoṣa', 'Peter Barham', 'Emelie Tolley', 'Shelby Steele', 'Lynne Segal', 'Alan C. Ziegler', 'Harry Lampert', 'Jack   Davis', 'John Mighton', 'Mo Rocca', 'Efraín Kristal', 'Anselm Grün', 'Randall Packer', 'Godfrey Hodgson', 'C.C. Brondwin', 'Marilyn  Chase', 'Shane Stanford', 'Leslie Yerkes', 'Lucien Febvre', 'Jeff Lucas', 'Gloria Velásquez', 'Patrick Sweeny', 'Edgar Stoesz', 'John Mandeville', 'Parker K. Sawyer', 'Ivan Velez Jr.', 'Richard Johnsonbaugh', 'Alan Rabinowitz', 'Kazuo Ishiguro', 'Kathleen Peirce', 'Arthur R. Tenner', 'Kathleen Long Bostrom', 'Chris Crouch', 'José Luis González-Balado', 'René Girard', 'Jimmy Roberts', 'James S. Trefil', 'Mark A. Gabriel', 'Alexandra Day', 'Pamela Bauer', 'Sue Baier', 'Brian Doherty', 'Leor Halevi', 'Maxine Paetro', 'Matthew Eck', 'Margaret Braun', 'R. Lyman Ott', 'Elliott D. Sclar', 'James Robert Baker', 'John A. Endler', 'Angela Knight', 'Sharon Butala', 'Dennis Sanders', 'Olivier Said', 'Oliver D. Crisp', 'Heather Arnel Paulsen', 'Victoria Nixon', 'Elizabeth Inness-Brown', 'Lynn Sherr', 'Robert M. Parker Jr.', 'Keimpe Algra', 'Jonathan J.G. Alexander', 'Philip Baruth', 'Charles Ryskamp', 'Régine Pernoud', 'Katherine Cramer Walsh', 'Peter Cox', 'Evelyn Eaton', 'L. Bob Rovetch', 'Lou Dobbs', 'Clifford Winston', 'Paul Douglas', 'Sharon Gillenwater', 'David A. Horowitz', 'Cynthia Heimel', 'Yuki Tanaka', 'J. Eric Miller', 'Gwendolyn Bounds', 'Mark Tully', 'Christopher D. Kolenda', 'Frank Close', 'Gerald Martinez', 'Sun Bin', 'Sunil Vijayakar', 'Allan Ahlberg', 'Pat Riley', 'Rosemary Wagner', 'Jill Dawson', 'Pat Kane', 'David  Roberts', 'Julia Indichova', 'Nora Ellen Groce', 'Simon Mitton', 'Fairview Press', 'Candace Gingrich', 'Edmund Husserl', 'Tina Leonard', 'Todd Tremlin', 'J.E. Alvarez', 'Darrell M. West', 'Leigh Ann Tyson', 'Kathleen Creighton', 'Glenn Harvey', 'C. Herbert Gilliland', 'Mark F. Moran', 'Patricia Santos Marcantonio', 'Elaine K. McEwan', 'Pillsbury', 'Miriam Ching Yoon Louie', 'Dermot Moran', 'Stephen Coonts', 'W. Barksdale Maynard', 'Jim Jinkins', 'Joseph Ki-Zerbo', 'Leonard A. Smith', 'Judy Lowe', 'Kevin Belmonte', 'Robert W. Bly', 'David Blayney Brown', 'Claudio Freidzon', 'Richard R. Day', 'Karen Ritz', 'Unica Zürn', 'Danny Fingeroth', 'Nancy Stafford', 'Lorine Niedecker', 'Elaine Marks', 'Adrian R. Lewis', 'Ronaldo Lidorio', 'Deborah Wiles', 'Don Geary', 'Tom   Savage', 'Achim Eckert', 'Ron Snell', 'Graham Harding', 'Sandra Cabot', 'Paul S Williams', 'Colin Angus', 'J.D. Wetterling', 'Nicholas Humphrey', 'Axel Scheffler', 'Emily Prager', 'Antonio Tello', 'Jeannine Davis-Kimball', 'Stanisław Przybyszewski', 'Joanne McMahon', 'Homer W. Sykes', 'Eberhard Arnold', 'John Silvester', 'Gottlob Herbert Bidermann', 'Uri Bar-Joseph', 'Claire Zimmerman', 'Judith G. Coffin', 'Diane  Farr', 'Derek Van Loan', 'Mary Swander', 'Fredric Brandt', 'Karl T. Ulrich', 'Christopher Pick', 'Douglas Hensley', 'Gene A. Brucker', 'Dino Compagni', 'Gustaw Herling-Grudziński', 'Rita Ariyoshi', 'Henriette Walter', 'Sandor Nagyszalanczy', 'Matthew Naythons', 'Beverly Mack', 'June Calvin', 'Susan C. JARRATT', 'Jason Blume', 'Aran Ashe', 'Joseph von Eichendorff', 'Zakaria Erzinçlioğlu', 'Peter  May', 'Kathleen Bryan', 'Zenji Keido Chisan Koho', 'Soheir Khashoggi', 'Jerome E. Kaufmann', 'Robert M. Seltzer', 'George Sessions', 'Troy Howell', 'Valerie Shaff', 'Rebecca Chalker', 'Erik Jendresen', 'Tracy K. Smith', 'Arnold Robbins', 'Stanisław Barańczak', 'Douglas N. Graham', 'Elizabeth Smith', 'Michelle Newman', 'Betty Judge', 'Shirley Halperin', 'Steve  Graham', 'H.E. Marshall', 'Geraldene Holt', 'Robin Rose', 'Jesse Dukeminier', 'Judith A. Lansdowne', 'Richard Wormser', 'Charles Seabrook', 'Phillip L. Berman', 'Julian Havil', 'Molly Coxe', 'David Z. Albert', 'William Willoya', 'Mary Frohlich', 'Tom Hayden', 'Bonnie Bishop', 'Jane Worth Abbott', 'Geoffrey W. Conrad', 'Michaela Morgan', 'Swami Kriyananda', 'Chuck Austen', 'Robert Alden Rubin', 'J. Michael Steele', 'Cheryl Clarke', 'Pat Guthrie', 'Herbie Brennan', 'Jérémie Kaminka', 'Ken Dancyger', 'Deidi von Schaewen', 'Jae-On Kim', 'Geoffrey Hughes', 'Elizabeth Enright', 'Linda Hodges', 'Fiona Carmichael', 'Catherine Galasso-Vigorito', 'Philip V. Bohlman', 'Linde Salber', 'Larissa Iermilova', 'David Ferguson', 'Jerome Pohlen', 'William Rothman', 'Fred E. Katz', 'Albert O. Hirschman', 'Susan Sherman', 'Madeleine B. Stern', 'Vivian Gussin Paley', 'Josef Von Sternberg', 'Norman F. Cantor', 'Kristen Britain', 'Maryln Schwartz', 'A.E. Parker', 'J. Jonathan Gabay', 'James Baldwin', 'Thomas C. Brickhouse', 'Dorothy Ko', 'Tyler Cowen', 'Charles Ives', 'Leland Graham', 'Anthony C. Winkler', 'Hendrikus Berkhof', 'Chris Weedon', 'C.S. Goto', 'Thomas P. Kelley', 'Threads', 'Al Goldstein', 'Ann Rinaldi', 'Lyle Shamo', 'Paul Lacinski', 'Masha Gessen', 'ReShonda Tate Billingsley', 'Lu Ann Homza', 'Geraldine Flanagan', 'Jesse Liberty', 'Violette Smith', 'Jeffrey A. Kottler', 'Susana Chavez-Silverman', 'Leonard Saffir', 'Joan N. Berzoff', 'M. William Phelps', 'Delta Willis', 'Frances Ward Weller', 'Kate Cohen-Posey', 'Philip Kaplan', 'Jose Lorenzo-Fuentes', 'Pedro De Alcantara', 'James Warhola', 'Lisa Hiley', 'John Stauber', 'Tom Vanderbilt', 'Yves Navarre', 'Charnan Simon', 'William S. Baring-Gould', 'David Frawley', 'Melissa L. Rossi', 'Caroline Myss', 'Steven A. Safren', 'Andrew Hodges', 'David     Bell', 'Jacklyn Blake Clayton', 'Georg Friedrich Händel', 'Kiran Bedi', 'Phyllis Rackin', 'Charles A. Kupchan', 'Michael Hittman', 'Jim Christley', 'John A. Burke', 'Alfred Jarry', 'Gary Lachman', 'Michael Schiefelbein', 'Kay Arthur', 'David A.T. Stafford', 'Michael F. Opitz', 'Steve Gross', 'David Vose', 'Kiran Srinivas', 'Derek W. Urwin', 'John J. Davenport', 'Elizabeth  Jewell', 'Carolyn Wells', 'Guy R. Lefrancois', 'Marek Musiela', 'John Putzier', 'Bruce Grierson', 'Livia J. Washburn', 'V. Kasturi Rangan', 'Benjamin J. Broome', 'I. H-Shihan', 'Claire Thompson', 'Elizabeth DeVita-Raeburn', 'Gary D. Badcock', 'Gary Legwold', 'José Saramago', 'Rosemary Dinnage', 'Sam Lipsyte', 'Peter van Dijk', 'Judy Grahn', 'Harry McNaught', 'Gregory McDonald', 'Wynne-Davies', 'Steven Barboza', 'Deborah Ousley Kadair', 'Patrick  Taylor', 'Robert Gottlieb', 'Tom Butler-Bowdon', 'Ruediger Dahlke', 'Jack Bartlett Rogers', 'John Beckett', 'Robert Crawford', 'H.A. Dorfman', 'Anthony B. Pinn', 'John C. Pope', 'Leslie Mackie', 'Joyce Carol Thomas', 'Keith J. Laidler', 'Kay Chorao', 'Anthony Bianco', 'Ivan Van Sertima', 'Zamir Iqbal', 'Michael A.  Ross', 'Jason Louv', 'Peter Ames Carlin', 'Ernest B. Furgurson', 'Henry S. Cohn', 'Pamela Lowell', 'Kristin Hunter Lattany', 'Colleen Howe', 'Noliwe M. Rooks', 'Robert Hemfelt', 'William Lubbeck', 'Kim Vogel Sawyer', 'Joan Leonard', 'Ruth Scurr', 'Madame de La Fayette', 'Elizabeth Freeman', 'Chloe E. Bird', 'Priscilla Coit Murphy', 'Paula Wild', 'Amanda Scott', 'John Elder', 'Matthew Pearl', 'Paul J. Horowitz', 'Christer Bergström', 'Sally Herigstad', 'Scott Blackwood', 'Fereshteh Nouraie-Simone', 'Richard Dry', 'Gerri Hirshey', 'Paul Santhouse', 'Marc Davenport', 'Daryl R. Conner', 'Michael F. Graves', 'Katherine Orrison', 'Ronald Kessler', 'Jorgen de Mey', 'Phillippe De Vosjoli', 'John C. Whitcomb', 'Hugh Walpole', 'Terry McCabe', 'Ken Schwaber', 'Book Sales Inc.', 'Kate Weigand', 'Jules Watson', 'Richard Chillot', 'Eboo Patel', 'Paula Martin', 'Herbert J. Storing', 'John Arnott MacCulloch', 'David Baskerville', 'Robert J. MacKenzie', 'Koichi Tohei', 'Iain Smyth', 'Allan A. Glatthorn', 'Jim Bouton', 'Beatrice Ojakangas', 'Kenneth J. Peak', 'Rebbecca Ray', 'Carroll A. Lutz', 'Dorothy Barlowe', 'Douglas Gomery', 'Michael Norton', 'Francis J. Bremer', 'Evelyn Nakano Glenn', 'Philippa Stockley', 'Marguerite Porete', 'Ken Steiglitz', 'Lighthouse Review Inc', 'Martin Kemp', 'Robert A. Katzmann', 'Jerred Metz', 'Michelle G. Craske', 'Cynthia Overbeck Bix', 'Jennifer Niederst Robbins', 'James R. Lucas', 'Erin Soderberg Downing', 'Joe Casad', 'Julian T. Jackson', 'Karin Jäckel', 'Robert Spencer', 'Joseph Horowitz', 'Hallie Crawford Stillwell', 'Gary Chapman', 'Chris Owen', 'Pam Schiller', 'Kazuhiko Mishima', 'Louise Moeri', 'Daniele Ganser', 'Christopher Castellani', 'Sean Covey', 'Wilborn Hampton', 'John C. Esposito', 'Toti Martínez de Lezea', 'Lisa J. Scheinkopf', 'USMC Development-Education Command Staff', 'Joseph Bernardin', 'Jon Steel', 'Jim Daly', 'Thomas Lovell Beddoes', 'J.B. Stephens', 'Heidi L. Nichols', 'Alexander Cockburn', 'Denise Little', 'Brian M. Ambroziak', 'Stephanie Howard', 'John Waterman', 'Tracy Griffith', 'Stephen  Booth', 'George P. Fletcher', 'Alan Ryan', 'Harry Stein', 'Cheryl Caldwell', 'Rick Kaempfer', 'Marylin Hafner', 'Michael L. Cooper', 'Joseph M. Williams', 'George Shannon', 'Herb Boyd', 'Howard Haycraft', 'Susan      Miller', 'Fiona MacDonald', 'Lou Callan', 'James B. Garfield', \"Jacquie D'Alessandro\", 'Clarkes Lincoln', 'Katharine Lee Bates', 'Jane Jacobs', 'Joanna Russ', 'Bay Buchanan', 'Paul Benedetti', 'Glenn Doman', 'Jenny Randles', 'Jim DeFelice', 'Harry Shaw', 'Elwood Watson', 'Ann C. Hall', 'Pete Shackett', 'Steve Kaufmann', 'Stewart Burns', 'Juanita Havill', 'Virginia Poulet', 'Rosemary Hankin', 'Geoffrey Scarre', 'Anthony Giddens', 'Marjorie Frank', 'Elizabeth Ayres', 'John Ashcroft', 'Perry Link', 'Mary Saaler', 'Harry Robinson', 'Peter Duus', 'Jim Fergus', 'Mike   Evans', 'Dan Hofstadter', 'William Seil', 'Lee Simon', 'Katherine Hoffman', 'Denis Edwards', 'Eboni Bynum', 'Bernard Baumohl', 'Hanna Kroeger', 'Jason Walker', 'Sloane Tanen', 'George Levenson', 'John Brian Taylor', 'Lorine Mason', 'Gael Baudino', 'Don Casey', 'Ellen Fein', 'Peter Farrelly', 'Helena Paterson', 'Jacqui Bailey', 'Emily Craig', 'Martin Scorsese', 'Susan Ware', 'Meesha Halm', 'Rey Chow', 'Jimmy Hawkins', 'Gordon Thomas', 'Jeff Schmidt', 'Hiroko Fukuhara', 'Richard Wheeden', 'Peter de la Billière', 'Hajo Banzhaf', 'Don S. Browning', 'John Sanders', 'Christian D. Larson', 'Michael D. Jackson', 'Roberta Bayley', 'William Thomas Walsh', 'Peter   Fisk', 'James P. Hogan', 'Mary Lascelles', 'Maitland McDonagh', 'Mario Mendoza', 'Deborah Schiffrin', 'Kurt Bruner', 'Andy Andrews', 'Richard Linklater', 'Christopher Sorrentino', 'James Kirkup', 'Enrique Oltuski', 'Baz Kershaw', 'Michael Bowker', 'M. Robert Mulholland Jr.', 'Sheelagh Mawe', 'James G. Cunningham', 'Neil Sclater', 'David R. Marks', 'Sharon Lamb', 'Ben Green', 'Robert Hamlett Bremner', 'Ruth L. Hayden', 'Jeannette Haien', 'Judith A. Arter', 'Lee Roddy', 'Jessica Denay', 'Jerri Drennen', 'Hans Mateboer', 'James W. Mavor Jr.', 'John Torreano', 'Peter Levitt', 'Kay David', \"Barbara O'Brien\", 'John Einarson', 'Karen Sue Clippenger', 'Michael E. Zimmerman', 'Rick Curry', 'C.C. Cameron', 'Max Weber', 'Marilyn C. Agin', 'Louise S. Robbins', 'Joanne M. Braxton', 'L. Dean Webb', 'Richard Rhodes', 'Marvin Terban', 'Truong Nhu Tang', 'Daniel P. Brown', 'Maurice Keen', 'Nina L. Paul', 'Francesca De Grandis', 'Ian Ridpath', 'Rick      Johnson', 'Christine Lindop', 'Roger Kahn', 'Elinore Pruitt Stewart', 'Stephen Jay Gould', 'Benno Müller-Hill', 'Inge Dougans', 'Grace Lee Nute', 'John Roskelley', 'Terry  Taylor', 'Peter Nichols', 'Karl French', 'Nathan C. Green', 'Fray Angelico Chavez', 'Lia Purpura', 'Maurice P. Verneuil', 'Hans Holzer', 'Hedley Thomas', 'Dickinson W. Adams', 'Robert Bud', 'Jaquelyn McCandless', 'Kate Needham', 'Biswa Nath Datta', \"Joseph O'Rourke\", 'Henri Bergson', 'Donna Kooler', 'Arthur Llewellyn  Basham', 'Debra Dier', 'William S.   Davis', 'Joel D. Haber', 'Susan    Katz', 'Thomas  Brooks', 'Zac Unger', 'Michael Moncur', 'Lesley Sharpe', 'Ben Carson', 'James F. Twyman', 'Lynn Dianne Phillips', 'John MacKinnon', 'Lara Couturier', 'Dorie Greenspan', 'Charles Ryan', 'Mary Hunt', 'Karen Salmansohn', 'Ananth Grama', 'Gavin Bishop', 'Ironman Magazine', \"Patrick K. O'Donnell\", 'Audrey Howard', 'Eilean Hooper-Greenhill', 'Amir D. Aczel', 'S.P. Rosenbaum', 'Richard Swift', 'Victor G. Ambrus', 'Aaron Frankel', 'Priscilla Presley', 'Jo Gibson', 'Diane Goode', 'Marlynn K. Clayton', 'Mil Millington', 'Gerry Souter', 'John Coyne', 'Scott Turansky', 'Arnoldo C. Hax', 'Andrew Dalby', 'Suzanne Finstad', 'John M. Ellis', 'Henry M. Morris', 'Larry Watson', 'Linda L. Grenz', 'Gherbod Fleming', 'Karen M. Offen', 'Roger Kimball', 'John Jacob Niles', 'Hadmar von Wieser', 'Linda Labelle', 'William  Beck', 'Raimon Panikkar', 'Allison Green', 'Thomas J. Noel', 'Mary Reid', 'Paula Hardy', 'Sandra Faulkner', 'Peter Shapiro', 'Stephen Fuentes', 'Gillian Greenwood', 'Holly Morris', 'John W. Dean', 'Ed McCarthy', 'Ronald Lewin', 'Julie Ann Rach', 'Jamgon Kongtrul Lodro Taye', 'R.H. Jarrett', 'Michael Welschenbach', 'Swan Adamson', 'Gregor N. Purdy', 'Wilfrid Sellars', 'Paul Eggers', 'Gene Weingarten', 'Robert D. Bergen', 'Jeff Walling', 'Jane H. Wise', 'Paul Karasik', 'Wes Roberts', 'David Steinman', 'M.C. Beaton', 'Thomas J. Peters', 'Katherine Walsh-Burke', 'Monica Wellington', 'Walter A. Davis', 'Simon Allix', 'Luís de Camões', 'Telford Work', 'Elisabeth Sanxay Holding', 'Merritt Ruhlen', 'Ed Regis', 'Efua Sutherland', 'Michael J.H. Taylor', 'Gordon Conway', 'Eastman Curtis', 'Cleo Woelfle-Erskine', 'Jan Guillou', 'John Lyly', 'Judie L.H. Strouf', 'Annie Berthold-Bond', 'P.N. Dedeaux', 'Richard Berenholtz', 'Edward P. Jones', 'Donovan Webster', 'Eric Wilson', 'Terri Breneman', 'Shelly K. Green', 'Carl Burgos', 'Steve Amick', 'Matthew Festenstein', 'Hilary Neroni', 'Leah McLaren', 'the bakers of Hodgson Mill', 'Russell Jeavons', 'Chet Cunningham', 'Thomas G. Long', 'Zak Greant', 'Maggie Greenwood-Robinson', 'Minetarō Mochizuki', 'Françoise Héritier', 'Annie Dalton', 'Sara  Miles', 'Jack Kornfield', 'Alan Sinfield', 'Rodney Combs', 'Howard L. Bingham', 'Tony Hope', 'Dianne Dugaw', 'Bruno Jasieński', 'Claire  Tristram', 'Marita Littauer', 'Dan Wakefield', 'Carol Lancaster', 'Barbara Paul', 'Carolyn McVickar Edwards', 'D. Edmond Hiebert', 'James Boggs', 'Monica Quill', 'Renata Schiavo', 'Sterling Seagrave', 'Mark J. Pellegrino', 'George Friedman', 'Anne Hébert', 'Amanda   Jones', 'Jim Gigliotti', 'Sharon Doubiago', 'David Kalat', 'Barbara H. Solomon', 'Ron Rosenbaum', 'Sharon Krum', 'Greta Van Susteren', 'Ronald Wardhaugh', 'Sam Roberts', 'William S. Paley', 'Keith Baker', 'Judith Levine', 'James Ryle', 'Beth Bosworth', 'Keith Harrell', 'Sam Bass Warner, Jr.', 'Day Leclaire', 'Bob Boiko', 'Jeanee Ledoux', 'Duncan Clark', 'Michael Bright', 'Mathew Brown', 'Paige Lee Elliston', 'Beatrice S. Mikulecky', 'Craig Lloyd', 'Herb Dunn', 'Harry Lorayne', 'Cynthia Fleming', 'Didier  Martin', 'Ivan Illich', 'Shirley Temple Black', 'Alison Gernsheim', 'David E. Brown', 'Laura Kasischke', 'Martha K. Huggins', 'John Rosemond', 'Shannon Bell', 'Dan Richardson', 'Annejet van der Zijl', 'Ashley Ladd', 'James  Burke', 'Nikolaus Pevsner', 'Doris Davidson', 'Kevin Williams', 'Bruce Goldberg', 'Joyce Rodgers', 'Richard Michelson', 'William H. Putman', 'Joe Singer', 'Lou Dubose', 'Kathy Gallagher', 'Alan M. Williams', 'W. Brad Johnson', 'Scott Nickel', 'Thomas Attig', 'Brian    Johnson', 'Radu Florescu', 'Jeff Brouws', 'Diana Henry', 'Dawn L. Watkins', 'Todd A. Diacon', 'David Edgar', 'Susan Blackaby', 'J. Shep Jeffreys', 'Virginia Lee Burton', 'Joost Zwagerman', 'Judith Duncan', 'Martin Jay', 'Shelly Wu', 'Laurie Schneider Adams', 'Mary Jane Carr', 'Harvey Fierstein', 'Norvene Vest', 'Joan Wallach Scott', 'Chris Knutsen', 'Louis R. Franzini', 'Elliot S. Valenstein', 'Dervla Murphy', 'Eliza E. Rathbone', 'Terry Pluto', 'Lynette Gould', 'Olivier Roy', 'Judith Plaskow', 'Betty Schwartz', 'Carl Boggs', 'Richard Schweid', 'Kathy MacKel', 'Denny Martin Flinn', 'Charles Alexander Eastman', 'John Wansbrough', 'Alex Bellos', 'Anna Held Audette', 'Abraham Lincoln', 'Ellie Topp', 'Gary Mex Glazner', 'John L. Behler', 'Herman Holtz', 'F.X. Nine', 'Heidi Postlewait', \"Writer's Digest Books\", 'Mario Jiménez Castillo', 'Judith Pence Rooks', 'Gerald Early', 'Martha E. Snell', 'M. Christine Zink', 'Charles Knief', 'Herbert Krosney', 'Michelle N. Shiota', 'Shannon Okey', 'Amita Handa', 'Anthony F. Smith', 'Agnes von Kurowsky', 'H.G. Koenigsberger', 'Shulamith Firestone', 'Carl T. Rowan', 'Rob Gerrand', 'Gloria Emerson', 'Dino Buzzati', 'Laura Doan', 'Albert Marrin', 'Lillian Hoddeson', 'Lynn A. Coleman', 'Charles Stross', 'Benjamin A. Watson', 'Kelly A. Fryer', 'Frank Coffey', 'Jim Rohn', 'Roger Matuz', 'Mark G. Rubin', 'Jenny Hale Pulsipher', 'John P. Meier', 'Anne M. Coghill', 'Abra Edelman', 'Geoff Nicholson', 'Isabella Hatkoff', 'Robert St. John', 'Greg Critser', 'Werner Sollors', 'Sophie  Page', 'Carmen Bredeson', 'Michael    Jordan', 'Midori Snyder', 'John Strausbaugh', 'Richard Sorabji', 'Charles Eames', 'Jeremy Iversen', 'Sharon Linnea', 'Rika Lesser', 'Sarah Chaplin', 'Howell Raines', 'Scott C.  Davis', 'Renate Dorrestein', 'Paul Albitz', 'Diane Stingley', 'Mike Cronin', 'Kimberly Winston', 'Lindan Lee Johnson', 'Sidney Sheldon', 'Susan Frank Parsons', 'Patricia Broadbent', 'Camilla V. Saulsbury', 'Dwight Gooden', 'Jay S. Hammond', 'David Limbaugh', 'Ray Aldridge', 'Hermann Scheer', 'Thomas E. Hachey', 'Henry Beston', 'Dan Crawford', 'Jim Shooter', 'Richard A. Young', 'American Chemical Society', 'Paul E. Griffiths', 'Craig Kielburger', 'Blaine Lee', 'David Stanley', 'Susanna Moore', 'Barry Sammons', 'Aphrodite Matsakis', 'Esther Kalman', 'Christopher  Locke', 'James F. David', 'Richard D. Wyckoff', 'Ben Eklof', 'Barbara Kilarski', 'Connie Brummel Crook', 'Jennie Weiss Block', 'John Matteson', 'Angela Glover Blackwell', 'Cara Ashrose', 'Peter W. Low', 'Noel Streatfeild', 'Randy E. Barnett', 'Bernhard W. Anderson', 'Monique Polak', 'Bill Broder', 'David I. Cleland', 'John Denver', 'David B. Goldstein', 'H.W. Brands', 'Titus Burckhardt', 'Peter Jones', 'Lucy Shahar', 'Sarah M. Pike', 'Alex S. MacLean', 'John Gross', 'Dorothy M. Campbell', 'Peter Van Roy', 'David Solie', 'Richard Marinick', 'Kathryn Caskie', 'Sue Armstrong', 'Meenakshi Gigi Durham', 'David Emory Shi', 'Ginjer L. Clarke', 'Geoffrey Sirc', 'John       Miller', 'Gare Joyce', 'Harold Bell Wright', 'John  Peel', 'Leila Abouzeid', 'Zsuzsa Bánk', 'Judith Kelman', 'John Ventura', 'Sony Labou Tansi', 'Carleton Jones', 'Christopher Brown', 'Otto Rank', 'Isabella Lucy Bird', 'Donald B. DeYoung', 'David Edward Cooper', 'Luanne Jones', 'LiAnne Yu', 'Marielle Cormier-Boudreau', 'Scott Mactavish', 'Dorothy Wordsworth', 'Kerstin Mey', 'Victor Rangel-Ribeiro', 'Fred Bratman', 'George J. Leonard', 'Jeffrey Iverson', 'Rowan Stewart', 'Elinor Lipman', 'Tom Engelhardt', 'Donald A. Voorhees', 'Dale Hanson Bourke', 'Carolyne Roehm', 'Caroline Anderson', 'Rafael Sánchez Ferlosio', 'Tatyana Tolstaya', 'Witold Rybczynski', 'Alice Mills', 'George Cawkwell', 'Deirdre Good', 'Anne Sayre', 'Francis Davis', 'Jamie Chambers', 'Yukihiro Matsumoto', 'Mary Stolz', 'Benilde Little', 'Donald Reid', 'William Hewitt', 'Jeanne Kraus', 'Hillis R. Cole', 'Timothy J. Louwers', 'Sergio Troncoso', 'Anna Freud', 'Lars Walker', 'Lewis  Gannett', 'Ralph W. McGehee', 'Peggy Zeglin Brand', 'Barbara Curtis', 'Dorothy Clark', 'Anne Brontë', 'Marcelle Clements', 'Helen Recorvits', 'Emmanuel Mounier', 'Avi Muchnick', 'Dave M. Lauck', 'Hilary McKay', 'Ted Peters', 'Michael Armstrong', 'Gerald Lynch', 'Nega Mezlekia', 'James Thrower', 'Jennifer Michael Hecht', 'Compton Mackenzie', 'Basil Hoffman', 'Neil Cavuto', 'Alan Musgrave', 'T.K. Seung', 'Charles Hirshberg', 'Lisa Jardine', 'Shalom Auslander', 'Tadashi Suzuki', 'Paula H. Deen', 'Donald L. Barrett', 'Robyn Davidson', 'John E. Barrett', 'Frank J. Tipler', 'Barnaby Rogerson', 'Jacob A. Riis', 'Iris J. Stewart', 'Aperture', 'Tony Stewart', 'Steve Augarde', 'Christian Slade', 'Jess Mowry', 'Elisabeth Brink', 'Ken Kurson', 'Stephen Van Evera', 'Chuck Barris', 'Frans Lanting', 'Leigh W. Rutledge', 'Margaret Mitchell', 'Catherine E. Rymph', 'Madeleine R. Grumet', 'Clara E. Hill', 'Tee Morris', 'Zoe Sallis', 'William Simoni', 'Gervase Phinn', 'Al Kooper', 'Jennifer Felicia Abadi', 'David Norman', 'Jackie Hatfield', 'David Stancliffe', 'Paul L. Núñez', 'Hendrik Willem van Loon', 'Winona LaDuke', 'Kathleen Alcalá', 'Richard Russo', 'Elaine Z. Jennerich', 'Kate Greenaway', 'Morton J. Kern', 'Gerry Embleton', 'Jacques-Yves Cousteau', 'Michael S. Lief', 'John Grant', 'Paul Guyer', 'Wendy Rose', 'William C. Chittick', 'Allen Barra', 'Sue Gallehugh', 'Martha R. Taylor', 'Brett Beemyn', 'Lex Newman', 'Susan Whitfield', 'Debbie Danowski', 'Stacy Zemon', 'John Boorman', 'Benedetto Croce', 'Brian Leigh Molyneaux', 'Layne Cameron', 'Susan S. Fainstein', 'Brian Goetz', 'Greg     Jones', 'Frank Zappa', 'Benoît B. Mandelbrot', 'Dawna Walter', 'Allen H. Center', 'Chris Seay', 'Mary Manz Simon', 'Tim Tharp', 'John J. Thompson', 'Jean Little', 'Norbert Wolf', 'Alan Borushek', 'Gary Kinder', 'Ken Binmore', 'Robert J. Schreiter', 'Rosanne Liesveld', 'Amen Ness', 'Mary Murphy', 'Alice L. George', 'Naomi Rosenblum', 'Monta Briant', 'Scott Dikkers', 'Stuart J. Murphy', 'Paul  Harding', 'Dorothy Rubin', 'Diana Delmar', 'Harold Whetstone Johnston', 'John     Phillips', 'A. Bates', 'Hugo Williams', 'Ann Pearlman', \"Joseph F. O'Callaghan\", 'Carol Ottolenghi', 'George M. Marsden', 'Paul Jenkins', 'Johnny Long', 'Alyce Faye Cleese', 'Jenny Cockell', 'Caroline Pitcher', 'Jamie L. Yasko-Mangum', 'David M. Harland', 'Uzma Aslam Khan', 'Richard Gillett', 'Michael R. Pitts', 'Marion F. Solomon', 'Devery S. Anderson', 'Catherine Gilbert Murdock', 'Eddie Campbell', 'Mike Royston', 'W. Meissner', 'Lori Hobkirk', 'Christopher Clapham', 'Marie M. Clay', 'Ed Kugler', 'Norman M. Klein', 'George E. Hyde', 'Charles H. Brandes', 'Betty Fairchild', 'Margaret Bye Richie', 'Janey Bennett', 'Tina Jo Breindel', 'William Kilpatrick', 'Amy  Stewart', \"Stewart O'Nan\", 'Marcia K. Vaughan', 'Sandra Ingerman', 'Yin-Lien C. Chin', 'Fred Barwell', 'Rik Scarce', 'Michael Murphy', 'Jimmy McDonough', 'Dorothy Bloch', 'Knut Boeser', 'Lisa Garrigues', 'Mark Mills', 'Sally Tagholm', 'Henri Murger', 'Valentin Rasputin', 'Edward Thomas', 'Richard Whelan', 'Kaveh Farrokh', 'Jessica Ridley', 'Lisa Yoneyama', 'Ian Livingstone', 'Henry C. Lee', 'Biff Mithoefer', 'Elissa Meyrich', 'Steve Moidel', 'Mabel Iam', 'Rebecca St. James', 'Bruce Mitchell', 'M. Kat Anderson', 'Shari MacDonald', 'Russell Hart', 'Rona Jaffe', 'Fawn M. Brodie', 'Wayne W. Dyer', 'Ron Galella', 'Lois P. Frankel', 'Phyllis Trible', 'Walter Benjamin', 'Dawn P. Flanagan', \"Muhammad ibn Idris al-Shafi'i\", 'Chandra Manning', 'Lawrence Coates', 'Steve Martini', 'Ben Edward Akerley', 'Bill Crawford', 'Phyllis Granoff', 'Roch Carrier', 'Lesley Sims', 'Anne Whitfield', 'Iain Johnstone', 'Margarita Stocker', 'Jennifer Musselman', 'Arundhati Roy', 'James Huntington', 'Michael Talbot', 'Mab Segrest', 'Wallace Stegner', 'Nancy Auer Falk', 'Leslie Kane', 'Mark  Powell', 'Carol Owen', 'Julie D. Taylor', 'Mako Takahashi', 'Nikki Turner', 'Ann Richards', 'Courtney Febbroriello', 'Leslie Bricusse', 'Kim Wilson', 'Kai Hwang', 'Irene Zabytko', 'Patricia Bosworth', 'Spencer Johnson', 'Cindi Howson', 'Terence Dickinson', 'Reza Shah-Kazemi', 'Amy Hempel', 'Victor G. Kiernan', 'Leslie S. Rowland', 'Michael Brennan', 'J.H. Powell', 'Vyvyan Holland', 'Vance Moore', 'Maria Edgeworth', 'James Douglas Barron', 'Anne Finger', 'Gertrude Crampton', 'William Bradford', 'David McCullough', 'Dag Hammarskjöld', 'M. Tim Jones', 'James G. Williams', 'William G. Lycan', 'Karol Mysliwiec', 'Karen Angel', 'Ernest Nagel', 'Darrow L. Miller', 'Charles Selengut', 'Toni Boyle', 'Edward James', 'Günter Wallraff', 'Alison Baird', 'Lenore Terr', 'Sue Taylor', 'Essie Mae Washington-Williams', 'Dan Burstein', 'Hiromichi Yahara', 'Susanna Foo', 'Bob Barton', 'Tomas Graves', 'David Ignatius', 'Hayley Mitchell Haugen', 'Li Zhang', 'Dominique Jarrassé', 'David Browne', 'Joe Queenan', \"Jeanne D'Haem\", 'Gabriela F. Arredondo', 'R.L.V. Ffrench Blake', 'J.T. Petty', 'Jon B. Cooke', 'Sandra Beckwith', 'Bobette Perrone', 'Joni Eareckson Tada', 'Gina Frangello', 'Padraic Kenney', 'Marwan Bishara', 'Philipp Oswalt', 'Niki Burnham', 'Ricki Reeves', 'David Gould', 'Lesley Dormen', 'Mildred Walker', 'John R. Rowan', 'Peter Birch Sørensen', 'Sandra Hack Polaski', 'Boris Schlossberg', 'Ian Whybrow', 'Barbara Harvey', 'Peter Wicke', 'Rachael Freed', 'Marilyn Rockett', 'Eric Pete', 'James F. Dunnigan', 'Malcolm H. Levitt', 'Jimmy Hyams', 'Trudi Canavan', 'Raphael Lopez-Pedraza', 'Eleanor Duckworth', 'Bo Dahlbom', 'Allen S. Weiss', 'Steve Berry', 'Mickey Hart', 'Henry Bauchau', 'Roger Parker', 'Jim Burke', 'Karen Miller-Kovach', 'Janet Tamaro', 'John J. Donohue', 'Panera Bread', 'Charles Self', 'John K. Roth', 'Tiffany Ana López', 'Basil Davenport', 'Philipp Blom', 'Philip D. Curtin', 'Traci C. West', 'Bob Fenster', 'Adam Clymer', 'Alice Alfonsi', 'Mike    Evans', 'Albin J. Zak', 'Franz Borkenau', 'Lennart Berggren', 'Tamara Williams', 'Robert Farrar Capon', 'Will Davis', 'Norman Cohn', 'Alan J. Karcher', 'Mickey Flodin', 'Maude Barlow', 'Dan Farmer', 'Bridget Crowley', 'Elaine A. Rich', 'Carla Dijs', 'Tony    Brown', \"Scott O'Hara\", 'Ken Blue', 'Wendy Schlessel Harpham', 'Steve Gorenberg', 'Gary Friedrich', 'Diane Rossen Worthington', 'Jane Waller', 'Mackenzie McKade', 'Brenda Novak', 'Risa Wataya', 'Charles Craighead', 'Al Spicer', 'Roy M. Wallack', 'Eric S. Juhnke', 'Jan Palmer', 'Ruth Dean', 'David Fischer', 'Gordon E. Carlson', 'Stephen Rebello', 'Joseph T. Catalano', 'Dana May Casperson', 'Gerald R. Allen', 'Gervase R. Bushe', 'Alison Weaver', 'Peter Ludlow', 'Khalid Mughal', 'John           Wilson', 'Alexander M. Bickel', 'Jack Hamann', 'Clay Jacobsen', 'Timothy Lehmann', 'Charles  Firth', 'Dandi Daley Mackall', 'Edward Dmytryk', 'Paul Grilley', 'Paul S. Boyer', 'Steven E. Tozer', 'Rosemary Bailey', 'Marshall Green', 'Elizabeth Byrd', 'Burton Goldberg', 'Maurice Girodias', 'Cathleen Schine', 'Eleanor H. Porter', 'Vic Reeves', 'Jonathan D. Spence', 'Edward K. Rowell', 'George R. Stewart', 'Linda Gordon', 'David Cairns', 'Luis Barragán', 'Julia Forster', 'Tony Kern', 'Dale Peck', 'Elisa Gagnon', 'Colin McComb', 'Audre Lorde', 'Brenda L. Thomas', 'Garry Ryan', 'Rob   Johnson', 'Edward B. Westermann', 'Nancy Parent', 'Beatrice Schenk de Regniers', 'Jim  Thompson', 'Klaus Kaufmann', 'Richard Stevenson', 'Patrick F. McManus', 'Joseph E. Muscolino', 'Jamie Sams', 'Mikal Gilmore', 'Peter J. Bowler', 'Cynthia Dial', 'Gigi Amateau', 'Myron J. Aronoff', 'Max Lerner', 'Ian Farrington', 'Elise Title', 'Murdo MacDonald', 'Karen Viola', 'Jean Ross Ewing', 'Sayed Qutb', 'Marcia Willett', 'John F. Savage', 'Hugh William McKibbon', 'Carol Helstosky', 'Peter H. Salus', 'Peter Galassi', 'Laurie Polich', 'Ninian Smart', 'Rosemary Bray', 'Edward S. Reed', 'Peter London', 'Jack A. Sobon', 'Nancy Wolff', 'Beth Saulnier', 'Jean Marigny', 'Christian Peet', 'Sarah Appleton Aguiar', 'Christy Lijewski', 'Charles S. Prebish', 'Britney Spears', 'Naomi Baltuck', 'Erasmus', 'Ray Huang', 'Masayuki Takano', 'Cooking Light Magazine', 'Iamblichus of Chalcis', 'Louise Munro Foley', 'Shukri Abed', 'Bruce A. Hathaway', 'Nancy S. Hughes', 'Doris A. Graber', 'Steven   Schwartz', 'Miranda Jarrett', 'Bob Livingston', 'Hugh Rawson', 'Woody Guthrie', 'Sue Townsend', 'D.D.R. Owen', 'Kathy Reichs', 'Susan P. Cerasano', 'Richard Hughes', 'Scott Keith', 'Boris Johnson', 'Micheline Aharonian Marcom', 'Angela Royston', 'Neil G. Odenwald', 'Sports Illustrated', 'David Middleton', 'David Dary', 'Muneeza Shamsie', 'Brenda Brooks', 'M. Eugene Boring', 'Pegi Deitz Shea', 'Deforia Lane', 'Joseph Plumb Martin', 'Jerry Baker', 'Paul Rand', 'Robin   Robertson', 'Philip Etienne', 'Steve Kenson', 'Richard Fleming', 'David   Bowles', 'Ken Kawasumi', 'Robert C. Lamm', 'Christina Hopkinson', 'Barbara Bickmore', 'Francisco A. Rosales', 'Michelle McGriff', 'Mary Carolyn Waldrep', 'Donald D. Hensrud', 'Ann Bowen', 'Amy Crawford', 'Patrice M. Franko', 'Elizabeth M. Rees', 'Don Gillmor', 'Michael         Lewis', 'Stella  Benson', 'Malcolm Budd', 'Tim Hemlin', 'O.R. Melling', 'Samantha Dunn', 'Karen X. Tulchinsky', 'Mary Ann Watson', 'Gordon Andrew MacDonald', 'Elizabeth  Hickey', 'Johanna Drucker', 'Hilary J. Deighton', 'Sharon Soneff', 'Debbie Bible', 'David Rees', 'Fumiyo Kouno', 'Michael McDowell', 'Charles Gallenkamp', 'Therese Szymanski', 'Ami McKay', 'Doug Radcliffe', 'G.R. Hawting', 'Jude Currivan', 'Michael Bond', 'Cory Richardson-Lauve', 'David Farland', 'Steven Weinberg', 'Hong Seock Seo', 'Rhonda Pollero', 'Dixie Deerman', 'James Reidel', 'J.T. Garrett', 'Kathryn Kleinman', 'Gianni Guadalupi', 'Margery Beddow', 'Marie Hall Ets', 'Dan Kavanagh', 'Beth Hanson', 'Scott Holden-Jones', 'Ramzy Baroud', 'Candice Hern', 'Mary Kruger', 'Gerhard E. Lenski', 'Nabil Matar', 'Johnny Rogan', 'Diana St. Ruth', 'Valerie Coulman', 'Steve Vickery', 'Jin Xiong', 'Belle Yang', 'Martin Fallon', 'Thomas E. Griess', 'James Rauch', 'Judith Aron Rubin', 'Sylvia Maultash Warsh', 'Ludo De Witte', 'Lucy Coats', 'Michael Busselle', 'Karen Lebacqz', 'Margaret Rolfe', 'Regina Marler', 'David L. Fleitz', \"Lowe's\", 'Anna Livia', 'Sherene H. Razack', 'Georges Jean', 'Black Elk', 'Diana Shaw', 'Rachel Whiteread', 'Peter Goldenthal', 'Patricia Lynn Reilly', 'Harry Ritchie', \"Seng-ts'an\", 'Jay Jacobs', 'Rebecca Redwood French', 'Anna Jennet', 'Alfonso María de Liguori', 'Sherwood Smith', 'Edward Strickland', 'M.L. Dunham', 'Meredith Webber', 'Patricia West', 'Wandee Young', 'Mitch Albom', 'Bob Frissell', 'William Lashner', 'Anthony Shadid', 'Ralph Ramey', 'Donald D. Megill', 'Robert Barr Smith', 'Lindsay Gordon', 'Édouard Glissant', 'Angela McAllister', 'Pimsleur Language Programs', 'Saskia Noort', 'Mariah Fredericks', 'William Ivins Jr.', 'Jill Davis', 'Kristin Leutwyler', 'Benoit Daviron', 'Kathy Kiernan', 'Pat Shipman', 'Nicholas Blechman', 'Gene Combs', 'Richard Sorger', 'Marjorie Hewitt Suchocki', 'Robert H. Bates', 'Jeffrey Steingarten', 'John Lucht', 'Jackie George', 'Rachael Bareket', 'W. David Lewis', 'Bernard Knight', 'John D. Wright', 'Rhona J. Berenstein', 'Barbara Lee Smith', 'Edward T. Welch', 'Kim Kinrade', 'Laurence Shames', 'Marc Mucutcheon', 'Brian McNaught', 'Michael R. French', 'Sheila L. Croucher', 'Ad Reinhardt', 'Jerry Brown', 'Gertrudis Gómez de Avellaneda', 'Suzanne Van Atten', 'Vance Christie', 'Alice Savage', 'Alex Varughese', 'Anne Mather', 'Lewis B. Engel', 'John Gruber-Miller', 'John R. Gillis', 'Johan Pottier', 'John Thackara', 'Daniel Marcus', 'Marsha Diane Arnold', 'Hans Vaihinger', 'David Boyle', 'Melissa Forney', 'Mindy Aloff', 'David Wharry', 'Sonia Orin Lyris', 'Marfe Ferguson Delano', 'Lisi Harrison', 'Heidi Julavits', 'Philip Manfield', 'D.T. Suzuki', 'Steven D. Carter', 'Friedrich Glauser', 'Michael Mallory', 'Jose Wolfango Montes', 'Wheeler M. Thackston', 'Véronique Tadjo', 'Max Hollein', 'Kevin Kenney', 'Michael Downey', 'Jamie Langston Turner', 'William Poorvu', 'Ida Friederike Görres', 'Christopher Dickey', 'David S. Lifton', 'Lansana Gberie', 'John Rhett Thomas', 'Mark Spragg', 'Jeremiah Comey', 'Emily Post', 'Mario Puzo', 'Nigel Blundell', 'Ada Muir', 'Helie Lee', 'Peter E. Meltzer', 'Eric Cagle', 'Richard Strozzi-Heckler', 'Aberjhani', 'Maggie Estep', 'Peter Sís', 'Nick Walker', 'Patrick S. Bresnan', 'Elif Shafak', 'William Appleman Williams', 'Michele Kort', 'Gillian D. Brown', 'Reginald McKnight', 'Larry B. Silver', 'Antoine Wilson', 'Amy Erdman Farrell', \"Andrea U'Ren\", 'Molly Bang', 'Maria Housden', 'Norman Yoffee', 'Jacques Henry', 'Basil Davidson', 'Mary L. Kirchoff', 'Susan R. Barnum', 'Lauret Savoy', 'Robert Edgar Carter', 'Edward Yarnold', 'Lael Littke', 'Eric Gunnerson', 'Richard Florida', 'Richard Paul Russo', 'Caterpillar', 'J. Stewart Black', 'Joe Desris', 'Violet Blue', 'Dan O. Via', 'James Stephenson', 'F. Max Müller', 'Barbara E. Hort', 'Adam Mastoon', 'Kirk Curnutt', 'Aaron Allston', 'Daniel Paul Schreber', 'Rodney Matthews', 'Patricia G. Penny', 'Northrop Frye', 'J.R. Black', 'Peter M. Harman', 'Larry Hama', 'Paul C. Rosenblatt', 'Daniel Akst', 'Shundrawn Thomas', 'T. Lobsang Rampa', 'Ruth Soffer', 'Stacy Schiff', 'George Herriman', 'Marian Potter', 'Ed Hooks', 'Lawrence O. Richards', 'Shawn Talbott', 'Keith       Taylor', 'Martin C. Brown', 'Arthur Avalon', 'Frederick P. Hitz', 'Philip  Purser', 'Chad Bryant', 'Richard Beadle', 'Andy Behrens', 'Floyd Salas', 'Ralf Isau', 'Elizabeth Inchbald', 'Emily Fragos', 'Salim Yaqub', 'Suzan Colon', 'Yehuda Amichai', 'Colin Turner', 'Gary Small', 'Jana Harris', 'Roger Lancaster', 'Andrew Liddle', 'Louise Gordon', 'Jonathan Berent', 'Juliet Cohen', 'Myrick Land', 'John J. Kao', 'Patricia C. Wrede', 'Erich S. Gruen', 'James Dickey', 'Stewart Graff', 'Atul Kohli', 'Charles Portis', 'Louis J. Kern', 'Nancy Tye-Murray', 'Ralph W. Hauenstein', 'Bernadine Bibiano', 'John R. Taylor', 'Kevin Callan', 'K.E. Silva', 'Nigel Spivey', 'John T. Cullen', 'Devereaux D. Cannon Jr.', 'Katherine Chandler', 'Stevie Ray Vaughan', 'Nigel Wiseman', 'Terry Grosz', 'Bunny McBride', 'Leonard Compagno', 'Bruce Northam', 'Francis A. Carey', 'Matthew Yeomans', 'Benjamin C. Pierce', 'Carmen Gil Martinez', 'John Bosco', 'James Archambeault', 'Vejas Gabriel Liulevicius', 'Anthony Gary Brown', 'Suzanne Schlosberg', 'Dominique Mainon', 'John Gaventa', 'Chris L. Demarest', 'Pamela Allen', 'Carmen Lomas Garza', 'Michael J. Caduto', 'Francesca McCartney', 'John Cornwell', 'Dominic Lieven', 'Beth Whitman', 'Richard A. McPherson', 'Albert Howard', 'Sharyn Graham Davies', 'J. Michael Oakes', 'Mark Husbands', 'Ramón Pané', 'Pam Houston', 'Ann Louise Gittleman', 'Michael R. Ange', 'Matt Groening', 'Les Martin', 'Robert Beer', 'D.M. Armstrong', 'Angela Winters', 'Frederick Mosteller', 'Joel Watson', 'Irene Tomaszewski', 'George Andrew Reisner', 'Judith Kitchen', 'M.J. Rose', 'Dan Oja', 'Betty Hart', 'Emma Magenta', 'Jenny Maxwell', 'Mike Higgs', 'Paul  Hoffman', 'Gaydell M. Collier', 'E. Jean Carroll', 'Ann E. Burg', 'Franck Pavloff', 'Scott Thornbury', 'Tony Barnstone', 'Keith Thomas', 'Jason   Wilson', 'LIFE Magazine', 'Brooke Stevens', 'Michael Ennis', 'Theo LeSieg', 'Charlie A. Beckwith', 'Brom', 'Joseph E. Pizzorno', 'Kevin Ryerson', 'Arielle Ford', 'Donald Haase', 'Mike Huckabee', 'Roshumba Williams', 'Hal Draper', 'Cathryn Fox', 'Jane Mendelsohn', 'Richie Unterberger', 'Ilyasah Shabazz', 'Lester del Rey', 'Jennifer Klein', 'Stephen  Gill', 'Irving Greenberg', 'Judith Jango-Cohen', 'Lauren Thompson', 'David K. Lynch', 'Gregory Williams', 'Hugh Howard', 'G. Ronald Murphy', 'Lee Kingman', 'Robert J. McGovern', 'Andrew Robinson', 'Christina F. York', 'Price Pritchett', 'Amitav Ghosh', 'Angus Lindsay Wright', 'PricewaterhouseCoopers', 'John  Morrison', 'Paul Greenway', 'Alan Bullock', 'Ronald Stone', 'Karen Keast', 'Amanda Agee', 'Fiona Capp', 'Clemens P. Work', 'Pernilla Oljelund', 'Éilís Ní Dhuibhne', 'Liberty Savard', 'Michael Miller', 'Robert Corbet', 'Alexandra Styron', 'Samuel Johnson', 'Laurie Gunst', 'Margaret Way', 'William A. Johnson Jr.', 'Martin B. Dickinson', 'Bernard Most', 'JoAnn Milivojevic', 'Dana James', 'Manning Marable', 'Violet Findley', 'Holly Blue Hawkins', 'Bucksam Kong', 'Rosina Lippi-Green', 'Ephraim Radner', 'Charles Carlut', 'Joachim Jeremias', 'Loretta Ellsworth', 'JoAnne Olian', 'John Brendan Keane', 'Cooper Gillespie', 'Billy Wilder', 'Kelle Sparta', 'Roberto Innocenti', 'Peter Hulme', 'Clare Briggs', 'Zoe Whittall', 'William R. Burkett Jr.', 'Jonathon King', 'Yang Jwing-Ming', 'Shaw Barnes', 'Elizabeth Wright', 'Walther Eidlitz', 'Darlene Arden', 'Charles Ralph Boxer', 'Joanne Cantor', 'Annie Dillard', 'John W. Lehman', 'Sri Aurobindo', 'Rachel Henderson', 'David E. Carter', 'James W. Laine', 'Paul Starr', 'Graham Priest', 'Karon Phillips Goodman', 'Valerie Geller', 'Tim Wendel', 'Procopius', 'Service League of Natchitoches Inc.', 'Joel Lobenthal', 'Kate Muir', 'Bettye Griffin', 'Diane K. Shah', 'Jim Aylesworth', 'Sophocles', 'Ann Oakley', 'Richard Rutt', \"James O'Toole\", 'David L. Scott', 'John Uri Lloyd', 'Hulk Hogan', 'Jan Hunt', 'Mary C. Erler', 'Thomas Lucier', 'Jeannette Lofas', 'Longchen Rabjam', 'Keith Davitt', 'Valerie Parv', 'Robert Kurson', 'Marti Smith', 'Olivia St. Claire', 'Josh Groban', 'Robbie Morrison', 'Raymond H. Miller', 'Charles van Onselen', 'Elsie Doig Townsend', 'Ruth Westheimer', 'Ashley Antoinette', 'Sarah R. Labensky', 'Moses I. Finley', 'Perry D. Luckett', 'Maryanne M. Mowen', 'Jane Vejjajiva', 'Bruce A. Jacobs', 'Chris Gibbs', 'Joshua Clover', 'Lark Books', 'Maggie Marron', 'Richard M. Wunderli', 'Rosalind Kalb', 'Eoin McNamee', 'Ray Lampe', 'Angelus Silesius', 'Ron Carlson', 'Gil Bettman', 'Bill Dyszel', 'Mark Stengler', 'Frank Johnson', 'Susan Taylor Chehak', 'Nan Elizabeth Woodruff', 'Charles Reasoner', 'William Strauss', 'Linda Simon', 'Norman Lindsay', 'Alexander Fadeyev', 'Jean Barrett', 'Susan C. Schneider', 'Edward T. Dowling'] in column 0 during transform",
     "output_type": "error",
     "traceback": [
      "\u001b[1;31m---------------------------------------------------------------------------\u001b[0m",
      "\u001b[1;31mValueError\u001b[0m                                Traceback (most recent call last)",
      "Cell \u001b[1;32mIn[91], line 1\u001b[0m\n\u001b[1;32m----> 1\u001b[0m authors_trans_ohe \u001b[38;5;241m=\u001b[39m \u001b[43mauthors_ohe\u001b[49m\u001b[38;5;241;43m.\u001b[39;49m\u001b[43mtransform\u001b[49m\u001b[43m(\u001b[49m\u001b[43mauthors_df\u001b[49m\u001b[43m)\u001b[49m\u001b[38;5;241m.\u001b[39mtoarray()\n\u001b[0;32m      2\u001b[0m publisher_trans_ohe \u001b[38;5;241m=\u001b[39m publisher_ohe\u001b[38;5;241m.\u001b[39mtransform(publisher_df)\u001b[38;5;241m.\u001b[39mtoarray()\n",
      "File \u001b[1;32m~\\AppData\\Local\\Programs\\Python\\Python311\\Lib\\site-packages\\sklearn\\utils\\_set_output.py:142\u001b[0m, in \u001b[0;36m_wrap_method_output.<locals>.wrapped\u001b[1;34m(self, X, *args, **kwargs)\u001b[0m\n\u001b[0;32m    140\u001b[0m \u001b[38;5;129m@wraps\u001b[39m(f)\n\u001b[0;32m    141\u001b[0m \u001b[38;5;28;01mdef\u001b[39;00m \u001b[38;5;21mwrapped\u001b[39m(\u001b[38;5;28mself\u001b[39m, X, \u001b[38;5;241m*\u001b[39margs, \u001b[38;5;241m*\u001b[39m\u001b[38;5;241m*\u001b[39mkwargs):\n\u001b[1;32m--> 142\u001b[0m     data_to_wrap \u001b[38;5;241m=\u001b[39m \u001b[43mf\u001b[49m\u001b[43m(\u001b[49m\u001b[38;5;28;43mself\u001b[39;49m\u001b[43m,\u001b[49m\u001b[43m \u001b[49m\u001b[43mX\u001b[49m\u001b[43m,\u001b[49m\u001b[43m \u001b[49m\u001b[38;5;241;43m*\u001b[39;49m\u001b[43margs\u001b[49m\u001b[43m,\u001b[49m\u001b[43m \u001b[49m\u001b[38;5;241;43m*\u001b[39;49m\u001b[38;5;241;43m*\u001b[39;49m\u001b[43mkwargs\u001b[49m\u001b[43m)\u001b[49m\n\u001b[0;32m    143\u001b[0m     \u001b[38;5;28;01mif\u001b[39;00m \u001b[38;5;28misinstance\u001b[39m(data_to_wrap, \u001b[38;5;28mtuple\u001b[39m):\n\u001b[0;32m    144\u001b[0m         \u001b[38;5;66;03m# only wrap the first output for cross decomposition\u001b[39;00m\n\u001b[0;32m    145\u001b[0m         \u001b[38;5;28;01mreturn\u001b[39;00m (\n\u001b[0;32m    146\u001b[0m             _wrap_data_with_container(method, data_to_wrap[\u001b[38;5;241m0\u001b[39m], X, \u001b[38;5;28mself\u001b[39m),\n\u001b[0;32m    147\u001b[0m             \u001b[38;5;241m*\u001b[39mdata_to_wrap[\u001b[38;5;241m1\u001b[39m:],\n\u001b[0;32m    148\u001b[0m         )\n",
      "File \u001b[1;32m~\\AppData\\Local\\Programs\\Python\\Python311\\Lib\\site-packages\\sklearn\\preprocessing\\_encoders.py:877\u001b[0m, in \u001b[0;36mOneHotEncoder.transform\u001b[1;34m(self, X)\u001b[0m\n\u001b[0;32m    872\u001b[0m \u001b[38;5;66;03m# validation of X happens in _check_X called by _transform\u001b[39;00m\n\u001b[0;32m    873\u001b[0m warn_on_unknown \u001b[38;5;241m=\u001b[39m \u001b[38;5;28mself\u001b[39m\u001b[38;5;241m.\u001b[39mdrop \u001b[38;5;129;01mis\u001b[39;00m \u001b[38;5;129;01mnot\u001b[39;00m \u001b[38;5;28;01mNone\u001b[39;00m \u001b[38;5;129;01mand\u001b[39;00m \u001b[38;5;28mself\u001b[39m\u001b[38;5;241m.\u001b[39mhandle_unknown \u001b[38;5;129;01min\u001b[39;00m {\n\u001b[0;32m    874\u001b[0m     \u001b[38;5;124m\"\u001b[39m\u001b[38;5;124mignore\u001b[39m\u001b[38;5;124m\"\u001b[39m,\n\u001b[0;32m    875\u001b[0m     \u001b[38;5;124m\"\u001b[39m\u001b[38;5;124minfrequent_if_exist\u001b[39m\u001b[38;5;124m\"\u001b[39m,\n\u001b[0;32m    876\u001b[0m }\n\u001b[1;32m--> 877\u001b[0m X_int, X_mask \u001b[38;5;241m=\u001b[39m \u001b[38;5;28;43mself\u001b[39;49m\u001b[38;5;241;43m.\u001b[39;49m\u001b[43m_transform\u001b[49m\u001b[43m(\u001b[49m\n\u001b[0;32m    878\u001b[0m \u001b[43m    \u001b[49m\u001b[43mX\u001b[49m\u001b[43m,\u001b[49m\n\u001b[0;32m    879\u001b[0m \u001b[43m    \u001b[49m\u001b[43mhandle_unknown\u001b[49m\u001b[38;5;241;43m=\u001b[39;49m\u001b[38;5;28;43mself\u001b[39;49m\u001b[38;5;241;43m.\u001b[39;49m\u001b[43mhandle_unknown\u001b[49m\u001b[43m,\u001b[49m\n\u001b[0;32m    880\u001b[0m \u001b[43m    \u001b[49m\u001b[43mforce_all_finite\u001b[49m\u001b[38;5;241;43m=\u001b[39;49m\u001b[38;5;124;43m\"\u001b[39;49m\u001b[38;5;124;43mallow-nan\u001b[39;49m\u001b[38;5;124;43m\"\u001b[39;49m\u001b[43m,\u001b[49m\n\u001b[0;32m    881\u001b[0m \u001b[43m    \u001b[49m\u001b[43mwarn_on_unknown\u001b[49m\u001b[38;5;241;43m=\u001b[39;49m\u001b[43mwarn_on_unknown\u001b[49m\u001b[43m,\u001b[49m\n\u001b[0;32m    882\u001b[0m \u001b[43m\u001b[49m\u001b[43m)\u001b[49m\n\u001b[0;32m    883\u001b[0m \u001b[38;5;28mself\u001b[39m\u001b[38;5;241m.\u001b[39m_map_infrequent_categories(X_int, X_mask)\n\u001b[0;32m    885\u001b[0m n_samples, n_features \u001b[38;5;241m=\u001b[39m X_int\u001b[38;5;241m.\u001b[39mshape\n",
      "File \u001b[1;32m~\\AppData\\Local\\Programs\\Python\\Python311\\Lib\\site-packages\\sklearn\\preprocessing\\_encoders.py:174\u001b[0m, in \u001b[0;36m_BaseEncoder._transform\u001b[1;34m(self, X, handle_unknown, force_all_finite, warn_on_unknown)\u001b[0m\n\u001b[0;32m    169\u001b[0m \u001b[38;5;28;01mif\u001b[39;00m handle_unknown \u001b[38;5;241m==\u001b[39m \u001b[38;5;124m\"\u001b[39m\u001b[38;5;124merror\u001b[39m\u001b[38;5;124m\"\u001b[39m:\n\u001b[0;32m    170\u001b[0m     msg \u001b[38;5;241m=\u001b[39m (\n\u001b[0;32m    171\u001b[0m         \u001b[38;5;124m\"\u001b[39m\u001b[38;5;124mFound unknown categories \u001b[39m\u001b[38;5;132;01m{0}\u001b[39;00m\u001b[38;5;124m in column \u001b[39m\u001b[38;5;132;01m{1}\u001b[39;00m\u001b[38;5;124m\"\u001b[39m\n\u001b[0;32m    172\u001b[0m         \u001b[38;5;124m\"\u001b[39m\u001b[38;5;124m during transform\u001b[39m\u001b[38;5;124m\"\u001b[39m\u001b[38;5;241m.\u001b[39mformat(diff, i)\n\u001b[0;32m    173\u001b[0m     )\n\u001b[1;32m--> 174\u001b[0m     \u001b[38;5;28;01mraise\u001b[39;00m \u001b[38;5;167;01mValueError\u001b[39;00m(msg)\n\u001b[0;32m    175\u001b[0m \u001b[38;5;28;01melse\u001b[39;00m:\n\u001b[0;32m    176\u001b[0m     \u001b[38;5;28;01mif\u001b[39;00m warn_on_unknown:\n",
      "\u001b[1;31mValueError\u001b[0m: Found unknown categories ['Diana Wagman', 'Daniel Wojcik', 'Nancy Jay', 'Peter Godman', 'David Steinberg', 'Stephen Howarth', 'John Archibald Wheeler', 'D.W. Buffa', 'Arthur P. Ciaramicoli', 'Jill Werman Harris', 'Francisco Jiménez', 'Elizabeth David', \"Aaron Ben-Ze'ev\", 'Ted Jordan Meredith', 'Arvind Narrain', 'Brian Finch', 'Dorit Rabinyan', 'Eugenio Corti', 'Alan Ball', 'Anthony Seldon', 'Colin Prior', 'Michael D. Coogan', 'Paul Verlaine', 'Jack Huberman', 'Susanne Dunlap', 'Robert Sherrill', 'Mary McGarry', 'Michelle McGann', 'Bruce Schneier', 'The Bark', 'Phil Noble', 'Sarah Challis', 'Robert Cloud', 'Diana B. Henriques', 'Molly Katz', 'Cheryl A. Pientka', 'Jessica Redmond', 'Tom Lonsdale', 'Hamilton Deane', 'Timothy Findley', 'Ronald W. Ferrier', 'Joseph F. Schmidt', 'Rukshana Smith', 'John W. Campbell Jr.', 'Ulysses S. Grant Sharp Jr.', 'Louise Michele Newman', 'Margaret George', 'Branley', 'Suzanne Bell', 'T.W. Graham Solomons', 'Thomas P. Kasulis', 'Mark Addis', 'Andrew   Hill', 'Cathie Dunsford', 'Lily Prior', 'J.M. Upton-Ward', 'Chris McKinney', 'Elizabeth Borton de Treviño', 'Richard Bartlett', 'Laurien Berenson', 'John G. Gallaher', 'Taylor Harrison', 'James E. Harf', 'Gilad Elbom', 'Dwayne McDuffie', 'Susan Crosby', 'Thomas R. Peltier', 'Wann', 'Mario Gully', 'Daniel A. Hughes', 'Dianne   Martin', 'Stephen Mallatratt', 'Tommy Franks', 'Loren W. Christensen', 'Joel Fischer', 'Neil Connelly', 'Cindy Higham', 'William E. May', 'Leah Bendavid-Val', 'Hella Pick', 'Mary  Williams', 'Jeremy Schaap', 'Alison Hawthorne Deming', 'Suzanne Forster', 'Nick Bryant', 'Dana Carpender', 'Sebastian Gardner', 'Harold Jaffe', 'Stan Toler', 'Bert D. Yeager', 'Ilchi Lee', 'Vali Stone', 'Antoine Faivre', 'Tone Bringa', 'Douglas Brode', 'Joseph Smith Jr.', 'James Y. Bartlett', 'Brian D. Harper', 'Office of Government Commerce', 'Catherine Ellis', 'Jan Dodd', 'K.L. Cook', 'Thomas Paine', 'C. Anne Scott', 'Rosemary Betterton', 'Roger Conant', 'Eric Morris', 'Bede Rundle', 'Patricia Marr Cunningham', 'Delia Ray', 'Izumi Kawachi', 'Daniel Horch', 'Michael Rowan-Robinson', 'Jeff VanderMeer', 'Robert M. Miller', 'Henry Schwarz', 'Tony   Payne', 'Janet Greene', 'John A. Farrell', 'M.T. Ryan', 'Homa Pourasgari', 'Henry Mayer', 'Bernard MacLaverty', 'Penelope Farmer', 'David B. Coe', 'Joel Conarroe', 'Patrick McCormack', 'Robert Frenay', 'Horst Wein', 'Gloria Loughman', 'Lloyd G. Nigro', 'Gabriele Boiselle', 'Alanna Nash', 'Poul Anderson', 'Gary Soto', 'Eadweard Muybridge', 'Kara McMahon', 'Jaime Manrique', 'Michelle Kasey', 'Henry Han', 'Ana Castillo', 'Marcia L. Tate', 'Gloria Rand', 'Bill Plympton', 'Robert T.   Wood', 'Peter Szor', 'Wolfgang Bauer', 'Alison Goodman', 'Charlotte Boyett-Compo', 'Janet Benge', \"Jaida n'ha Sandra\", 'Wendy Bedwell-Wilson', 'Fred Feldman', 'Gerald Davis', 'Jennifer Uglow', 'Brian P. Levack', 'Peter Dickens', 'Horace McCoy', 'Gary Genosko', 'Hugh Finlay', 'Michael Rex', 'Brenda Cobb', 'David Graeber', 'Mordecai Siegal', 'Adrian Kelly', 'Kwame Nkrumah', 'Susanne K. Langer', 'Mark Adkin', 'Kristin Abraham', 'Leo Galland', 'Barbara B. Buchholz', 'James Allen', 'Patricia Kennealy-Morrison', 'Coleen Hubbard', 'Karin Chenoweth', 'Alfred A. Knopf Publishing Company', 'Edward Jaye', 'Erich Goode', 'Nitya Lacroix', 'R.N. Morris', 'Jared Diamond', 'David   Benjamin', 'Joey Sprague', 'Pamela Sheldon Johns', 'Alex Ross', 'Barry Buzan', 'Stephen E. Miller', 'Alexander Theroux', 'Yochanan Rywerant', 'Alice H. Amsden', 'John Cleland', 'Henry Chadwick', 'Hesiod', 'Carroll Stoner', 'Miguel de Unamuno', 'Jürgen Moltmann', \"James T. O'Connor\", 'Jack Ellis', 'Almudena Grandes', 'Fred Hagy', 'Deborah Cannon', 'Pam Conrad', 'Helen Hemphill', 'Baxter Black', 'Kathryn Kerby-Fulton', 'Derrick Sherwin', 'Tom Regan', 'Bev Katz Rosenbaum', 'Harold Elk Straubing', 'Mark Prothero', 'Nancy Parker', 'Allison Pearson', 'Harold A. Innis', 'Robert Wright Campbell', 'Charlotte Hogg', 'Linda Woodhead', 'Andrew Breitbart', 'Gönül Dönmez-Colin', 'William Arnold', 'Richard Balkwill', 'Bernard J. Paris', 'Stephen W. Kress', 'Dan Fesperman', 'Carla Jablonski', 'Elías Miguel Muñoz', 'Andrea Kane', 'Rosalie Greenberg', 'Ludwig Tieck', 'Jeffrey Maitland', 'Mary Todd Beam', 'Dave Zimmer', 'Bryan K. Garman', 'Sarah McKerrigan', 'Barbara McMahon', 'Paula Paul', 'Dakpo Tashi Namgyal', 'Vincent Ruggiero', 'Genie Davis', 'Kamal Boullata', 'Robert F. Berkhofer Jr.', 'Lewis Porter', 'John Bossy', 'Elizabeth Shove', 'John Kilaka', 'James Marshall Crotty', 'Devah Pager', 'Caroline Ingraham', 'Dennis Pardee', 'Michael Fleishman', 'David Underdown', 'Howard Sasportas', 'Greg Spotts', 'Raymond Murray', 'مالك بن نبي', 'Yoshimi Yoshiaki', 'Robert P. Libbon', 'Michael Brenner', 'Ira Levin', 'James F. Kurose', 'Neil A. Campbell', 'Aidan Kavanagh', 'Moll Anderson', 'Linda Jean Shepherd', 'Michael R. Beschloss', 'Karlyn Holman', 'Guillermo Arriaga', 'David Nirenberg', 'Cynthia Barnett', 'Eric Hammel', 'Karen Irving', 'Henriette Anne Klauser', 'J.A. Lawrence', 'Alex Shearer', 'Michael Pearl', 'Shanna Compton', 'John Paul Jackson', 'Emily Jenkins', 'David S. Foglesong', 'Bjørnstjerne Bjørnson', 'Richard Sauder', 'Jacobo Timerman', 'Romare Bearden', 'Elizabeth Whitley Roberson', 'Angelo Forte', 'Martin Noth', 'Cheri Kempf', 'Thomas A. Whiteman', 'Martin  Stephen', 'Jack Seabrook', 'Joe Domanick', 'Todd G. Buchholz', 'Kira Salak', 'John Thomson', 'Wallace Breem', 'Amy V. Jaffe', 'William Aspray', 'Jim Biolos', 'Ahmad Von Denffer', 'Ian Stevenson', 'Paul Quarrington', 'Rosalind P. Blakesley', 'Brace E. Barber', 'Dilys Parkinson', 'C. David Heymann', 'Lyn Haill', 'Michael S. Rose', 'Robert A. Neimeyer', 'Todd Dufresne', 'Nicolai M. Josuttis', 'Jane Patrick', 'Edward Kippel', 'Barbara Ulrich', 'British Automobile Association', 'Steven J. Matthiesen', 'Phyllis Shalant', 'Herb Galewitz', 'Deanna Beisser', 'Uta Grosenick', 'Bill Stanton', 'Graham Marsh', 'Robert Graves', 'Jeff Collins', 'Judith Sherman-Wolin', 'Stephanie Pierson', 'Vladimir Shlyakhov', 'Janet Abbate', 'Caralyn Buehner', 'James L. Jasinski', 'Stephen R. Swinburne', 'Madeleine Zelin', 'Ruth Tal', 'Marilyn Vos Savant', 'Nathan S. Collier', 'Roger Owen', 'John  Batchelor', 'Leslie Wainger', 'Peter Hounam', 'Gregory Maguire', 'Gordon Stein', 'David J.  Randall', 'Martijn F. Le Coultre', 'Maurice Wiles', 'Shanna Swendson', 'Lloyd Geering', 'Joel Kaye', 'Laura Lee', 'James Melvin Washington', 'Guy Chaussinand-Nogaret', 'Mary O. Eyles', 'Jim Lynch', 'Elizabeth Orton Jones', 'Christina Rossetti', 'Silvana Paternostro', 'Alberto Pérez-Gómez', 'Lucinda Landon', 'César Vidal', 'Martha Sonntag Bradley', 'Lewis Orde', 'Elizabeth Clare Prophet', 'Anne Tyler', 'Anna Meseure', 'Jonathan Evan Maslow', 'Patrick Johnstone', 'Winston Groom', 'Eliza Willard', 'Simon Mawer', 'Carl Bielefeldt', 'Judith S. Wallerstein', 'Christine Ferber', 'Deborah Silverton Rosenfelt', 'Dan Olweus', 'Bodleian Library', \"Angelique L'Amour\", 'Christopher Nyerges', 'Adalbert Stifter', 'Serhy Yekelchyk', 'James H. Madison', 'Christo', 'Paul  Stephenson', 'Elizabeth George', 'Timothy Baldwin', \"Matthew d'Ancona\", 'Emmy Van Deurzen', 'Abel Sanchez', 'John  McLeod', 'Christoph von Schmid', 'Jill M. Davies', 'Peter Hernon', 'Gipi', 'Scott Cooper', 'Christianne C. Jones', 'Tara Jon Manning', 'Barbara Maria Stafford', 'Marilyn Nissenson', 'David     Payne', 'Jon Stebbins', 'Bonaventure', 'Stanley G. Payne', 'Robert L. Hubbard Jr.', 'Fred J. Alsop_III', 'Kristen E. Kvam', 'Heidi Schaefer,  Charles Kaduson', 'Brenda Cullerton', 'Joseph A. Luxbacher', 'Jennifer Radden', 'Sharon Lovejoy', 'Richard Blackwell', 'Nicholas Yermakov', 'Vicki Howard', 'Guy Maddin', 'Farai Chideya', 'Richard Rojcewicz', 'Brenda Harlen', 'Raymond J. Healy', 'Sheri Whitefeather', 'Jonathan Kalb', 'Walter Ralston Martin', 'Mike Saenz', 'Sanjiv Harpavat', 'Gerald Morris', 'John Iliffe', 'Lillian Stewart Carl', 'Rosanne Bittner', 'Roberta E. Pearson', 'Lisa Rodensky', 'Willigis Jager', 'Judith Lennox', 'Kenneth L. Woodward', 'Charlie Savage', 'Stephanie Rick', 'Committee on the Prevention of Reading D', 'Nancie McDermott', 'Lisa Peschel', 'Richard Maltby Jr.', 'Karen Romano Young', 'Joris-Karl Huysmans', 'David Hawley', 'Barry Turner', 'László Krasznahorkai', 'James Broughton', 'Bonnie Wheeler', 'Paola Cavalieri', 'Laurie Lovejoy Hilliard', 'Duane Garrett', 'David Trottier', 'Gerry Parker', 'Herb Cohen', 'Compact Classics', 'Brian Tracy', 'John O. Whitney', 'Eric H. Cline', 'Bernadette Corporation', 'Marvin Dunn', 'Michael T. Foy', 'Paul Preston', 'Richard Shusterman', 'Kent J. Johnson', 'Dan Mathews', 'Joseph de Maistre', 'George Klein', 'Dave Duncan', 'Mavis Gallant', 'John W. Travis', 'Emily Brightwell', 'Tom Lacalamita', 'X.J. Kennedy', 'Joe Marconi', 'Perry Wood', 'Michael   White', 'Elizabeth Hill Boone', 'Carolyn Christov-Bakargiev', 'Rebecca Ingram Powell', 'Victoria Clayton', 'Tony  Hall', 'J.M. Neeson', 'William Emms', 'John Tennant', 'Randy Powell', 'Darren McGrady', 'Christopher Paul Curtis', 'The National Alliance For Youth Sports', 'Martin Arnold', 'Nick Begich', 'Angus Wilson', 'Richard Maxwell', 'Tama Janowitz', 'Linda Albi', 'Michele Martin Bossley', 'David    Cole', 'John Kretschmer', 'Idries Shah', 'Marianne Richmond', 'Lyle Wesley Dorsett', 'Susan Cheever', 'Wally Smith', 'James Kiley', 'Steven L. Layne', \"Sebastian O'Kelly\", 'Carl Schmitt', 'Edward Dwight', 'Jordi Puntí', 'Larry King', 'Trudy Harris', 'Marina Ma', 'Henry Louis Gates Jr.', 'Eng Tie Ang', 'Cassandra Chan', 'Norman Cigar', 'Velimir Khlebnikov', 'Fida Hassnain', 'Saundra D. Westervelt', 'Ester Boserup', 'Morgan Patterson', 'Bob Whitesel', 'Asa Hershoff', 'William C. Littlewood', 'Tony   White', 'John                Ross', 'Caroline Feller Bauer', 'Peggy Rathmann', 'Donita K. Paul', 'Shelly Kagan', 'Caitlin Flanagan', 'Mary-Elaine Jacobsen', 'Michael Gruber', 'Phillip M. Chancellor', 'C.V. Mosby Publishing Company', 'Gregory L. Murphy', 'James W. Carey', 'William H. Prescott', 'Lynn Bell', 'R.D. Wingfield', 'Rosie Dickins', 'Eric H.F. Law', 'Elaine Forrestal', 'Morgan Robertson', 'Dorothy Simpson', 'William S. Coperthwaite', 'Eugene N. Kozloff', 'Jeff Parker', 'Ruth Rendell', 'Carol Kuykendall', 'Donald Michael Kraig', 'Portia Da Costa', 'Monkeysuit Press', 'Ruth Forman', 'David A.  Gordon', 'Gwinevere Rain', 'Thomas Lux', 'Gail Dines', 'Michael J. A. Berry', 'Melvin A. Berger', 'Alan Bissett', 'Larry Hartsell', 'Sarah McConnell', 'Shmuley Boteach', 'Sándor Márai', 'Wendy   Williams', 'Miriam Grace Monfredo', 'Lawrence Norfolk', 'William Littlewood', 'Fiona Zedde', 'Julia Bell', 'Rosemary Radford Ruether', 'Bradley Quinn', 'Alexander Vasiliev', 'Sophie Cabot Black', 'Peter Darvill-Evans', 'Alice Waters', 'Bill Pierce', 'Taner Akçam', 'Gary A. Haugen', 'Stephen F. Porcella', 'Conrad Fischer', 'Philis Boultinghouse', 'Michel Gobat', 'Lindsay Clarke', 'Anna Tambour', 'Edward McCrorie', 'Carter Lindberg', 'Hank Searls', 'Martin Von Cochem', 'Alexandra Weinbaum', 'Jeff Burbank', 'James Merrill', 'Simon Kuper', 'Craig R. Dykstra', 'Tracy Chevalier', 'Laura Wiess', 'Camille Yarbrough', 'Chandra Prasad', 'J.P.   McEvoy', 'Mia Posada', 'David A.  Thomas', 'Alice Pope', 'Juan Flores', 'Terry Waite', 'Carol Severence', 'Rachel Flynn', 'Ken Fones-Wolf', 'Mark Brend', 'Annie Hawes', 'David Ray Griffin', 'Don Sanders', 'Jessica Abel', 'Nicole Byrd', 'Charles I. Jones', 'Hugo de Burgh', 'Frances Spalding', 'Kerry Cox', 'Victoria Miles', 'John   Robb', 'Christine Brennan', 'Sandra M. Schneiders', 'Ron Morrish', 'Yee-Fan Sun', 'Twig C. George', 'Jennifer Knapp', 'Bill Richardson', 'Abraham Isaac Kook', 'John Styers', 'Arthur Geisert', 'Andy Orchard', 'Mark S. Weiner', 'Jamie Kalven', 'David Oates', 'Guy Cook', 'Stephen H. Webb', 'Lawrence A. Kane', 'Imelda Whelehan', 'Emily   White', 'Alfred J. Kolatch', 'Debra Ann Cantrell', 'Maurice Lamm', 'Francisco de Goya', 'Tiffany Trent', 'Leon Uris', 'James McConkey', 'Margot Badran', 'Stephen    Bates', 'Reiko Shimizu', 'James Edward Peters', 'George Lipsitz', 'Alan P. Trujillo', 'Anthony Freeman', 'Graeme Davis', 'Louise Gill', 'Claire Baxter', 'Brandon Mull', 'Michelle de Kretser', 'Carl Sewell', 'Terry Devane', 'Shulamit Shahar', 'Marc Falkoff', 'Liz Osborne', 'Mark        Wilson', 'Laurence Holt', 'Helen Joseph-Armstrong', 'Jacqueline Rogers', 'Edie Claire', 'Jay Patrick Green Sr.', 'Charles McCarry', 'Teri Seidman', 'Jacques Offenbach', 'Gale E. Christianson', 'W. Mary Shelley', 'Sheila J. Curran', 'Liberace', 'Mariana Cook', 'Mindy Warshaw Skolsky', 'Bill Gross', 'Joseph Weisberg', 'Pierre Corneille', 'Kathleen Stein', 'Jeffrey Thompson Schnapp', 'Herodotus', 'Chuck Martin', 'Louise M. Wisechild', 'Susan Nagel', 'Da Liu', 'Michel Rosenfeld', 'Ricky W. Griffin', 'Robert Hirschfeld', 'Richard Wiley', 'Linda Lay Shuler', 'Mardi Ballou', 'Lee K. Abbott', 'Richard Bayan', 'Lisa Rowe Fraustino', 'Debby Giusti', 'Frei Otto', 'Joyce V. Coakley', 'Carolyn Crowder', 'Sara Sviri', 'Erik Olin Wright', 'Casey Daniels', 'Ian P. Watt', 'Jane M. Ussher', 'Darlene Zimmerman', 'Æleen Frisch', 'Hermann Löns', 'Barbara Burnett Smith', 'Eva C. Keuls', 'Lee M. Silver', 'John J. Ratey', 'Betty Layman Receveur', 'Aqua Mizuto', 'Heather Adamson', 'Pablo Ortiz Monasterio', 'Teresa McClain-Watson', 'Barbara Kingsolver', 'Maria Laurino', 'Sally Wentworth', 'Lois Schwartz', 'C.B. Cebulski', 'William Sears', 'Bob Barnes', 'Teresa S. Stover', 'Russell Langley', \"Maarten 't Hart\", 'Jacquelyn Dowd Hall', 'Rick DeMarinis', 'Robert Bartlett', 'Jamie Martinez Wood', 'John P. Plummer', 'John Hope Franklin', 'Neil Cartlidge', 'Michael DiMercurio', 'Steven Kroll', 'David Cian', 'Philippe Garner', 'Charles Harvey Miley', 'Rosa Guy', 'Richard A. Knaak', 'Judith Tarr', 'John W. Eaton', 'Richard Cantillon', 'Canon Benedict', 'Michael H. Ross', 'Katie Meier', 'Katie Estill', 'Will Fowler', 'Colin Powell', 'Jonathan Goldberg', 'Richard Gilly Nixon', 'Judith Palmer Harik', 'Robert Carleton Hobbs', 'David Baddiel', 'Sharon D. Welch', 'Janet Halley', 'Susan Stinson', 'Margot Anne Kelley', 'Signe J. Plunkett', 'Suzanne Capek Tingley', 'Michael Loewe', 'Sister Moon', 'John Gay', 'Leslie Schnur', 'Joy Cowley', 'Slavoj Žižek', 'Ric Flair', 'Joann Wypijewski', 'Cynthia M. Stowe', 'Barbara Burkhardt', 'University of New Mexico Diabetes Care G', 'Haydn Middleton', 'Jean Webster', 'T. Edward Damer', 'Jonathan Knudsen', 'F.F. Bruce', 'Bill Strickland', 'Asghar Ali Engineer', 'Christopher  Rice', \"Maureen O'Hara\", 'Lawrence Naumoff', 'Brenda Tharp', 'Gilda Carle', 'Nancy Lindquist', 'Ed Culberson', 'Nancy Moser', 'Karen Farmer', 'Saul Zadka', 'Peter Viereck', 'Polly Athan', 'General Headquarters of the Irish Republican Army', 'Charles Van Over', 'David Norbrook', 'Tamara Adlin', 'Greg Malouf', 'Mick Fish', 'Eli Jaxon-Bear', 'Gerry Shishin Wick', 'Edgar Schneider', 'Philippe Descola', 'Lillian Morrison', 'Jimmy A. Lerner', 'Mary Williams', 'Dorothy Koomson', 'Myra Nour', 'Lynn S. Hightower', 'James Tiptree Jr.', 'Monte Burch', 'Dominic Strinati', 'Neil Leach', 'Alexander von Humboldt', 'Marilyn Perlyn', 'Gary Blake', 'Simon Trezise', 'Jerry Piasecki', 'Donald Richie', 'Clinton Walker', 'Beate Wedekind', 'Joseph Laurence Black', 'Rodger Kamenetz', 'Richard N. Frye', 'Delarivier Manley', 'Henry I. Miller', 'Charles Phillips', 'Erskine Caldwell', 'Stephen M. Rowland', 'Edward Lavin', 'Michael S. Dobson', 'Eva-Lena Rehnmark', 'Diane Dorrans Saeks', 'Hilary Putnam', 'Marie-Anne Dupuy-Vachey', 'Jim Ottaviani', 'Janet Campbell', 'Jiawei Han', 'Anne Dimock', 'Glen Cadigan', 'Glendon Swarthout', 'Robert Irwin', 'Joe    Jackson', 'Batem', 'Michael Blake', 'William C. Placher', 'Marlon Brando', 'Kent Conwell', 'Jan Greenberg', 'Geoffrey Sayre-McCord', 'William M. Boothby', 'Earl Proulx', \"Stephen J. O'Brien\", 'Henry Hazlitt', 'Jane  Porter', 'Sandra L. Pinkney', 'Sten Nadolny', 'Gary R. Habermas', 'Richard Hudelson', 'Sheryl James', 'Mohammed M. Hafez', 'Eric  Swanson', 'Alvaro Vargas Llosa', 'Jane Shapiro', 'Alan Murphy', 'Jean M. Brown', 'Patrick Griffiths', 'Patrick Sookhdeo', 'Alison Cragin Herzig', 'Elisa Ferri', 'John Armistead', 'Elizabeth S. Grobsmith', 'Tim J. Cornell', 'Teresa Medeiros', 'Jean de La Fontaine', 'Kathleen M. Hollenbeck', 'Jody Lynn Nye', 'John R. Percy', 'Leonard E. Foote', 'Hunter Morgan', 'Maryana Vollstedt', 'Reinhardt Hess', 'Margaret Cooper', 'Catherine M.S. Alexander', 'Mike Stocks', 'Gene Logsdon', 'Peter  Adam', 'Katherine V. Forrest', 'Elinor Burkett', 'Alessandro Barbucci', 'Pony Boy Gawani', 'Rebecca Rutledge', 'Janet Moursund', 'K.C. Constantine', 'Richard Dansky', 'Stanley I. Greenspan', 'Normandi Ellis', 'Agustín Fernández Paz', 'Mark Bittman', 'Roland Owen Laird Jr.', 'Keith Robbins', 'Elliott West', 'Bob Bolling', 'Charlene Lichtenstein', 'Ann Hayes', 'José Martí', 'Patricia A. Deuster', 'Robert J. Barro', 'Chris Crawford', 'Stephen D. Krashen', 'Hyler Bracey', 'Fran McCullough', 'William Edwin Dyess', 'Valerie  Watson', 'James Conrad', 'Naomi Novik', 'William K. Mahony', 'Jon Wiener', 'Paul Talbot', 'Ilona Lackova', 'Kristin Butcher', 'Janet Morgan', 'Dave Roever', 'Rodney Jones', 'Ellen Wilson', 'Michael Rips', 'Judith Levin', 'Douglas Adams', 'David Goodstein', 'Hugh Vernon-Jackson', 'Veda Boyd Jones', 'J. Robert Janes', 'Ethel L. Herr', 'Rob Ives', 'Paulina F. Kernberg', 'Vladimir Bogdanov', 'Dennis     Jones', 'Larry Baker', 'Giles Gunn', 'Conrad Anker', 'Linda S. Budd', 'John Schwandt', 'Richard Gwyn', 'Layn Marlow', 'April Smith', 'Susan Fletcher', 'Israel Finkelstein', 'David Greco', 'Maria Hsia Chang', 'Thomas Moylan', 'Peter van der Veer', 'Cecilia Podolak', 'Ignacio Padilla', 'Donna Dale Carnegie', 'Craig   Duncan', 'David Lazer', 'Brad    Watson', 'Ellen Dissanayake', 'Ed Stark', 'Holger H. Herwig', 'Helen Cooper', 'Richard D. Sagor', 'Lucinda Hutson', 'J. California Cooper', 'M.J.  Smith', 'Janet Whittle', 'Gloria Degaetano', 'Marvin R. Shanken', 'Julie Mertus', 'Shirley Marks', 'Laurence Kardish', 'Greg Cashman', 'Rand Richards', 'Charis Wilson', 'Gary Schroen', 'Bill Harris', 'Frank Musgrave', 'Paget Henry', 'Jessica McClintock', 'Michael Macfarlane', 'A.I. Kapandji', 'Thomas Nelson Page', 'William Woys Weaver', 'Mattie J.T. Stepanek', 'Takako Arai', 'Genichiro Yagyu', 'Anne Delbée', 'William J. LeVeque', 'Eric  Klein', 'Andrew Watt', 'Tony Northrup', 'Tim Mackintosh-Smith', 'Kunal Basu', 'Jonis Agee', 'John Bagot Glubb غلوب باشا', 'Peter Russell', 'Ray Davies', 'Anthony Weston', 'Anthony Bidulka', 'Stephanie E. Yuhl', 'Noah Webster', 'Hesham A. Hassaballa', 'H. Byron Earhart', 'Donald R. Hettinga', 'Samuel K. Cohn Jr.', 'Beth Gurney', 'Jenna McKnight', 'RUPERT WOLFE-MURRAY', 'The New York Times', 'Kristi Collier', 'Jocelyn Linnekin', 'Johanna Thiel', 'Jaap van Ginneken', 'Jay Leno', 'Timon Screech', 'Mark Kingwell', 'Thich Nhat Hanh', 'James T. Farrell', 'David Falkner', 'Dennis Gersten', 'Melissa Mayhue', 'Karen Putman', 'François Icher', 'Karen Leabo', 'Marybeth Hamilton', 'Anita Desai', 'Beverly Daniel Tatum', 'Paul Hodkinson', 'Dawn Daniels', 'Daniel Grotta', 'Constance M. Foland', 'J. Nozipo Maraire', 'Roger Vergé', 'Vivi Anna', 'Peter Catalanotto', 'Chögyam Trungpa', 'Joyce Pope', 'Robin Hahnel', 'Ian Gittins', 'John R. Lee', 'Bob Parks', 'Alfred Bester', 'Al Saadiq Banks', 'Janet Shibley Hyde', 'Wright Morris', 'Jennifer St. Giles', 'Ursula Hegi', 'Karen L. King', 'A.A. Milne', 'Susan Fawcett', 'Carolyn Strom Collins', 'Michael Halperin', 'Peter         Kerr', 'Richard Williams', 'Bastiaan M. Drees', 'John Mack Faragher', 'Brian Patrick Mitchell', 'Nina Alexander', 'Chris Fabry', 'Roger Lancelyn Green', 'Jon Winokur', 'Michael Dawson', 'Piers Dudgeon', 'W.A. Mathieu', 'J.B.B. Winner', 'María Elena Lucas', 'Stella Bagwell', \"Joe O'Neil\", 'Stephen P. Halbrook', 'Nicole Savy', 'Robin U. Russin', 'Sue Fox', 'Shannon Hale', 'Tom Markert', 'John McCabe', 'Robert               Anderson', 'Robin Pascoe', 'Karl Shaw', 'James L. Resseguie', 'Joy Davidson', 'Charles L. Schultze', \"Laurence J. O'Toole Jr.\", 'Camilo Cruz', 'Paul Féval père', 'C. Archer', 'Elaine Heumann Gurian', 'Thomas Carper', 'Norrie Epstein', 'John Bugliosi', 'Lesley Thomas', 'Christine Farenhorst', 'Linda Motzkin', 'David Hunter', 'Deni Ellis Béchard', 'Rollene Saal', 'Barbara Levick', 'Mark L. Bradley', 'Linda J. Dorn', 'Mark S. Kinzer', 'Katherine Salant', 'Eric Schiller', 'Michael   Bender', 'Mary Sharp', 'Robin Hemley', 'Donald N. Sull', 'George D. Kuh', 'Kathleen Kunz', 'Janet Tashjian', 'Bill Grossman', 'Leonardo Maugeri', 'Marc J. Roberts', 'William A. McGarey', 'Alia Mamdouh', 'Richard F. Newcomb', 'Anna Rountree', 'Robert Michael \"Bobb\" Cotter', 'Robert D. Johnston', 'André Breton', 'Nigella Lawson', 'Lawrence Goldstone', 'William Quan Judge', 'Susan Eisenberg', 'Cyril Charles Richardson', 'Virginia M. Fields', 'Michael McCarthy', \"Thomas O'Neil\", 'Andrew Pyper', 'Fletcher Hanks', 'Stuart J. Levy', 'Julia A. Clancy-Smith', 'Len Wein', 'Linda McCartney', 'Ilana Simon', 'Jack Smart', 'Jack Miles', 'Jeannie Morris', 'Hugh Karseras', 'Jane Leavy', 'Bradley Trevor Greive', 'Renate Zahar', 'Angelika Taschen', 'Fiona Dunbar', 'Fabrice Colin', 'David M. Kennedy', 'Tom Ginsburg', 'Leo Gough', 'Giovanna Borradori', 'Terry  Jones', 'Barbara Sykes', 'Christian Teubner', 'Jonah Winter', 'Lila Prap', 'David Chart', 'Roberts Liardon', 'Rob Krier', 'Tad Wise', 'Karen Hayward', 'Victoria Presley', 'Larry Collins', 'Patricia Raybon', 'Plum Sykes', 'David H. Richter', 'John Killen', 'Michael Lowenthal', 'Beth Fischi', 'Deborah Levine Herman', 'Hamdy A. Taha', 'Betsy Reed', 'Charline R. McCord', 'Ronni Lundy', 'Philip Hesketh', 'Michael J. Gelb', 'Paul Blanchard', 'Peter Dale Scott', 'Mem Fox', 'Fabienne Verdier', 'Omar S. Castañeda', 'Martha Sherrill', 'Lewis Call', 'Eric Affabee', 'Fred Bodsworth', 'Jasper Fforde', 'Liz Anderson', 'Roger Highfield', 'Dolores Cannon', 'Charles  Dunn', 'Frederick Charles Copleston', 'Michael Rosen', 'Alison Ritchie', 'Frank Brennan', 'Judith    Katz', 'Diane Eichenbaum', 'Victoria Hislop', 'Geronimo Trevino, III', 'Jeanie Trusty Stiles', 'John W. Creswell', 'Kazura Matsumoto', 'Ingrid Banks', 'Aśvaghoṣa', 'Peter Barham', 'Emelie Tolley', 'Shelby Steele', 'Lynne Segal', 'Alan C. Ziegler', 'Harry Lampert', 'Jack   Davis', 'John Mighton', 'Mo Rocca', 'Efraín Kristal', 'Anselm Grün', 'Randall Packer', 'Godfrey Hodgson', 'C.C. Brondwin', 'Marilyn  Chase', 'Shane Stanford', 'Leslie Yerkes', 'Lucien Febvre', 'Jeff Lucas', 'Gloria Velásquez', 'Patrick Sweeny', 'Edgar Stoesz', 'John Mandeville', 'Parker K. Sawyer', 'Ivan Velez Jr.', 'Richard Johnsonbaugh', 'Alan Rabinowitz', 'Kazuo Ishiguro', 'Kathleen Peirce', 'Arthur R. Tenner', 'Kathleen Long Bostrom', 'Chris Crouch', 'José Luis González-Balado', 'René Girard', 'Jimmy Roberts', 'James S. Trefil', 'Mark A. Gabriel', 'Alexandra Day', 'Pamela Bauer', 'Sue Baier', 'Brian Doherty', 'Leor Halevi', 'Maxine Paetro', 'Matthew Eck', 'Margaret Braun', 'R. Lyman Ott', 'Elliott D. Sclar', 'James Robert Baker', 'John A. Endler', 'Angela Knight', 'Sharon Butala', 'Dennis Sanders', 'Olivier Said', 'Oliver D. Crisp', 'Heather Arnel Paulsen', 'Victoria Nixon', 'Elizabeth Inness-Brown', 'Lynn Sherr', 'Robert M. Parker Jr.', 'Keimpe Algra', 'Jonathan J.G. Alexander', 'Philip Baruth', 'Charles Ryskamp', 'Régine Pernoud', 'Katherine Cramer Walsh', 'Peter Cox', 'Evelyn Eaton', 'L. Bob Rovetch', 'Lou Dobbs', 'Clifford Winston', 'Paul Douglas', 'Sharon Gillenwater', 'David A. Horowitz', 'Cynthia Heimel', 'Yuki Tanaka', 'J. Eric Miller', 'Gwendolyn Bounds', 'Mark Tully', 'Christopher D. Kolenda', 'Frank Close', 'Gerald Martinez', 'Sun Bin', 'Sunil Vijayakar', 'Allan Ahlberg', 'Pat Riley', 'Rosemary Wagner', 'Jill Dawson', 'Pat Kane', 'David  Roberts', 'Julia Indichova', 'Nora Ellen Groce', 'Simon Mitton', 'Fairview Press', 'Candace Gingrich', 'Edmund Husserl', 'Tina Leonard', 'Todd Tremlin', 'J.E. Alvarez', 'Darrell M. West', 'Leigh Ann Tyson', 'Kathleen Creighton', 'Glenn Harvey', 'C. Herbert Gilliland', 'Mark F. Moran', 'Patricia Santos Marcantonio', 'Elaine K. McEwan', 'Pillsbury', 'Miriam Ching Yoon Louie', 'Dermot Moran', 'Stephen Coonts', 'W. Barksdale Maynard', 'Jim Jinkins', 'Joseph Ki-Zerbo', 'Leonard A. Smith', 'Judy Lowe', 'Kevin Belmonte', 'Robert W. Bly', 'David Blayney Brown', 'Claudio Freidzon', 'Richard R. Day', 'Karen Ritz', 'Unica Zürn', 'Danny Fingeroth', 'Nancy Stafford', 'Lorine Niedecker', 'Elaine Marks', 'Adrian R. Lewis', 'Ronaldo Lidorio', 'Deborah Wiles', 'Don Geary', 'Tom   Savage', 'Achim Eckert', 'Ron Snell', 'Graham Harding', 'Sandra Cabot', 'Paul S Williams', 'Colin Angus', 'J.D. Wetterling', 'Nicholas Humphrey', 'Axel Scheffler', 'Emily Prager', 'Antonio Tello', 'Jeannine Davis-Kimball', 'Stanisław Przybyszewski', 'Joanne McMahon', 'Homer W. Sykes', 'Eberhard Arnold', 'John Silvester', 'Gottlob Herbert Bidermann', 'Uri Bar-Joseph', 'Claire Zimmerman', 'Judith G. Coffin', 'Diane  Farr', 'Derek Van Loan', 'Mary Swander', 'Fredric Brandt', 'Karl T. Ulrich', 'Christopher Pick', 'Douglas Hensley', 'Gene A. Brucker', 'Dino Compagni', 'Gustaw Herling-Grudziński', 'Rita Ariyoshi', 'Henriette Walter', 'Sandor Nagyszalanczy', 'Matthew Naythons', 'Beverly Mack', 'June Calvin', 'Susan C. JARRATT', 'Jason Blume', 'Aran Ashe', 'Joseph von Eichendorff', 'Zakaria Erzinçlioğlu', 'Peter  May', 'Kathleen Bryan', 'Zenji Keido Chisan Koho', 'Soheir Khashoggi', 'Jerome E. Kaufmann', 'Robert M. Seltzer', 'George Sessions', 'Troy Howell', 'Valerie Shaff', 'Rebecca Chalker', 'Erik Jendresen', 'Tracy K. Smith', 'Arnold Robbins', 'Stanisław Barańczak', 'Douglas N. Graham', 'Elizabeth Smith', 'Michelle Newman', 'Betty Judge', 'Shirley Halperin', 'Steve  Graham', 'H.E. Marshall', 'Geraldene Holt', 'Robin Rose', 'Jesse Dukeminier', 'Judith A. Lansdowne', 'Richard Wormser', 'Charles Seabrook', 'Phillip L. Berman', 'Julian Havil', 'Molly Coxe', 'David Z. Albert', 'William Willoya', 'Mary Frohlich', 'Tom Hayden', 'Bonnie Bishop', 'Jane Worth Abbott', 'Geoffrey W. Conrad', 'Michaela Morgan', 'Swami Kriyananda', 'Chuck Austen', 'Robert Alden Rubin', 'J. Michael Steele', 'Cheryl Clarke', 'Pat Guthrie', 'Herbie Brennan', 'Jérémie Kaminka', 'Ken Dancyger', 'Deidi von Schaewen', 'Jae-On Kim', 'Geoffrey Hughes', 'Elizabeth Enright', 'Linda Hodges', 'Fiona Carmichael', 'Catherine Galasso-Vigorito', 'Philip V. Bohlman', 'Linde Salber', 'Larissa Iermilova', 'David Ferguson', 'Jerome Pohlen', 'William Rothman', 'Fred E. Katz', 'Albert O. Hirschman', 'Susan Sherman', 'Madeleine B. Stern', 'Vivian Gussin Paley', 'Josef Von Sternberg', 'Norman F. Cantor', 'Kristen Britain', 'Maryln Schwartz', 'A.E. Parker', 'J. Jonathan Gabay', 'James Baldwin', 'Thomas C. Brickhouse', 'Dorothy Ko', 'Tyler Cowen', 'Charles Ives', 'Leland Graham', 'Anthony C. Winkler', 'Hendrikus Berkhof', 'Chris Weedon', 'C.S. Goto', 'Thomas P. Kelley', 'Threads', 'Al Goldstein', 'Ann Rinaldi', 'Lyle Shamo', 'Paul Lacinski', 'Masha Gessen', 'ReShonda Tate Billingsley', 'Lu Ann Homza', 'Geraldine Flanagan', 'Jesse Liberty', 'Violette Smith', 'Jeffrey A. Kottler', 'Susana Chavez-Silverman', 'Leonard Saffir', 'Joan N. Berzoff', 'M. William Phelps', 'Delta Willis', 'Frances Ward Weller', 'Kate Cohen-Posey', 'Philip Kaplan', 'Jose Lorenzo-Fuentes', 'Pedro De Alcantara', 'James Warhola', 'Lisa Hiley', 'John Stauber', 'Tom Vanderbilt', 'Yves Navarre', 'Charnan Simon', 'William S. Baring-Gould', 'David Frawley', 'Melissa L. Rossi', 'Caroline Myss', 'Steven A. Safren', 'Andrew Hodges', 'David     Bell', 'Jacklyn Blake Clayton', 'Georg Friedrich Händel', 'Kiran Bedi', 'Phyllis Rackin', 'Charles A. Kupchan', 'Michael Hittman', 'Jim Christley', 'John A. Burke', 'Alfred Jarry', 'Gary Lachman', 'Michael Schiefelbein', 'Kay Arthur', 'David A.T. Stafford', 'Michael F. Opitz', 'Steve Gross', 'David Vose', 'Kiran Srinivas', 'Derek W. Urwin', 'John J. Davenport', 'Elizabeth  Jewell', 'Carolyn Wells', 'Guy R. Lefrancois', 'Marek Musiela', 'John Putzier', 'Bruce Grierson', 'Livia J. Washburn', 'V. Kasturi Rangan', 'Benjamin J. Broome', 'I. H-Shihan', 'Claire Thompson', 'Elizabeth DeVita-Raeburn', 'Gary D. Badcock', 'Gary Legwold', 'José Saramago', 'Rosemary Dinnage', 'Sam Lipsyte', 'Peter van Dijk', 'Judy Grahn', 'Harry McNaught', 'Gregory McDonald', 'Wynne-Davies', 'Steven Barboza', 'Deborah Ousley Kadair', 'Patrick  Taylor', 'Robert Gottlieb', 'Tom Butler-Bowdon', 'Ruediger Dahlke', 'Jack Bartlett Rogers', 'John Beckett', 'Robert Crawford', 'H.A. Dorfman', 'Anthony B. Pinn', 'John C. Pope', 'Leslie Mackie', 'Joyce Carol Thomas', 'Keith J. Laidler', 'Kay Chorao', 'Anthony Bianco', 'Ivan Van Sertima', 'Zamir Iqbal', 'Michael A.  Ross', 'Jason Louv', 'Peter Ames Carlin', 'Ernest B. Furgurson', 'Henry S. Cohn', 'Pamela Lowell', 'Kristin Hunter Lattany', 'Colleen Howe', 'Noliwe M. Rooks', 'Robert Hemfelt', 'William Lubbeck', 'Kim Vogel Sawyer', 'Joan Leonard', 'Ruth Scurr', 'Madame de La Fayette', 'Elizabeth Freeman', 'Chloe E. Bird', 'Priscilla Coit Murphy', 'Paula Wild', 'Amanda Scott', 'John Elder', 'Matthew Pearl', 'Paul J. Horowitz', 'Christer Bergström', 'Sally Herigstad', 'Scott Blackwood', 'Fereshteh Nouraie-Simone', 'Richard Dry', 'Gerri Hirshey', 'Paul Santhouse', 'Marc Davenport', 'Daryl R. Conner', 'Michael F. Graves', 'Katherine Orrison', 'Ronald Kessler', 'Jorgen de Mey', 'Phillippe De Vosjoli', 'John C. Whitcomb', 'Hugh Walpole', 'Terry McCabe', 'Ken Schwaber', 'Book Sales Inc.', 'Kate Weigand', 'Jules Watson', 'Richard Chillot', 'Eboo Patel', 'Paula Martin', 'Herbert J. Storing', 'John Arnott MacCulloch', 'David Baskerville', 'Robert J. MacKenzie', 'Koichi Tohei', 'Iain Smyth', 'Allan A. Glatthorn', 'Jim Bouton', 'Beatrice Ojakangas', 'Kenneth J. Peak', 'Rebbecca Ray', 'Carroll A. Lutz', 'Dorothy Barlowe', 'Douglas Gomery', 'Michael Norton', 'Francis J. Bremer', 'Evelyn Nakano Glenn', 'Philippa Stockley', 'Marguerite Porete', 'Ken Steiglitz', 'Lighthouse Review Inc', 'Martin Kemp', 'Robert A. Katzmann', 'Jerred Metz', 'Michelle G. Craske', 'Cynthia Overbeck Bix', 'Jennifer Niederst Robbins', 'James R. Lucas', 'Erin Soderberg Downing', 'Joe Casad', 'Julian T. Jackson', 'Karin Jäckel', 'Robert Spencer', 'Joseph Horowitz', 'Hallie Crawford Stillwell', 'Gary Chapman', 'Chris Owen', 'Pam Schiller', 'Kazuhiko Mishima', 'Louise Moeri', 'Daniele Ganser', 'Christopher Castellani', 'Sean Covey', 'Wilborn Hampton', 'John C. Esposito', 'Toti Martínez de Lezea', 'Lisa J. Scheinkopf', 'USMC Development-Education Command Staff', 'Joseph Bernardin', 'Jon Steel', 'Jim Daly', 'Thomas Lovell Beddoes', 'J.B. Stephens', 'Heidi L. Nichols', 'Alexander Cockburn', 'Denise Little', 'Brian M. Ambroziak', 'Stephanie Howard', 'John Waterman', 'Tracy Griffith', 'Stephen  Booth', 'George P. Fletcher', 'Alan Ryan', 'Harry Stein', 'Cheryl Caldwell', 'Rick Kaempfer', 'Marylin Hafner', 'Michael L. Cooper', 'Joseph M. Williams', 'George Shannon', 'Herb Boyd', 'Howard Haycraft', 'Susan      Miller', 'Fiona MacDonald', 'Lou Callan', 'James B. Garfield', \"Jacquie D'Alessandro\", 'Clarkes Lincoln', 'Katharine Lee Bates', 'Jane Jacobs', 'Joanna Russ', 'Bay Buchanan', 'Paul Benedetti', 'Glenn Doman', 'Jenny Randles', 'Jim DeFelice', 'Harry Shaw', 'Elwood Watson', 'Ann C. Hall', 'Pete Shackett', 'Steve Kaufmann', 'Stewart Burns', 'Juanita Havill', 'Virginia Poulet', 'Rosemary Hankin', 'Geoffrey Scarre', 'Anthony Giddens', 'Marjorie Frank', 'Elizabeth Ayres', 'John Ashcroft', 'Perry Link', 'Mary Saaler', 'Harry Robinson', 'Peter Duus', 'Jim Fergus', 'Mike   Evans', 'Dan Hofstadter', 'William Seil', 'Lee Simon', 'Katherine Hoffman', 'Denis Edwards', 'Eboni Bynum', 'Bernard Baumohl', 'Hanna Kroeger', 'Jason Walker', 'Sloane Tanen', 'George Levenson', 'John Brian Taylor', 'Lorine Mason', 'Gael Baudino', 'Don Casey', 'Ellen Fein', 'Peter Farrelly', 'Helena Paterson', 'Jacqui Bailey', 'Emily Craig', 'Martin Scorsese', 'Susan Ware', 'Meesha Halm', 'Rey Chow', 'Jimmy Hawkins', 'Gordon Thomas', 'Jeff Schmidt', 'Hiroko Fukuhara', 'Richard Wheeden', 'Peter de la Billière', 'Hajo Banzhaf', 'Don S. Browning', 'John Sanders', 'Christian D. Larson', 'Michael D. Jackson', 'Roberta Bayley', 'William Thomas Walsh', 'Peter   Fisk', 'James P. Hogan', 'Mary Lascelles', 'Maitland McDonagh', 'Mario Mendoza', 'Deborah Schiffrin', 'Kurt Bruner', 'Andy Andrews', 'Richard Linklater', 'Christopher Sorrentino', 'James Kirkup', 'Enrique Oltuski', 'Baz Kershaw', 'Michael Bowker', 'M. Robert Mulholland Jr.', 'Sheelagh Mawe', 'James G. Cunningham', 'Neil Sclater', 'David R. Marks', 'Sharon Lamb', 'Ben Green', 'Robert Hamlett Bremner', 'Ruth L. Hayden', 'Jeannette Haien', 'Judith A. Arter', 'Lee Roddy', 'Jessica Denay', 'Jerri Drennen', 'Hans Mateboer', 'James W. Mavor Jr.', 'John Torreano', 'Peter Levitt', 'Kay David', \"Barbara O'Brien\", 'John Einarson', 'Karen Sue Clippenger', 'Michael E. Zimmerman', 'Rick Curry', 'C.C. Cameron', 'Max Weber', 'Marilyn C. Agin', 'Louise S. Robbins', 'Joanne M. Braxton', 'L. Dean Webb', 'Richard Rhodes', 'Marvin Terban', 'Truong Nhu Tang', 'Daniel P. Brown', 'Maurice Keen', 'Nina L. Paul', 'Francesca De Grandis', 'Ian Ridpath', 'Rick      Johnson', 'Christine Lindop', 'Roger Kahn', 'Elinore Pruitt Stewart', 'Stephen Jay Gould', 'Benno Müller-Hill', 'Inge Dougans', 'Grace Lee Nute', 'John Roskelley', 'Terry  Taylor', 'Peter Nichols', 'Karl French', 'Nathan C. Green', 'Fray Angelico Chavez', 'Lia Purpura', 'Maurice P. Verneuil', 'Hans Holzer', 'Hedley Thomas', 'Dickinson W. Adams', 'Robert Bud', 'Jaquelyn McCandless', 'Kate Needham', 'Biswa Nath Datta', \"Joseph O'Rourke\", 'Henri Bergson', 'Donna Kooler', 'Arthur Llewellyn  Basham', 'Debra Dier', 'William S.   Davis', 'Joel D. Haber', 'Susan    Katz', 'Thomas  Brooks', 'Zac Unger', 'Michael Moncur', 'Lesley Sharpe', 'Ben Carson', 'James F. Twyman', 'Lynn Dianne Phillips', 'John MacKinnon', 'Lara Couturier', 'Dorie Greenspan', 'Charles Ryan', 'Mary Hunt', 'Karen Salmansohn', 'Ananth Grama', 'Gavin Bishop', 'Ironman Magazine', \"Patrick K. O'Donnell\", 'Audrey Howard', 'Eilean Hooper-Greenhill', 'Amir D. Aczel', 'S.P. Rosenbaum', 'Richard Swift', 'Victor G. Ambrus', 'Aaron Frankel', 'Priscilla Presley', 'Jo Gibson', 'Diane Goode', 'Marlynn K. Clayton', 'Mil Millington', 'Gerry Souter', 'John Coyne', 'Scott Turansky', 'Arnoldo C. Hax', 'Andrew Dalby', 'Suzanne Finstad', 'John M. Ellis', 'Henry M. Morris', 'Larry Watson', 'Linda L. Grenz', 'Gherbod Fleming', 'Karen M. Offen', 'Roger Kimball', 'John Jacob Niles', 'Hadmar von Wieser', 'Linda Labelle', 'William  Beck', 'Raimon Panikkar', 'Allison Green', 'Thomas J. Noel', 'Mary Reid', 'Paula Hardy', 'Sandra Faulkner', 'Peter Shapiro', 'Stephen Fuentes', 'Gillian Greenwood', 'Holly Morris', 'John W. Dean', 'Ed McCarthy', 'Ronald Lewin', 'Julie Ann Rach', 'Jamgon Kongtrul Lodro Taye', 'R.H. Jarrett', 'Michael Welschenbach', 'Swan Adamson', 'Gregor N. Purdy', 'Wilfrid Sellars', 'Paul Eggers', 'Gene Weingarten', 'Robert D. Bergen', 'Jeff Walling', 'Jane H. Wise', 'Paul Karasik', 'Wes Roberts', 'David Steinman', 'M.C. Beaton', 'Thomas J. Peters', 'Katherine Walsh-Burke', 'Monica Wellington', 'Walter A. Davis', 'Simon Allix', 'Luís de Camões', 'Telford Work', 'Elisabeth Sanxay Holding', 'Merritt Ruhlen', 'Ed Regis', 'Efua Sutherland', 'Michael J.H. Taylor', 'Gordon Conway', 'Eastman Curtis', 'Cleo Woelfle-Erskine', 'Jan Guillou', 'John Lyly', 'Judie L.H. Strouf', 'Annie Berthold-Bond', 'P.N. Dedeaux', 'Richard Berenholtz', 'Edward P. Jones', 'Donovan Webster', 'Eric Wilson', 'Terri Breneman', 'Shelly K. Green', 'Carl Burgos', 'Steve Amick', 'Matthew Festenstein', 'Hilary Neroni', 'Leah McLaren', 'the bakers of Hodgson Mill', 'Russell Jeavons', 'Chet Cunningham', 'Thomas G. Long', 'Zak Greant', 'Maggie Greenwood-Robinson', 'Minetarō Mochizuki', 'Françoise Héritier', 'Annie Dalton', 'Sara  Miles', 'Jack Kornfield', 'Alan Sinfield', 'Rodney Combs', 'Howard L. Bingham', 'Tony Hope', 'Dianne Dugaw', 'Bruno Jasieński', 'Claire  Tristram', 'Marita Littauer', 'Dan Wakefield', 'Carol Lancaster', 'Barbara Paul', 'Carolyn McVickar Edwards', 'D. Edmond Hiebert', 'James Boggs', 'Monica Quill', 'Renata Schiavo', 'Sterling Seagrave', 'Mark J. Pellegrino', 'George Friedman', 'Anne Hébert', 'Amanda   Jones', 'Jim Gigliotti', 'Sharon Doubiago', 'David Kalat', 'Barbara H. Solomon', 'Ron Rosenbaum', 'Sharon Krum', 'Greta Van Susteren', 'Ronald Wardhaugh', 'Sam Roberts', 'William S. Paley', 'Keith Baker', 'Judith Levine', 'James Ryle', 'Beth Bosworth', 'Keith Harrell', 'Sam Bass Warner, Jr.', 'Day Leclaire', 'Bob Boiko', 'Jeanee Ledoux', 'Duncan Clark', 'Michael Bright', 'Mathew Brown', 'Paige Lee Elliston', 'Beatrice S. Mikulecky', 'Craig Lloyd', 'Herb Dunn', 'Harry Lorayne', 'Cynthia Fleming', 'Didier  Martin', 'Ivan Illich', 'Shirley Temple Black', 'Alison Gernsheim', 'David E. Brown', 'Laura Kasischke', 'Martha K. Huggins', 'John Rosemond', 'Shannon Bell', 'Dan Richardson', 'Annejet van der Zijl', 'Ashley Ladd', 'James  Burke', 'Nikolaus Pevsner', 'Doris Davidson', 'Kevin Williams', 'Bruce Goldberg', 'Joyce Rodgers', 'Richard Michelson', 'William H. Putman', 'Joe Singer', 'Lou Dubose', 'Kathy Gallagher', 'Alan M. Williams', 'W. Brad Johnson', 'Scott Nickel', 'Thomas Attig', 'Brian    Johnson', 'Radu Florescu', 'Jeff Brouws', 'Diana Henry', 'Dawn L. Watkins', 'Todd A. Diacon', 'David Edgar', 'Susan Blackaby', 'J. Shep Jeffreys', 'Virginia Lee Burton', 'Joost Zwagerman', 'Judith Duncan', 'Martin Jay', 'Shelly Wu', 'Laurie Schneider Adams', 'Mary Jane Carr', 'Harvey Fierstein', 'Norvene Vest', 'Joan Wallach Scott', 'Chris Knutsen', 'Louis R. Franzini', 'Elliot S. Valenstein', 'Dervla Murphy', 'Eliza E. Rathbone', 'Terry Pluto', 'Lynette Gould', 'Olivier Roy', 'Judith Plaskow', 'Betty Schwartz', 'Carl Boggs', 'Richard Schweid', 'Kathy MacKel', 'Denny Martin Flinn', 'Charles Alexander Eastman', 'John Wansbrough', 'Alex Bellos', 'Anna Held Audette', 'Abraham Lincoln', 'Ellie Topp', 'Gary Mex Glazner', 'John L. Behler', 'Herman Holtz', 'F.X. Nine', 'Heidi Postlewait', \"Writer's Digest Books\", 'Mario Jiménez Castillo', 'Judith Pence Rooks', 'Gerald Early', 'Martha E. Snell', 'M. Christine Zink', 'Charles Knief', 'Herbert Krosney', 'Michelle N. Shiota', 'Shannon Okey', 'Amita Handa', 'Anthony F. Smith', 'Agnes von Kurowsky', 'H.G. Koenigsberger', 'Shulamith Firestone', 'Carl T. Rowan', 'Rob Gerrand', 'Gloria Emerson', 'Dino Buzzati', 'Laura Doan', 'Albert Marrin', 'Lillian Hoddeson', 'Lynn A. Coleman', 'Charles Stross', 'Benjamin A. Watson', 'Kelly A. Fryer', 'Frank Coffey', 'Jim Rohn', 'Roger Matuz', 'Mark G. Rubin', 'Jenny Hale Pulsipher', 'John P. Meier', 'Anne M. Coghill', 'Abra Edelman', 'Geoff Nicholson', 'Isabella Hatkoff', 'Robert St. John', 'Greg Critser', 'Werner Sollors', 'Sophie  Page', 'Carmen Bredeson', 'Michael    Jordan', 'Midori Snyder', 'John Strausbaugh', 'Richard Sorabji', 'Charles Eames', 'Jeremy Iversen', 'Sharon Linnea', 'Rika Lesser', 'Sarah Chaplin', 'Howell Raines', 'Scott C.  Davis', 'Renate Dorrestein', 'Paul Albitz', 'Diane Stingley', 'Mike Cronin', 'Kimberly Winston', 'Lindan Lee Johnson', 'Sidney Sheldon', 'Susan Frank Parsons', 'Patricia Broadbent', 'Camilla V. Saulsbury', 'Dwight Gooden', 'Jay S. Hammond', 'David Limbaugh', 'Ray Aldridge', 'Hermann Scheer', 'Thomas E. Hachey', 'Henry Beston', 'Dan Crawford', 'Jim Shooter', 'Richard A. Young', 'American Chemical Society', 'Paul E. Griffiths', 'Craig Kielburger', 'Blaine Lee', 'David Stanley', 'Susanna Moore', 'Barry Sammons', 'Aphrodite Matsakis', 'Esther Kalman', 'Christopher  Locke', 'James F. David', 'Richard D. Wyckoff', 'Ben Eklof', 'Barbara Kilarski', 'Connie Brummel Crook', 'Jennie Weiss Block', 'John Matteson', 'Angela Glover Blackwell', 'Cara Ashrose', 'Peter W. Low', 'Noel Streatfeild', 'Randy E. Barnett', 'Bernhard W. Anderson', 'Monique Polak', 'Bill Broder', 'David I. Cleland', 'John Denver', 'David B. Goldstein', 'H.W. Brands', 'Titus Burckhardt', 'Peter Jones', 'Lucy Shahar', 'Sarah M. Pike', 'Alex S. MacLean', 'John Gross', 'Dorothy M. Campbell', 'Peter Van Roy', 'David Solie', 'Richard Marinick', 'Kathryn Caskie', 'Sue Armstrong', 'Meenakshi Gigi Durham', 'David Emory Shi', 'Ginjer L. Clarke', 'Geoffrey Sirc', 'John       Miller', 'Gare Joyce', 'Harold Bell Wright', 'John  Peel', 'Leila Abouzeid', 'Zsuzsa Bánk', 'Judith Kelman', 'John Ventura', 'Sony Labou Tansi', 'Carleton Jones', 'Christopher Brown', 'Otto Rank', 'Isabella Lucy Bird', 'Donald B. DeYoung', 'David Edward Cooper', 'Luanne Jones', 'LiAnne Yu', 'Marielle Cormier-Boudreau', 'Scott Mactavish', 'Dorothy Wordsworth', 'Kerstin Mey', 'Victor Rangel-Ribeiro', 'Fred Bratman', 'George J. Leonard', 'Jeffrey Iverson', 'Rowan Stewart', 'Elinor Lipman', 'Tom Engelhardt', 'Donald A. Voorhees', 'Dale Hanson Bourke', 'Carolyne Roehm', 'Caroline Anderson', 'Rafael Sánchez Ferlosio', 'Tatyana Tolstaya', 'Witold Rybczynski', 'Alice Mills', 'George Cawkwell', 'Deirdre Good', 'Anne Sayre', 'Francis Davis', 'Jamie Chambers', 'Yukihiro Matsumoto', 'Mary Stolz', 'Benilde Little', 'Donald Reid', 'William Hewitt', 'Jeanne Kraus', 'Hillis R. Cole', 'Timothy J. Louwers', 'Sergio Troncoso', 'Anna Freud', 'Lars Walker', 'Lewis  Gannett', 'Ralph W. McGehee', 'Peggy Zeglin Brand', 'Barbara Curtis', 'Dorothy Clark', 'Anne Brontë', 'Marcelle Clements', 'Helen Recorvits', 'Emmanuel Mounier', 'Avi Muchnick', 'Dave M. Lauck', 'Hilary McKay', 'Ted Peters', 'Michael Armstrong', 'Gerald Lynch', 'Nega Mezlekia', 'James Thrower', 'Jennifer Michael Hecht', 'Compton Mackenzie', 'Basil Hoffman', 'Neil Cavuto', 'Alan Musgrave', 'T.K. Seung', 'Charles Hirshberg', 'Lisa Jardine', 'Shalom Auslander', 'Tadashi Suzuki', 'Paula H. Deen', 'Donald L. Barrett', 'Robyn Davidson', 'John E. Barrett', 'Frank J. Tipler', 'Barnaby Rogerson', 'Jacob A. Riis', 'Iris J. Stewart', 'Aperture', 'Tony Stewart', 'Steve Augarde', 'Christian Slade', 'Jess Mowry', 'Elisabeth Brink', 'Ken Kurson', 'Stephen Van Evera', 'Chuck Barris', 'Frans Lanting', 'Leigh W. Rutledge', 'Margaret Mitchell', 'Catherine E. Rymph', 'Madeleine R. Grumet', 'Clara E. Hill', 'Tee Morris', 'Zoe Sallis', 'William Simoni', 'Gervase Phinn', 'Al Kooper', 'Jennifer Felicia Abadi', 'David Norman', 'Jackie Hatfield', 'David Stancliffe', 'Paul L. Núñez', 'Hendrik Willem van Loon', 'Winona LaDuke', 'Kathleen Alcalá', 'Richard Russo', 'Elaine Z. Jennerich', 'Kate Greenaway', 'Morton J. Kern', 'Gerry Embleton', 'Jacques-Yves Cousteau', 'Michael S. Lief', 'John Grant', 'Paul Guyer', 'Wendy Rose', 'William C. Chittick', 'Allen Barra', 'Sue Gallehugh', 'Martha R. Taylor', 'Brett Beemyn', 'Lex Newman', 'Susan Whitfield', 'Debbie Danowski', 'Stacy Zemon', 'John Boorman', 'Benedetto Croce', 'Brian Leigh Molyneaux', 'Layne Cameron', 'Susan S. Fainstein', 'Brian Goetz', 'Greg     Jones', 'Frank Zappa', 'Benoît B. Mandelbrot', 'Dawna Walter', 'Allen H. Center', 'Chris Seay', 'Mary Manz Simon', 'Tim Tharp', 'John J. Thompson', 'Jean Little', 'Norbert Wolf', 'Alan Borushek', 'Gary Kinder', 'Ken Binmore', 'Robert J. Schreiter', 'Rosanne Liesveld', 'Amen Ness', 'Mary Murphy', 'Alice L. George', 'Naomi Rosenblum', 'Monta Briant', 'Scott Dikkers', 'Stuart J. Murphy', 'Paul  Harding', 'Dorothy Rubin', 'Diana Delmar', 'Harold Whetstone Johnston', 'John     Phillips', 'A. Bates', 'Hugo Williams', 'Ann Pearlman', \"Joseph F. O'Callaghan\", 'Carol Ottolenghi', 'George M. Marsden', 'Paul Jenkins', 'Johnny Long', 'Alyce Faye Cleese', 'Jenny Cockell', 'Caroline Pitcher', 'Jamie L. Yasko-Mangum', 'David M. Harland', 'Uzma Aslam Khan', 'Richard Gillett', 'Michael R. Pitts', 'Marion F. Solomon', 'Devery S. Anderson', 'Catherine Gilbert Murdock', 'Eddie Campbell', 'Mike Royston', 'W. Meissner', 'Lori Hobkirk', 'Christopher Clapham', 'Marie M. Clay', 'Ed Kugler', 'Norman M. Klein', 'George E. Hyde', 'Charles H. Brandes', 'Betty Fairchild', 'Margaret Bye Richie', 'Janey Bennett', 'Tina Jo Breindel', 'William Kilpatrick', 'Amy  Stewart', \"Stewart O'Nan\", 'Marcia K. Vaughan', 'Sandra Ingerman', 'Yin-Lien C. Chin', 'Fred Barwell', 'Rik Scarce', 'Michael Murphy', 'Jimmy McDonough', 'Dorothy Bloch', 'Knut Boeser', 'Lisa Garrigues', 'Mark Mills', 'Sally Tagholm', 'Henri Murger', 'Valentin Rasputin', 'Edward Thomas', 'Richard Whelan', 'Kaveh Farrokh', 'Jessica Ridley', 'Lisa Yoneyama', 'Ian Livingstone', 'Henry C. Lee', 'Biff Mithoefer', 'Elissa Meyrich', 'Steve Moidel', 'Mabel Iam', 'Rebecca St. James', 'Bruce Mitchell', 'M. Kat Anderson', 'Shari MacDonald', 'Russell Hart', 'Rona Jaffe', 'Fawn M. Brodie', 'Wayne W. Dyer', 'Ron Galella', 'Lois P. Frankel', 'Phyllis Trible', 'Walter Benjamin', 'Dawn P. Flanagan', \"Muhammad ibn Idris al-Shafi'i\", 'Chandra Manning', 'Lawrence Coates', 'Steve Martini', 'Ben Edward Akerley', 'Bill Crawford', 'Phyllis Granoff', 'Roch Carrier', 'Lesley Sims', 'Anne Whitfield', 'Iain Johnstone', 'Margarita Stocker', 'Jennifer Musselman', 'Arundhati Roy', 'James Huntington', 'Michael Talbot', 'Mab Segrest', 'Wallace Stegner', 'Nancy Auer Falk', 'Leslie Kane', 'Mark  Powell', 'Carol Owen', 'Julie D. Taylor', 'Mako Takahashi', 'Nikki Turner', 'Ann Richards', 'Courtney Febbroriello', 'Leslie Bricusse', 'Kim Wilson', 'Kai Hwang', 'Irene Zabytko', 'Patricia Bosworth', 'Spencer Johnson', 'Cindi Howson', 'Terence Dickinson', 'Reza Shah-Kazemi', 'Amy Hempel', 'Victor G. Kiernan', 'Leslie S. Rowland', 'Michael Brennan', 'J.H. Powell', 'Vyvyan Holland', 'Vance Moore', 'Maria Edgeworth', 'James Douglas Barron', 'Anne Finger', 'Gertrude Crampton', 'William Bradford', 'David McCullough', 'Dag Hammarskjöld', 'M. Tim Jones', 'James G. Williams', 'William G. Lycan', 'Karol Mysliwiec', 'Karen Angel', 'Ernest Nagel', 'Darrow L. Miller', 'Charles Selengut', 'Toni Boyle', 'Edward James', 'Günter Wallraff', 'Alison Baird', 'Lenore Terr', 'Sue Taylor', 'Essie Mae Washington-Williams', 'Dan Burstein', 'Hiromichi Yahara', 'Susanna Foo', 'Bob Barton', 'Tomas Graves', 'David Ignatius', 'Hayley Mitchell Haugen', 'Li Zhang', 'Dominique Jarrassé', 'David Browne', 'Joe Queenan', \"Jeanne D'Haem\", 'Gabriela F. Arredondo', 'R.L.V. Ffrench Blake', 'J.T. Petty', 'Jon B. Cooke', 'Sandra Beckwith', 'Bobette Perrone', 'Joni Eareckson Tada', 'Gina Frangello', 'Padraic Kenney', 'Marwan Bishara', 'Philipp Oswalt', 'Niki Burnham', 'Ricki Reeves', 'David Gould', 'Lesley Dormen', 'Mildred Walker', 'John R. Rowan', 'Peter Birch Sørensen', 'Sandra Hack Polaski', 'Boris Schlossberg', 'Ian Whybrow', 'Barbara Harvey', 'Peter Wicke', 'Rachael Freed', 'Marilyn Rockett', 'Eric Pete', 'James F. Dunnigan', 'Malcolm H. Levitt', 'Jimmy Hyams', 'Trudi Canavan', 'Raphael Lopez-Pedraza', 'Eleanor Duckworth', 'Bo Dahlbom', 'Allen S. Weiss', 'Steve Berry', 'Mickey Hart', 'Henry Bauchau', 'Roger Parker', 'Jim Burke', 'Karen Miller-Kovach', 'Janet Tamaro', 'John J. Donohue', 'Panera Bread', 'Charles Self', 'John K. Roth', 'Tiffany Ana López', 'Basil Davenport', 'Philipp Blom', 'Philip D. Curtin', 'Traci C. West', 'Bob Fenster', 'Adam Clymer', 'Alice Alfonsi', 'Mike    Evans', 'Albin J. Zak', 'Franz Borkenau', 'Lennart Berggren', 'Tamara Williams', 'Robert Farrar Capon', 'Will Davis', 'Norman Cohn', 'Alan J. Karcher', 'Mickey Flodin', 'Maude Barlow', 'Dan Farmer', 'Bridget Crowley', 'Elaine A. Rich', 'Carla Dijs', 'Tony    Brown', \"Scott O'Hara\", 'Ken Blue', 'Wendy Schlessel Harpham', 'Steve Gorenberg', 'Gary Friedrich', 'Diane Rossen Worthington', 'Jane Waller', 'Mackenzie McKade', 'Brenda Novak', 'Risa Wataya', 'Charles Craighead', 'Al Spicer', 'Roy M. Wallack', 'Eric S. Juhnke', 'Jan Palmer', 'Ruth Dean', 'David Fischer', 'Gordon E. Carlson', 'Stephen Rebello', 'Joseph T. Catalano', 'Dana May Casperson', 'Gerald R. Allen', 'Gervase R. Bushe', 'Alison Weaver', 'Peter Ludlow', 'Khalid Mughal', 'John           Wilson', 'Alexander M. Bickel', 'Jack Hamann', 'Clay Jacobsen', 'Timothy Lehmann', 'Charles  Firth', 'Dandi Daley Mackall', 'Edward Dmytryk', 'Paul Grilley', 'Paul S. Boyer', 'Steven E. Tozer', 'Rosemary Bailey', 'Marshall Green', 'Elizabeth Byrd', 'Burton Goldberg', 'Maurice Girodias', 'Cathleen Schine', 'Eleanor H. Porter', 'Vic Reeves', 'Jonathan D. Spence', 'Edward K. Rowell', 'George R. Stewart', 'Linda Gordon', 'David Cairns', 'Luis Barragán', 'Julia Forster', 'Tony Kern', 'Dale Peck', 'Elisa Gagnon', 'Colin McComb', 'Audre Lorde', 'Brenda L. Thomas', 'Garry Ryan', 'Rob   Johnson', 'Edward B. Westermann', 'Nancy Parent', 'Beatrice Schenk de Regniers', 'Jim  Thompson', 'Klaus Kaufmann', 'Richard Stevenson', 'Patrick F. McManus', 'Joseph E. Muscolino', 'Jamie Sams', 'Mikal Gilmore', 'Peter J. Bowler', 'Cynthia Dial', 'Gigi Amateau', 'Myron J. Aronoff', 'Max Lerner', 'Ian Farrington', 'Elise Title', 'Murdo MacDonald', 'Karen Viola', 'Jean Ross Ewing', 'Sayed Qutb', 'Marcia Willett', 'John F. Savage', 'Hugh William McKibbon', 'Carol Helstosky', 'Peter H. Salus', 'Peter Galassi', 'Laurie Polich', 'Ninian Smart', 'Rosemary Bray', 'Edward S. Reed', 'Peter London', 'Jack A. Sobon', 'Nancy Wolff', 'Beth Saulnier', 'Jean Marigny', 'Christian Peet', 'Sarah Appleton Aguiar', 'Christy Lijewski', 'Charles S. Prebish', 'Britney Spears', 'Naomi Baltuck', 'Erasmus', 'Ray Huang', 'Masayuki Takano', 'Cooking Light Magazine', 'Iamblichus of Chalcis', 'Louise Munro Foley', 'Shukri Abed', 'Bruce A. Hathaway', 'Nancy S. Hughes', 'Doris A. Graber', 'Steven   Schwartz', 'Miranda Jarrett', 'Bob Livingston', 'Hugh Rawson', 'Woody Guthrie', 'Sue Townsend', 'D.D.R. Owen', 'Kathy Reichs', 'Susan P. Cerasano', 'Richard Hughes', 'Scott Keith', 'Boris Johnson', 'Micheline Aharonian Marcom', 'Angela Royston', 'Neil G. Odenwald', 'Sports Illustrated', 'David Middleton', 'David Dary', 'Muneeza Shamsie', 'Brenda Brooks', 'M. Eugene Boring', 'Pegi Deitz Shea', 'Deforia Lane', 'Joseph Plumb Martin', 'Jerry Baker', 'Paul Rand', 'Robin   Robertson', 'Philip Etienne', 'Steve Kenson', 'Richard Fleming', 'David   Bowles', 'Ken Kawasumi', 'Robert C. Lamm', 'Christina Hopkinson', 'Barbara Bickmore', 'Francisco A. Rosales', 'Michelle McGriff', 'Mary Carolyn Waldrep', 'Donald D. Hensrud', 'Ann Bowen', 'Amy Crawford', 'Patrice M. Franko', 'Elizabeth M. Rees', 'Don Gillmor', 'Michael         Lewis', 'Stella  Benson', 'Malcolm Budd', 'Tim Hemlin', 'O.R. Melling', 'Samantha Dunn', 'Karen X. Tulchinsky', 'Mary Ann Watson', 'Gordon Andrew MacDonald', 'Elizabeth  Hickey', 'Johanna Drucker', 'Hilary J. Deighton', 'Sharon Soneff', 'Debbie Bible', 'David Rees', 'Fumiyo Kouno', 'Michael McDowell', 'Charles Gallenkamp', 'Therese Szymanski', 'Ami McKay', 'Doug Radcliffe', 'G.R. Hawting', 'Jude Currivan', 'Michael Bond', 'Cory Richardson-Lauve', 'David Farland', 'Steven Weinberg', 'Hong Seock Seo', 'Rhonda Pollero', 'Dixie Deerman', 'James Reidel', 'J.T. Garrett', 'Kathryn Kleinman', 'Gianni Guadalupi', 'Margery Beddow', 'Marie Hall Ets', 'Dan Kavanagh', 'Beth Hanson', 'Scott Holden-Jones', 'Ramzy Baroud', 'Candice Hern', 'Mary Kruger', 'Gerhard E. Lenski', 'Nabil Matar', 'Johnny Rogan', 'Diana St. Ruth', 'Valerie Coulman', 'Steve Vickery', 'Jin Xiong', 'Belle Yang', 'Martin Fallon', 'Thomas E. Griess', 'James Rauch', 'Judith Aron Rubin', 'Sylvia Maultash Warsh', 'Ludo De Witte', 'Lucy Coats', 'Michael Busselle', 'Karen Lebacqz', 'Margaret Rolfe', 'Regina Marler', 'David L. Fleitz', \"Lowe's\", 'Anna Livia', 'Sherene H. Razack', 'Georges Jean', 'Black Elk', 'Diana Shaw', 'Rachel Whiteread', 'Peter Goldenthal', 'Patricia Lynn Reilly', 'Harry Ritchie', \"Seng-ts'an\", 'Jay Jacobs', 'Rebecca Redwood French', 'Anna Jennet', 'Alfonso María de Liguori', 'Sherwood Smith', 'Edward Strickland', 'M.L. Dunham', 'Meredith Webber', 'Patricia West', 'Wandee Young', 'Mitch Albom', 'Bob Frissell', 'William Lashner', 'Anthony Shadid', 'Ralph Ramey', 'Donald D. Megill', 'Robert Barr Smith', 'Lindsay Gordon', 'Édouard Glissant', 'Angela McAllister', 'Pimsleur Language Programs', 'Saskia Noort', 'Mariah Fredericks', 'William Ivins Jr.', 'Jill Davis', 'Kristin Leutwyler', 'Benoit Daviron', 'Kathy Kiernan', 'Pat Shipman', 'Nicholas Blechman', 'Gene Combs', 'Richard Sorger', 'Marjorie Hewitt Suchocki', 'Robert H. Bates', 'Jeffrey Steingarten', 'John Lucht', 'Jackie George', 'Rachael Bareket', 'W. David Lewis', 'Bernard Knight', 'John D. Wright', 'Rhona J. Berenstein', 'Barbara Lee Smith', 'Edward T. Welch', 'Kim Kinrade', 'Laurence Shames', 'Marc Mucutcheon', 'Brian McNaught', 'Michael R. French', 'Sheila L. Croucher', 'Ad Reinhardt', 'Jerry Brown', 'Gertrudis Gómez de Avellaneda', 'Suzanne Van Atten', 'Vance Christie', 'Alice Savage', 'Alex Varughese', 'Anne Mather', 'Lewis B. Engel', 'John Gruber-Miller', 'John R. Gillis', 'Johan Pottier', 'John Thackara', 'Daniel Marcus', 'Marsha Diane Arnold', 'Hans Vaihinger', 'David Boyle', 'Melissa Forney', 'Mindy Aloff', 'David Wharry', 'Sonia Orin Lyris', 'Marfe Ferguson Delano', 'Lisi Harrison', 'Heidi Julavits', 'Philip Manfield', 'D.T. Suzuki', 'Steven D. Carter', 'Friedrich Glauser', 'Michael Mallory', 'Jose Wolfango Montes', 'Wheeler M. Thackston', 'Véronique Tadjo', 'Max Hollein', 'Kevin Kenney', 'Michael Downey', 'Jamie Langston Turner', 'William Poorvu', 'Ida Friederike Görres', 'Christopher Dickey', 'David S. Lifton', 'Lansana Gberie', 'John Rhett Thomas', 'Mark Spragg', 'Jeremiah Comey', 'Emily Post', 'Mario Puzo', 'Nigel Blundell', 'Ada Muir', 'Helie Lee', 'Peter E. Meltzer', 'Eric Cagle', 'Richard Strozzi-Heckler', 'Aberjhani', 'Maggie Estep', 'Peter Sís', 'Nick Walker', 'Patrick S. Bresnan', 'Elif Shafak', 'William Appleman Williams', 'Michele Kort', 'Gillian D. Brown', 'Reginald McKnight', 'Larry B. Silver', 'Antoine Wilson', 'Amy Erdman Farrell', \"Andrea U'Ren\", 'Molly Bang', 'Maria Housden', 'Norman Yoffee', 'Jacques Henry', 'Basil Davidson', 'Mary L. Kirchoff', 'Susan R. Barnum', 'Lauret Savoy', 'Robert Edgar Carter', 'Edward Yarnold', 'Lael Littke', 'Eric Gunnerson', 'Richard Florida', 'Richard Paul Russo', 'Caterpillar', 'J. Stewart Black', 'Joe Desris', 'Violet Blue', 'Dan O. Via', 'James Stephenson', 'F. Max Müller', 'Barbara E. Hort', 'Adam Mastoon', 'Kirk Curnutt', 'Aaron Allston', 'Daniel Paul Schreber', 'Rodney Matthews', 'Patricia G. Penny', 'Northrop Frye', 'J.R. Black', 'Peter M. Harman', 'Larry Hama', 'Paul C. Rosenblatt', 'Daniel Akst', 'Shundrawn Thomas', 'T. Lobsang Rampa', 'Ruth Soffer', 'Stacy Schiff', 'George Herriman', 'Marian Potter', 'Ed Hooks', 'Lawrence O. Richards', 'Shawn Talbott', 'Keith       Taylor', 'Martin C. Brown', 'Arthur Avalon', 'Frederick P. Hitz', 'Philip  Purser', 'Chad Bryant', 'Richard Beadle', 'Andy Behrens', 'Floyd Salas', 'Ralf Isau', 'Elizabeth Inchbald', 'Emily Fragos', 'Salim Yaqub', 'Suzan Colon', 'Yehuda Amichai', 'Colin Turner', 'Gary Small', 'Jana Harris', 'Roger Lancaster', 'Andrew Liddle', 'Louise Gordon', 'Jonathan Berent', 'Juliet Cohen', 'Myrick Land', 'John J. Kao', 'Patricia C. Wrede', 'Erich S. Gruen', 'James Dickey', 'Stewart Graff', 'Atul Kohli', 'Charles Portis', 'Louis J. Kern', 'Nancy Tye-Murray', 'Ralph W. Hauenstein', 'Bernadine Bibiano', 'John R. Taylor', 'Kevin Callan', 'K.E. Silva', 'Nigel Spivey', 'John T. Cullen', 'Devereaux D. Cannon Jr.', 'Katherine Chandler', 'Stevie Ray Vaughan', 'Nigel Wiseman', 'Terry Grosz', 'Bunny McBride', 'Leonard Compagno', 'Bruce Northam', 'Francis A. Carey', 'Matthew Yeomans', 'Benjamin C. Pierce', 'Carmen Gil Martinez', 'John Bosco', 'James Archambeault', 'Vejas Gabriel Liulevicius', 'Anthony Gary Brown', 'Suzanne Schlosberg', 'Dominique Mainon', 'John Gaventa', 'Chris L. Demarest', 'Pamela Allen', 'Carmen Lomas Garza', 'Michael J. Caduto', 'Francesca McCartney', 'John Cornwell', 'Dominic Lieven', 'Beth Whitman', 'Richard A. McPherson', 'Albert Howard', 'Sharyn Graham Davies', 'J. Michael Oakes', 'Mark Husbands', 'Ramón Pané', 'Pam Houston', 'Ann Louise Gittleman', 'Michael R. Ange', 'Matt Groening', 'Les Martin', 'Robert Beer', 'D.M. Armstrong', 'Angela Winters', 'Frederick Mosteller', 'Joel Watson', 'Irene Tomaszewski', 'George Andrew Reisner', 'Judith Kitchen', 'M.J. Rose', 'Dan Oja', 'Betty Hart', 'Emma Magenta', 'Jenny Maxwell', 'Mike Higgs', 'Paul  Hoffman', 'Gaydell M. Collier', 'E. Jean Carroll', 'Ann E. Burg', 'Franck Pavloff', 'Scott Thornbury', 'Tony Barnstone', 'Keith Thomas', 'Jason   Wilson', 'LIFE Magazine', 'Brooke Stevens', 'Michael Ennis', 'Theo LeSieg', 'Charlie A. Beckwith', 'Brom', 'Joseph E. Pizzorno', 'Kevin Ryerson', 'Arielle Ford', 'Donald Haase', 'Mike Huckabee', 'Roshumba Williams', 'Hal Draper', 'Cathryn Fox', 'Jane Mendelsohn', 'Richie Unterberger', 'Ilyasah Shabazz', 'Lester del Rey', 'Jennifer Klein', 'Stephen  Gill', 'Irving Greenberg', 'Judith Jango-Cohen', 'Lauren Thompson', 'David K. Lynch', 'Gregory Williams', 'Hugh Howard', 'G. Ronald Murphy', 'Lee Kingman', 'Robert J. McGovern', 'Andrew Robinson', 'Christina F. York', 'Price Pritchett', 'Amitav Ghosh', 'Angus Lindsay Wright', 'PricewaterhouseCoopers', 'John  Morrison', 'Paul Greenway', 'Alan Bullock', 'Ronald Stone', 'Karen Keast', 'Amanda Agee', 'Fiona Capp', 'Clemens P. Work', 'Pernilla Oljelund', 'Éilís Ní Dhuibhne', 'Liberty Savard', 'Michael Miller', 'Robert Corbet', 'Alexandra Styron', 'Samuel Johnson', 'Laurie Gunst', 'Margaret Way', 'William A. Johnson Jr.', 'Martin B. Dickinson', 'Bernard Most', 'JoAnn Milivojevic', 'Dana James', 'Manning Marable', 'Violet Findley', 'Holly Blue Hawkins', 'Bucksam Kong', 'Rosina Lippi-Green', 'Ephraim Radner', 'Charles Carlut', 'Joachim Jeremias', 'Loretta Ellsworth', 'JoAnne Olian', 'John Brendan Keane', 'Cooper Gillespie', 'Billy Wilder', 'Kelle Sparta', 'Roberto Innocenti', 'Peter Hulme', 'Clare Briggs', 'Zoe Whittall', 'William R. Burkett Jr.', 'Jonathon King', 'Yang Jwing-Ming', 'Shaw Barnes', 'Elizabeth Wright', 'Walther Eidlitz', 'Darlene Arden', 'Charles Ralph Boxer', 'Joanne Cantor', 'Annie Dillard', 'John W. Lehman', 'Sri Aurobindo', 'Rachel Henderson', 'David E. Carter', 'James W. Laine', 'Paul Starr', 'Graham Priest', 'Karon Phillips Goodman', 'Valerie Geller', 'Tim Wendel', 'Procopius', 'Service League of Natchitoches Inc.', 'Joel Lobenthal', 'Kate Muir', 'Bettye Griffin', 'Diane K. Shah', 'Jim Aylesworth', 'Sophocles', 'Ann Oakley', 'Richard Rutt', \"James O'Toole\", 'David L. Scott', 'John Uri Lloyd', 'Hulk Hogan', 'Jan Hunt', 'Mary C. Erler', 'Thomas Lucier', 'Jeannette Lofas', 'Longchen Rabjam', 'Keith Davitt', 'Valerie Parv', 'Robert Kurson', 'Marti Smith', 'Olivia St. Claire', 'Josh Groban', 'Robbie Morrison', 'Raymond H. Miller', 'Charles van Onselen', 'Elsie Doig Townsend', 'Ruth Westheimer', 'Ashley Antoinette', 'Sarah R. Labensky', 'Moses I. Finley', 'Perry D. Luckett', 'Maryanne M. Mowen', 'Jane Vejjajiva', 'Bruce A. Jacobs', 'Chris Gibbs', 'Joshua Clover', 'Lark Books', 'Maggie Marron', 'Richard M. Wunderli', 'Rosalind Kalb', 'Eoin McNamee', 'Ray Lampe', 'Angelus Silesius', 'Ron Carlson', 'Gil Bettman', 'Bill Dyszel', 'Mark Stengler', 'Frank Johnson', 'Susan Taylor Chehak', 'Nan Elizabeth Woodruff', 'Charles Reasoner', 'William Strauss', 'Linda Simon', 'Norman Lindsay', 'Alexander Fadeyev', 'Jean Barrett', 'Susan C. Schneider', 'Edward T. Dowling'] in column 0 during transform"
     ]
    }
   ],
   "source": [
    "authors_trans_ohe = authors_ohe.transform(authors_df).toarray()\n",
    "publisher_trans_ohe = publisher_ohe.transform(publisher_df).toarray()"
   ]
  },
  {
   "cell_type": "code",
   "execution_count": 92,
   "id": "cdf1ab03-0ce1-4efc-99f6-088f2c7f9dc9",
   "metadata": {},
   "outputs": [],
   "source": [
    "authors_trans_df = pd.DataFrame(authors_trans_ohe, columns=authors_ohe.get_feature_names_out())\n",
    "publisher_trans_df = pd.DataFrame(publisher_trans_ohe, columns=publisher_ohe.get_feature_names_out())"
   ]
  },
  {
   "cell_type": "code",
   "execution_count": 93,
   "id": "27121702-ace5-4e74-b6a4-048453e54895",
   "metadata": {},
   "outputs": [],
   "source": [
    "authors_test_x2 = authors_x2.transform(authors_trans_df)\n",
    "authors_features = []\n",
    "for feat_num in authors_x2.get_support(indices=True):\n",
    "    authors_features.append(authors_ohe.get_feature_names_out()[feat_num])"
   ]
  },
  {
   "cell_type": "code",
   "execution_count": 94,
   "id": "58594d32-0e8e-4c06-b256-53fe6fce656b",
   "metadata": {},
   "outputs": [],
   "source": [
    "publisher_test_x2 = publisher_x2.transform(publisher_trans_df)\n",
    "publisher_features = []\n",
    "for feat_num in publisher_x2.get_support(indices=True):\n",
    "    publisher_features.append(publisher_ohe.get_feature_names_out()[feat_num])"
   ]
  },
  {
   "cell_type": "code",
   "execution_count": 95,
   "id": "57b1fc59-67e9-4fec-bf6b-cfd2f88d5289",
   "metadata": {},
   "outputs": [],
   "source": [
    "name_df = pd.DataFrame(name_countVec.transform(test_data[\"Name\"]).todense(), columns=name_countVec.get_feature_names_out())\n",
    "desc_df = pd.DataFrame(desc_countVec.transform(test_data[\"Description\"]).todense(), columns=desc_countVec.get_feature_names_out())"
   ]
  },
  {
   "cell_type": "code",
   "execution_count": 96,
   "id": "abbeb65b-8693-4d13-a4bb-5258e4b65b66",
   "metadata": {},
   "outputs": [],
   "source": [
    "desc_test_x2 = desc_x2.transform(desc_df)\n",
    "name_test_x2 = name_x2.transform(name_df)"
   ]
  },
  {
   "cell_type": "code",
   "execution_count": 97,
   "id": "1d1523a6-747b-477a-9c81-fc9c986b8dd6",
   "metadata": {},
   "outputs": [],
   "source": [
    "desc_features = []\n",
    "for feat_num in desc_x2.get_support(indices=True):\n",
    "    desc_features.append(\"Desc_\" + desc_countVec.get_feature_names_out()[feat_num])\n",
    "\n",
    "name_features = []\n",
    "for feat_num in name_x2.get_support(indices=True):\n",
    "    name_features.append(\"Name_\" + name_countVec.get_feature_names_out()[feat_num])"
   ]
  },
  {
   "cell_type": "code",
   "execution_count": 98,
   "id": "0b9b032c-3db2-4f66-a442-a76cf1080fc9",
   "metadata": {},
   "outputs": [],
   "source": [
    "name_test_df = pd.DataFrame(name_test_x2, columns=name_features)\n",
    "desc_test_df = pd.DataFrame(desc_test_x2, columns=desc_features)\n",
    "publisher_test_df = pd.DataFrame(publisher_test_x2, columns=publisher_features)\n",
    "authors_test_df = pd.DataFrame(authors_test_x2, columns=authors_features)"
   ]
  },
  {
   "cell_type": "code",
   "execution_count": 99,
   "id": "617e3ddd-491d-492f-8233-bc38a58d6d73",
   "metadata": {},
   "outputs": [],
   "source": [
    "processed_test_data = pd.concat([test_data, name_test_df, desc_test_df, publisher_test_df, authors_test_df], axis=1)"
   ]
  },
  {
   "cell_type": "code",
   "execution_count": 100,
   "id": "f4adf608-87ff-4a10-8689-7a5ae965ea73",
   "metadata": {},
   "outputs": [
    {
     "data": {
      "text/html": [
       "<div>\n",
       "<style scoped>\n",
       "    .dataframe tbody tr th:only-of-type {\n",
       "        vertical-align: middle;\n",
       "    }\n",
       "\n",
       "    .dataframe tbody tr th {\n",
       "        vertical-align: top;\n",
       "    }\n",
       "\n",
       "    .dataframe thead th {\n",
       "        text-align: right;\n",
       "    }\n",
       "</style>\n",
       "<table border=\"1\" class=\"dataframe\">\n",
       "  <thead>\n",
       "    <tr style=\"text-align: right;\">\n",
       "      <th></th>\n",
       "      <th>PublishYear</th>\n",
       "      <th>PublishMonth</th>\n",
       "      <th>PublishDay</th>\n",
       "      <th>pagesNumber</th>\n",
       "      <th>Name_bible</th>\n",
       "      <th>Name_holy</th>\n",
       "      <th>Name_mafalda</th>\n",
       "      <th>Name_nausicaä</th>\n",
       "      <th>Name_niv</th>\n",
       "      <th>Name_novel</th>\n",
       "      <th>...</th>\n",
       "      <th>Authors_Anonymous</th>\n",
       "      <th>Authors_Carole Mortimer</th>\n",
       "      <th>Authors_Charles Fillmore</th>\n",
       "      <th>Authors_Creflo A. Dollar</th>\n",
       "      <th>Authors_M. Fethullah Gülen</th>\n",
       "      <th>Authors_Paramahansa Yogananda</th>\n",
       "      <th>Authors_Paul Metcalf</th>\n",
       "      <th>Authors_Peter Egan</th>\n",
       "      <th>Authors_Quino</th>\n",
       "      <th>Authors_W.E. Vine</th>\n",
       "    </tr>\n",
       "  </thead>\n",
       "  <tbody>\n",
       "    <tr>\n",
       "      <th>0</th>\n",
       "      <td>1993.0</td>\n",
       "      <td>1.0</td>\n",
       "      <td>1.0</td>\n",
       "      <td>118.0</td>\n",
       "      <td>0.0</td>\n",
       "      <td>0.0</td>\n",
       "      <td>0.0</td>\n",
       "      <td>0.0</td>\n",
       "      <td>0.0</td>\n",
       "      <td>0.0</td>\n",
       "      <td>...</td>\n",
       "      <td>0.0</td>\n",
       "      <td>0.0</td>\n",
       "      <td>0.0</td>\n",
       "      <td>0.0</td>\n",
       "      <td>0.0</td>\n",
       "      <td>0.0</td>\n",
       "      <td>0.0</td>\n",
       "      <td>0.0</td>\n",
       "      <td>0.0</td>\n",
       "      <td>0.0</td>\n",
       "    </tr>\n",
       "    <tr>\n",
       "      <th>1</th>\n",
       "      <td>1997.0</td>\n",
       "      <td>3.0</td>\n",
       "      <td>17.0</td>\n",
       "      <td>32.0</td>\n",
       "      <td>0.0</td>\n",
       "      <td>0.0</td>\n",
       "      <td>0.0</td>\n",
       "      <td>0.0</td>\n",
       "      <td>0.0</td>\n",
       "      <td>0.0</td>\n",
       "      <td>...</td>\n",
       "      <td>0.0</td>\n",
       "      <td>0.0</td>\n",
       "      <td>0.0</td>\n",
       "      <td>0.0</td>\n",
       "      <td>0.0</td>\n",
       "      <td>0.0</td>\n",
       "      <td>0.0</td>\n",
       "      <td>0.0</td>\n",
       "      <td>0.0</td>\n",
       "      <td>0.0</td>\n",
       "    </tr>\n",
       "    <tr>\n",
       "      <th>2</th>\n",
       "      <td>2005.0</td>\n",
       "      <td>1.0</td>\n",
       "      <td>1.0</td>\n",
       "      <td>544.0</td>\n",
       "      <td>0.0</td>\n",
       "      <td>0.0</td>\n",
       "      <td>0.0</td>\n",
       "      <td>0.0</td>\n",
       "      <td>0.0</td>\n",
       "      <td>0.0</td>\n",
       "      <td>...</td>\n",
       "      <td>0.0</td>\n",
       "      <td>0.0</td>\n",
       "      <td>0.0</td>\n",
       "      <td>0.0</td>\n",
       "      <td>0.0</td>\n",
       "      <td>0.0</td>\n",
       "      <td>0.0</td>\n",
       "      <td>0.0</td>\n",
       "      <td>0.0</td>\n",
       "      <td>0.0</td>\n",
       "    </tr>\n",
       "    <tr>\n",
       "      <th>3</th>\n",
       "      <td>2006.0</td>\n",
       "      <td>9.0</td>\n",
       "      <td>5.0</td>\n",
       "      <td>432.0</td>\n",
       "      <td>0.0</td>\n",
       "      <td>0.0</td>\n",
       "      <td>0.0</td>\n",
       "      <td>0.0</td>\n",
       "      <td>0.0</td>\n",
       "      <td>0.0</td>\n",
       "      <td>...</td>\n",
       "      <td>0.0</td>\n",
       "      <td>0.0</td>\n",
       "      <td>0.0</td>\n",
       "      <td>0.0</td>\n",
       "      <td>0.0</td>\n",
       "      <td>0.0</td>\n",
       "      <td>0.0</td>\n",
       "      <td>0.0</td>\n",
       "      <td>0.0</td>\n",
       "      <td>0.0</td>\n",
       "    </tr>\n",
       "    <tr>\n",
       "      <th>4</th>\n",
       "      <td>2002.0</td>\n",
       "      <td>5.0</td>\n",
       "      <td>3.0</td>\n",
       "      <td>352.0</td>\n",
       "      <td>0.0</td>\n",
       "      <td>0.0</td>\n",
       "      <td>0.0</td>\n",
       "      <td>0.0</td>\n",
       "      <td>0.0</td>\n",
       "      <td>0.0</td>\n",
       "      <td>...</td>\n",
       "      <td>0.0</td>\n",
       "      <td>0.0</td>\n",
       "      <td>0.0</td>\n",
       "      <td>0.0</td>\n",
       "      <td>0.0</td>\n",
       "      <td>0.0</td>\n",
       "      <td>0.0</td>\n",
       "      <td>0.0</td>\n",
       "      <td>0.0</td>\n",
       "      <td>0.0</td>\n",
       "    </tr>\n",
       "    <tr>\n",
       "      <th>...</th>\n",
       "      <td>...</td>\n",
       "      <td>...</td>\n",
       "      <td>...</td>\n",
       "      <td>...</td>\n",
       "      <td>...</td>\n",
       "      <td>...</td>\n",
       "      <td>...</td>\n",
       "      <td>...</td>\n",
       "      <td>...</td>\n",
       "      <td>...</td>\n",
       "      <td>...</td>\n",
       "      <td>...</td>\n",
       "      <td>...</td>\n",
       "      <td>...</td>\n",
       "      <td>...</td>\n",
       "      <td>...</td>\n",
       "      <td>...</td>\n",
       "      <td>...</td>\n",
       "      <td>...</td>\n",
       "      <td>...</td>\n",
       "      <td>...</td>\n",
       "    </tr>\n",
       "    <tr>\n",
       "      <th>23058</th>\n",
       "      <td>NaN</td>\n",
       "      <td>NaN</td>\n",
       "      <td>NaN</td>\n",
       "      <td>NaN</td>\n",
       "      <td>NaN</td>\n",
       "      <td>NaN</td>\n",
       "      <td>NaN</td>\n",
       "      <td>NaN</td>\n",
       "      <td>NaN</td>\n",
       "      <td>NaN</td>\n",
       "      <td>...</td>\n",
       "      <td>0.0</td>\n",
       "      <td>0.0</td>\n",
       "      <td>0.0</td>\n",
       "      <td>0.0</td>\n",
       "      <td>0.0</td>\n",
       "      <td>0.0</td>\n",
       "      <td>0.0</td>\n",
       "      <td>0.0</td>\n",
       "      <td>0.0</td>\n",
       "      <td>0.0</td>\n",
       "    </tr>\n",
       "    <tr>\n",
       "      <th>23059</th>\n",
       "      <td>NaN</td>\n",
       "      <td>NaN</td>\n",
       "      <td>NaN</td>\n",
       "      <td>NaN</td>\n",
       "      <td>NaN</td>\n",
       "      <td>NaN</td>\n",
       "      <td>NaN</td>\n",
       "      <td>NaN</td>\n",
       "      <td>NaN</td>\n",
       "      <td>NaN</td>\n",
       "      <td>...</td>\n",
       "      <td>0.0</td>\n",
       "      <td>0.0</td>\n",
       "      <td>0.0</td>\n",
       "      <td>0.0</td>\n",
       "      <td>0.0</td>\n",
       "      <td>0.0</td>\n",
       "      <td>0.0</td>\n",
       "      <td>0.0</td>\n",
       "      <td>0.0</td>\n",
       "      <td>0.0</td>\n",
       "    </tr>\n",
       "    <tr>\n",
       "      <th>23060</th>\n",
       "      <td>NaN</td>\n",
       "      <td>NaN</td>\n",
       "      <td>NaN</td>\n",
       "      <td>NaN</td>\n",
       "      <td>NaN</td>\n",
       "      <td>NaN</td>\n",
       "      <td>NaN</td>\n",
       "      <td>NaN</td>\n",
       "      <td>NaN</td>\n",
       "      <td>NaN</td>\n",
       "      <td>...</td>\n",
       "      <td>0.0</td>\n",
       "      <td>0.0</td>\n",
       "      <td>0.0</td>\n",
       "      <td>0.0</td>\n",
       "      <td>0.0</td>\n",
       "      <td>0.0</td>\n",
       "      <td>0.0</td>\n",
       "      <td>0.0</td>\n",
       "      <td>0.0</td>\n",
       "      <td>0.0</td>\n",
       "    </tr>\n",
       "    <tr>\n",
       "      <th>23061</th>\n",
       "      <td>NaN</td>\n",
       "      <td>NaN</td>\n",
       "      <td>NaN</td>\n",
       "      <td>NaN</td>\n",
       "      <td>NaN</td>\n",
       "      <td>NaN</td>\n",
       "      <td>NaN</td>\n",
       "      <td>NaN</td>\n",
       "      <td>NaN</td>\n",
       "      <td>NaN</td>\n",
       "      <td>...</td>\n",
       "      <td>0.0</td>\n",
       "      <td>0.0</td>\n",
       "      <td>0.0</td>\n",
       "      <td>0.0</td>\n",
       "      <td>0.0</td>\n",
       "      <td>0.0</td>\n",
       "      <td>0.0</td>\n",
       "      <td>0.0</td>\n",
       "      <td>0.0</td>\n",
       "      <td>0.0</td>\n",
       "    </tr>\n",
       "    <tr>\n",
       "      <th>23062</th>\n",
       "      <td>NaN</td>\n",
       "      <td>NaN</td>\n",
       "      <td>NaN</td>\n",
       "      <td>NaN</td>\n",
       "      <td>NaN</td>\n",
       "      <td>NaN</td>\n",
       "      <td>NaN</td>\n",
       "      <td>NaN</td>\n",
       "      <td>NaN</td>\n",
       "      <td>NaN</td>\n",
       "      <td>...</td>\n",
       "      <td>0.0</td>\n",
       "      <td>0.0</td>\n",
       "      <td>0.0</td>\n",
       "      <td>0.0</td>\n",
       "      <td>0.0</td>\n",
       "      <td>0.0</td>\n",
       "      <td>0.0</td>\n",
       "      <td>0.0</td>\n",
       "      <td>0.0</td>\n",
       "      <td>0.0</td>\n",
       "    </tr>\n",
       "  </tbody>\n",
       "</table>\n",
       "<p>23063 rows × 44 columns</p>\n",
       "</div>"
      ],
      "text/plain": [
       "       PublishYear  PublishMonth  PublishDay  pagesNumber  Name_bible  \\\n",
       "0           1993.0           1.0         1.0        118.0         0.0   \n",
       "1           1997.0           3.0        17.0         32.0         0.0   \n",
       "2           2005.0           1.0         1.0        544.0         0.0   \n",
       "3           2006.0           9.0         5.0        432.0         0.0   \n",
       "4           2002.0           5.0         3.0        352.0         0.0   \n",
       "...            ...           ...         ...          ...         ...   \n",
       "23058          NaN           NaN         NaN          NaN         NaN   \n",
       "23059          NaN           NaN         NaN          NaN         NaN   \n",
       "23060          NaN           NaN         NaN          NaN         NaN   \n",
       "23061          NaN           NaN         NaN          NaN         NaN   \n",
       "23062          NaN           NaN         NaN          NaN         NaN   \n",
       "\n",
       "       Name_holy  Name_mafalda  Name_nausicaä  Name_niv  Name_novel  ...  \\\n",
       "0            0.0           0.0            0.0       0.0         0.0  ...   \n",
       "1            0.0           0.0            0.0       0.0         0.0  ...   \n",
       "2            0.0           0.0            0.0       0.0         0.0  ...   \n",
       "3            0.0           0.0            0.0       0.0         0.0  ...   \n",
       "4            0.0           0.0            0.0       0.0         0.0  ...   \n",
       "...          ...           ...            ...       ...         ...  ...   \n",
       "23058        NaN           NaN            NaN       NaN         NaN  ...   \n",
       "23059        NaN           NaN            NaN       NaN         NaN  ...   \n",
       "23060        NaN           NaN            NaN       NaN         NaN  ...   \n",
       "23061        NaN           NaN            NaN       NaN         NaN  ...   \n",
       "23062        NaN           NaN            NaN       NaN         NaN  ...   \n",
       "\n",
       "       Authors_Anonymous  Authors_Carole Mortimer  Authors_Charles Fillmore  \\\n",
       "0                    0.0                      0.0                       0.0   \n",
       "1                    0.0                      0.0                       0.0   \n",
       "2                    0.0                      0.0                       0.0   \n",
       "3                    0.0                      0.0                       0.0   \n",
       "4                    0.0                      0.0                       0.0   \n",
       "...                  ...                      ...                       ...   \n",
       "23058                0.0                      0.0                       0.0   \n",
       "23059                0.0                      0.0                       0.0   \n",
       "23060                0.0                      0.0                       0.0   \n",
       "23061                0.0                      0.0                       0.0   \n",
       "23062                0.0                      0.0                       0.0   \n",
       "\n",
       "       Authors_Creflo A. Dollar  Authors_M. Fethullah Gülen  \\\n",
       "0                           0.0                         0.0   \n",
       "1                           0.0                         0.0   \n",
       "2                           0.0                         0.0   \n",
       "3                           0.0                         0.0   \n",
       "4                           0.0                         0.0   \n",
       "...                         ...                         ...   \n",
       "23058                       0.0                         0.0   \n",
       "23059                       0.0                         0.0   \n",
       "23060                       0.0                         0.0   \n",
       "23061                       0.0                         0.0   \n",
       "23062                       0.0                         0.0   \n",
       "\n",
       "       Authors_Paramahansa Yogananda  Authors_Paul Metcalf  \\\n",
       "0                                0.0                   0.0   \n",
       "1                                0.0                   0.0   \n",
       "2                                0.0                   0.0   \n",
       "3                                0.0                   0.0   \n",
       "4                                0.0                   0.0   \n",
       "...                              ...                   ...   \n",
       "23058                            0.0                   0.0   \n",
       "23059                            0.0                   0.0   \n",
       "23060                            0.0                   0.0   \n",
       "23061                            0.0                   0.0   \n",
       "23062                            0.0                   0.0   \n",
       "\n",
       "       Authors_Peter Egan  Authors_Quino  Authors_W.E. Vine  \n",
       "0                     0.0            0.0                0.0  \n",
       "1                     0.0            0.0                0.0  \n",
       "2                     0.0            0.0                0.0  \n",
       "3                     0.0            0.0                0.0  \n",
       "4                     0.0            0.0                0.0  \n",
       "...                   ...            ...                ...  \n",
       "23058                 0.0            0.0                0.0  \n",
       "23059                 0.0            0.0                0.0  \n",
       "23060                 0.0            0.0                0.0  \n",
       "23061                 0.0            0.0                0.0  \n",
       "23062                 0.0            0.0                0.0  \n",
       "\n",
       "[23063 rows x 44 columns]"
      ]
     },
     "execution_count": 100,
     "metadata": {},
     "output_type": "execute_result"
    }
   ],
   "source": [
    "processed_test_data = processed_test_data.drop(columns = [\"Name\", \"Authors\", \"Publisher\", \"Description\", \"Language\"])\n",
    "processed_test_data"
   ]
  },
  {
   "cell_type": "code",
   "execution_count": 101,
   "id": "51d27640-bd68-4c05-9ddd-4be36ab9d0ca",
   "metadata": {},
   "outputs": [
    {
     "ename": "ValueError",
     "evalue": "The feature names should match those that were passed during fit.\nFeature names must be in the same order as they were in fit.\n",
     "output_type": "error",
     "traceback": [
      "\u001b[1;31m---------------------------------------------------------------------------\u001b[0m",
      "\u001b[1;31mValueError\u001b[0m                                Traceback (most recent call last)",
      "Cell \u001b[1;32mIn[101], line 1\u001b[0m\n\u001b[1;32m----> 1\u001b[0m penLgr_pred_test \u001b[38;5;241m=\u001b[39m \u001b[43mpen_lgr_best\u001b[49m\u001b[38;5;241;43m.\u001b[39;49m\u001b[43mpredict\u001b[49m\u001b[43m(\u001b[49m\u001b[43mprocessed_test_data\u001b[49m\u001b[43m)\u001b[49m\n",
      "File \u001b[1;32m~\\AppData\\Local\\Programs\\Python\\Python311\\Lib\\site-packages\\sklearn\\linear_model\\_base.py:419\u001b[0m, in \u001b[0;36mLinearClassifierMixin.predict\u001b[1;34m(self, X)\u001b[0m\n\u001b[0;32m    405\u001b[0m \u001b[38;5;124;03m\"\"\"\u001b[39;00m\n\u001b[0;32m    406\u001b[0m \u001b[38;5;124;03mPredict class labels for samples in X.\u001b[39;00m\n\u001b[0;32m    407\u001b[0m \n\u001b[1;32m   (...)\u001b[0m\n\u001b[0;32m    416\u001b[0m \u001b[38;5;124;03m    Vector containing the class labels for each sample.\u001b[39;00m\n\u001b[0;32m    417\u001b[0m \u001b[38;5;124;03m\"\"\"\u001b[39;00m\n\u001b[0;32m    418\u001b[0m xp, _ \u001b[38;5;241m=\u001b[39m get_namespace(X)\n\u001b[1;32m--> 419\u001b[0m scores \u001b[38;5;241m=\u001b[39m \u001b[38;5;28;43mself\u001b[39;49m\u001b[38;5;241;43m.\u001b[39;49m\u001b[43mdecision_function\u001b[49m\u001b[43m(\u001b[49m\u001b[43mX\u001b[49m\u001b[43m)\u001b[49m\n\u001b[0;32m    420\u001b[0m \u001b[38;5;28;01mif\u001b[39;00m \u001b[38;5;28mlen\u001b[39m(scores\u001b[38;5;241m.\u001b[39mshape) \u001b[38;5;241m==\u001b[39m \u001b[38;5;241m1\u001b[39m:\n\u001b[0;32m    421\u001b[0m     indices \u001b[38;5;241m=\u001b[39m xp\u001b[38;5;241m.\u001b[39mastype(scores \u001b[38;5;241m>\u001b[39m \u001b[38;5;241m0\u001b[39m, \u001b[38;5;28mint\u001b[39m)\n",
      "File \u001b[1;32m~\\AppData\\Local\\Programs\\Python\\Python311\\Lib\\site-packages\\sklearn\\linear_model\\_base.py:400\u001b[0m, in \u001b[0;36mLinearClassifierMixin.decision_function\u001b[1;34m(self, X)\u001b[0m\n\u001b[0;32m    397\u001b[0m check_is_fitted(\u001b[38;5;28mself\u001b[39m)\n\u001b[0;32m    398\u001b[0m xp, _ \u001b[38;5;241m=\u001b[39m get_namespace(X)\n\u001b[1;32m--> 400\u001b[0m X \u001b[38;5;241m=\u001b[39m \u001b[38;5;28;43mself\u001b[39;49m\u001b[38;5;241;43m.\u001b[39;49m\u001b[43m_validate_data\u001b[49m\u001b[43m(\u001b[49m\u001b[43mX\u001b[49m\u001b[43m,\u001b[49m\u001b[43m \u001b[49m\u001b[43maccept_sparse\u001b[49m\u001b[38;5;241;43m=\u001b[39;49m\u001b[38;5;124;43m\"\u001b[39;49m\u001b[38;5;124;43mcsr\u001b[39;49m\u001b[38;5;124;43m\"\u001b[39;49m\u001b[43m,\u001b[49m\u001b[43m \u001b[49m\u001b[43mreset\u001b[49m\u001b[38;5;241;43m=\u001b[39;49m\u001b[38;5;28;43;01mFalse\u001b[39;49;00m\u001b[43m)\u001b[49m\n\u001b[0;32m    401\u001b[0m scores \u001b[38;5;241m=\u001b[39m safe_sparse_dot(X, \u001b[38;5;28mself\u001b[39m\u001b[38;5;241m.\u001b[39mcoef_\u001b[38;5;241m.\u001b[39mT, dense_output\u001b[38;5;241m=\u001b[39m\u001b[38;5;28;01mTrue\u001b[39;00m) \u001b[38;5;241m+\u001b[39m \u001b[38;5;28mself\u001b[39m\u001b[38;5;241m.\u001b[39mintercept_\n\u001b[0;32m    402\u001b[0m \u001b[38;5;28;01mreturn\u001b[39;00m xp\u001b[38;5;241m.\u001b[39mreshape(scores, \u001b[38;5;241m-\u001b[39m\u001b[38;5;241m1\u001b[39m) \u001b[38;5;28;01mif\u001b[39;00m scores\u001b[38;5;241m.\u001b[39mshape[\u001b[38;5;241m1\u001b[39m] \u001b[38;5;241m==\u001b[39m \u001b[38;5;241m1\u001b[39m \u001b[38;5;28;01melse\u001b[39;00m scores\n",
      "File \u001b[1;32m~\\AppData\\Local\\Programs\\Python\\Python311\\Lib\\site-packages\\sklearn\\base.py:529\u001b[0m, in \u001b[0;36mBaseEstimator._validate_data\u001b[1;34m(self, X, y, reset, validate_separately, **check_params)\u001b[0m\n\u001b[0;32m    464\u001b[0m \u001b[38;5;28;01mdef\u001b[39;00m \u001b[38;5;21m_validate_data\u001b[39m(\n\u001b[0;32m    465\u001b[0m     \u001b[38;5;28mself\u001b[39m,\n\u001b[0;32m    466\u001b[0m     X\u001b[38;5;241m=\u001b[39m\u001b[38;5;124m\"\u001b[39m\u001b[38;5;124mno_validation\u001b[39m\u001b[38;5;124m\"\u001b[39m,\n\u001b[1;32m   (...)\u001b[0m\n\u001b[0;32m    470\u001b[0m     \u001b[38;5;241m*\u001b[39m\u001b[38;5;241m*\u001b[39mcheck_params,\n\u001b[0;32m    471\u001b[0m ):\n\u001b[0;32m    472\u001b[0m     \u001b[38;5;124;03m\"\"\"Validate input data and set or check the `n_features_in_` attribute.\u001b[39;00m\n\u001b[0;32m    473\u001b[0m \n\u001b[0;32m    474\u001b[0m \u001b[38;5;124;03m    Parameters\u001b[39;00m\n\u001b[1;32m   (...)\u001b[0m\n\u001b[0;32m    527\u001b[0m \u001b[38;5;124;03m        validated.\u001b[39;00m\n\u001b[0;32m    528\u001b[0m \u001b[38;5;124;03m    \"\"\"\u001b[39;00m\n\u001b[1;32m--> 529\u001b[0m     \u001b[38;5;28;43mself\u001b[39;49m\u001b[38;5;241;43m.\u001b[39;49m\u001b[43m_check_feature_names\u001b[49m\u001b[43m(\u001b[49m\u001b[43mX\u001b[49m\u001b[43m,\u001b[49m\u001b[43m \u001b[49m\u001b[43mreset\u001b[49m\u001b[38;5;241;43m=\u001b[39;49m\u001b[43mreset\u001b[49m\u001b[43m)\u001b[49m\n\u001b[0;32m    531\u001b[0m     \u001b[38;5;28;01mif\u001b[39;00m y \u001b[38;5;129;01mis\u001b[39;00m \u001b[38;5;28;01mNone\u001b[39;00m \u001b[38;5;129;01mand\u001b[39;00m \u001b[38;5;28mself\u001b[39m\u001b[38;5;241m.\u001b[39m_get_tags()[\u001b[38;5;124m\"\u001b[39m\u001b[38;5;124mrequires_y\u001b[39m\u001b[38;5;124m\"\u001b[39m]:\n\u001b[0;32m    532\u001b[0m         \u001b[38;5;28;01mraise\u001b[39;00m \u001b[38;5;167;01mValueError\u001b[39;00m(\n\u001b[0;32m    533\u001b[0m             \u001b[38;5;124mf\u001b[39m\u001b[38;5;124m\"\u001b[39m\u001b[38;5;124mThis \u001b[39m\u001b[38;5;132;01m{\u001b[39;00m\u001b[38;5;28mself\u001b[39m\u001b[38;5;241m.\u001b[39m\u001b[38;5;18m__class__\u001b[39m\u001b[38;5;241m.\u001b[39m\u001b[38;5;18m__name__\u001b[39m\u001b[38;5;132;01m}\u001b[39;00m\u001b[38;5;124m estimator \u001b[39m\u001b[38;5;124m\"\u001b[39m\n\u001b[0;32m    534\u001b[0m             \u001b[38;5;124m\"\u001b[39m\u001b[38;5;124mrequires y to be passed, but the target y is None.\u001b[39m\u001b[38;5;124m\"\u001b[39m\n\u001b[0;32m    535\u001b[0m         )\n",
      "File \u001b[1;32m~\\AppData\\Local\\Programs\\Python\\Python311\\Lib\\site-packages\\sklearn\\base.py:462\u001b[0m, in \u001b[0;36mBaseEstimator._check_feature_names\u001b[1;34m(self, X, reset)\u001b[0m\n\u001b[0;32m    457\u001b[0m \u001b[38;5;28;01mif\u001b[39;00m \u001b[38;5;129;01mnot\u001b[39;00m missing_names \u001b[38;5;129;01mand\u001b[39;00m \u001b[38;5;129;01mnot\u001b[39;00m unexpected_names:\n\u001b[0;32m    458\u001b[0m     message \u001b[38;5;241m+\u001b[39m\u001b[38;5;241m=\u001b[39m (\n\u001b[0;32m    459\u001b[0m         \u001b[38;5;124m\"\u001b[39m\u001b[38;5;124mFeature names must be in the same order as they were in fit.\u001b[39m\u001b[38;5;130;01m\\n\u001b[39;00m\u001b[38;5;124m\"\u001b[39m\n\u001b[0;32m    460\u001b[0m     )\n\u001b[1;32m--> 462\u001b[0m \u001b[38;5;28;01mraise\u001b[39;00m \u001b[38;5;167;01mValueError\u001b[39;00m(message)\n",
      "\u001b[1;31mValueError\u001b[0m: The feature names should match those that were passed during fit.\nFeature names must be in the same order as they were in fit.\n"
     ]
    }
   ],
   "source": [
    "penLgr_pred_test = pen_lgr_best.predict(processed_test_data)"
   ]
  },
  {
   "cell_type": "code",
   "execution_count": null,
   "id": "88f37a66-1f20-449f-8094-ea27b9f43882",
   "metadata": {},
   "outputs": [],
   "source": []
  }
 ],
 "metadata": {
  "kernelspec": {
   "display_name": "Python 3 (ipykernel)",
   "language": "python",
   "name": "python3"
  },
  "language_info": {
   "codemirror_mode": {
    "name": "ipython",
    "version": 3
   },
   "file_extension": ".py",
   "mimetype": "text/x-python",
   "name": "python",
   "nbconvert_exporter": "python",
   "pygments_lexer": "ipython3",
   "version": "3.11.4"
  }
 },
 "nbformat": 4,
 "nbformat_minor": 5
}
